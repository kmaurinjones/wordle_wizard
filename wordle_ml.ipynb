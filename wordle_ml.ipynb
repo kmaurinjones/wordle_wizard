{
 "cells": [
  {
   "attachments": {},
   "cell_type": "markdown",
   "metadata": {},
   "source": [
    "## Imports"
   ]
  },
  {
   "cell_type": "code",
   "execution_count": 1,
   "metadata": {},
   "outputs": [],
   "source": [
    "import urllib.request # for downloading wordle words from source\n",
    "import numpy as np # for stats\n",
    "import random # for randomly generating target and start words\n",
    "import operator # for sorting letter frequency distribution\n",
    "import time # for #dramaticeffect\n",
    "import pandas as pd\n",
    "from nltk.corpus import movie_reviews, treebank, brown, gutenberg, switchboard"
   ]
  },
  {
   "cell_type": "markdown",
   "metadata": {},
   "source": [
    "## Importing datasets"
   ]
  },
  {
   "attachments": {},
   "cell_type": "markdown",
   "metadata": {},
   "source": [
    "### official words\n",
    "- official wordle word list"
   ]
  },
  {
   "cell_type": "code",
   "execution_count": 2,
   "metadata": {},
   "outputs": [
    {
     "name": "stdout",
     "output_type": "stream",
     "text": [
      "2310\n"
     ]
    },
    {
     "data": {
      "text/plain": [
       "['foist', 'dowdy', 'bleat', 'basis', 'tango']"
      ]
     },
     "execution_count": 2,
     "metadata": {},
     "output_type": "execute_result"
    }
   ],
   "source": [
    "### Official list\n",
    "official_words = []\n",
    "\n",
    "with open(\"data/official_words_processed.txt\", \"r\", encoding = \"utf-8\") as f:\n",
    "    for word in f.read().split(\"\\n\"):\n",
    "        official_words.append(word)\n",
    "\n",
    "f.close() # closes connection to file\n",
    "\n",
    "print(len(official_words))\n",
    "official_words[:5]"
   ]
  },
  {
   "attachments": {},
   "cell_type": "markdown",
   "metadata": {},
   "source": [
    "### alternative list 1\n",
    "- an alternate list of 5-letter words found on the web"
   ]
  },
  {
   "cell_type": "code",
   "execution_count": 3,
   "metadata": {},
   "outputs": [
    {
     "name": "stdout",
     "output_type": "stream",
     "text": [
      "14856\n"
     ]
    },
    {
     "data": {
      "text/plain": [
       "['rossa', 'jetty', 'wizzo', 'cuppa', 'cohoe']"
      ]
     },
     "execution_count": 3,
     "metadata": {},
     "output_type": "execute_result"
    }
   ],
   "source": [
    "### Official list\n",
    "alt_words_1 = []\n",
    "\n",
    "with open(\"data/alt_words_1.txt\", \"r\", encoding = \"utf-8\") as f:\n",
    "    for word in f.read().split(\"\\n\"):\n",
    "        alt_words_1.append(word)\n",
    "\n",
    "f.close() # closes connection to file\n",
    "\n",
    "print(len(alt_words_1))\n",
    "alt_words_1[:5]"
   ]
  },
  {
   "attachments": {},
   "cell_type": "markdown",
   "metadata": {},
   "source": [
    "### nltk grand corpus\n",
    "- Amalgamation of all words in various NLTK corpora to have as big a dataset as possible\n",
    "- Developed manually"
   ]
  },
  {
   "cell_type": "code",
   "execution_count": 4,
   "metadata": {},
   "outputs": [
    {
     "name": "stdout",
     "output_type": "stream",
     "text": [
      "535189\n"
     ]
    },
    {
     "data": {
      "text/plain": [
       "['years', 'board', 'dutch', 'group', 'agnew']"
      ]
     },
     "execution_count": 4,
     "metadata": {},
     "output_type": "execute_result"
    }
   ],
   "source": [
    "### grand corpus tokens\n",
    "nltk_tokens = []\n",
    "\n",
    "with open(\"data/nltk_grand_corpus_tokens.txt\", \"r\", encoding = \"utf-8\") as f:\n",
    "    for word in f.read().split(\"\\n\"):\n",
    "        nltk_tokens.append(word)\n",
    "\n",
    "f.close() # closes connection to file\n",
    "\n",
    "print(len(nltk_tokens))\n",
    "nltk_tokens[:5]"
   ]
  },
  {
   "cell_type": "markdown",
   "metadata": {},
   "source": [
    "### nltk grand corpus types and counts"
   ]
  },
  {
   "cell_type": "code",
   "execution_count": 5,
   "metadata": {},
   "outputs": [
    {
     "name": "stdout",
     "output_type": "stream",
     "text": [
      "8043\n"
     ]
    },
    {
     "data": {
      "text/plain": [
       "'15760'"
      ]
     },
     "execution_count": 5,
     "metadata": {},
     "output_type": "execute_result"
    }
   ],
   "source": [
    "### grand corpus types and counts\n",
    "nltk_counts = {}\n",
    "\n",
    "with open(\"data/nltk_grand_corpus_types_and_counts.txt\", \"r\", encoding = \"utf-8\") as f:\n",
    "    for line in f.read().split(\"\\n\"):\n",
    "        if len(line.split(\"\\t\")) == 2:\n",
    "            word = line.split(\"\\t\")[0]\n",
    "            count = line.split(\"\\t\")[1]\n",
    "            nltk_counts[word] = count\n",
    "        else:\n",
    "            continue\n",
    "\n",
    "f.close() # closes connection to file\n",
    "\n",
    "print(len(nltk_counts))\n",
    "nltk_counts['which']"
   ]
  },
  {
   "cell_type": "code",
   "execution_count": 6,
   "metadata": {},
   "outputs": [
    {
     "name": "stdout",
     "output_type": "stream",
     "text": [
      "2309\n"
     ]
    },
    {
     "data": {
      "text/plain": [
       "['foist',\n",
       " 'dowdy',\n",
       " 'bleat',\n",
       " 'basis',\n",
       " 'tango',\n",
       " 'eking',\n",
       " 'knead',\n",
       " 'power',\n",
       " 'dwell',\n",
       " 'bleep']"
      ]
     },
     "execution_count": 6,
     "metadata": {},
     "output_type": "execute_result"
    }
   ],
   "source": [
    "### Official list\n",
    "official_words = []\n",
    "\n",
    "with open(\"data/official_words_processed.txt\", \"r\", encoding = \"utf-8\") as f:\n",
    "    for word in f.read().split(\"\\n\"):\n",
    "        if len(word) > 0: # there's one blank entry at the start\n",
    "            official_words.append(word)\n",
    "\n",
    "f.close() # closes connection to file\n",
    "\n",
    "print(len(official_words))\n",
    "official_words[:10]"
   ]
  },
  {
   "attachments": {},
   "cell_type": "markdown",
   "metadata": {},
   "source": [
    "## ML"
   ]
  },
  {
   "cell_type": "code",
   "execution_count": 7,
   "metadata": {},
   "outputs": [
    {
     "data": {
      "text/html": [
       "<div>\n",
       "<style scoped>\n",
       "    .dataframe tbody tr th:only-of-type {\n",
       "        vertical-align: middle;\n",
       "    }\n",
       "\n",
       "    .dataframe tbody tr th {\n",
       "        vertical-align: top;\n",
       "    }\n",
       "\n",
       "    .dataframe thead th {\n",
       "        text-align: right;\n",
       "    }\n",
       "</style>\n",
       "<table border=\"1\" class=\"dataframe\">\n",
       "  <thead>\n",
       "    <tr style=\"text-align: right;\">\n",
       "      <th></th>\n",
       "      <th>first_guess</th>\n",
       "      <th>target_word</th>\n",
       "      <th>first_guess_vowels</th>\n",
       "      <th>first_guess_consonants</th>\n",
       "      <th>target_vowels</th>\n",
       "      <th>target_consonants</th>\n",
       "      <th>target_entropy</th>\n",
       "      <th>first_guess_entropy</th>\n",
       "      <th>target_guessed</th>\n",
       "      <th>mid_guesses_avg_vows</th>\n",
       "      <th>mid_guesses_avg_cons</th>\n",
       "      <th>avg_perf_letters</th>\n",
       "      <th>avg_wrong_pos_letters</th>\n",
       "      <th>avg_wrong_letters</th>\n",
       "      <th>avg_remaining</th>\n",
       "      <th>avg_intermediate_guess_entropy</th>\n",
       "      <th>luck</th>\n",
       "      <th>bias</th>\n",
       "      <th>valid_success</th>\n",
       "      <th>num_guesses</th>\n",
       "    </tr>\n",
       "  </thead>\n",
       "  <tbody>\n",
       "    <tr>\n",
       "      <th>0</th>\n",
       "      <td>detox</td>\n",
       "      <td>glide</td>\n",
       "      <td>2.0</td>\n",
       "      <td>3.0</td>\n",
       "      <td>2.0</td>\n",
       "      <td>3.0</td>\n",
       "      <td>63.75</td>\n",
       "      <td>58.53</td>\n",
       "      <td>True</td>\n",
       "      <td>2.25</td>\n",
       "      <td>2.75</td>\n",
       "      <td>4.0</td>\n",
       "      <td>12.0</td>\n",
       "      <td>14.0</td>\n",
       "      <td>27.00</td>\n",
       "      <td>89.63</td>\n",
       "      <td>0.69</td>\n",
       "      <td>entropy</td>\n",
       "      <td>True</td>\n",
       "      <td>4.0</td>\n",
       "    </tr>\n",
       "    <tr>\n",
       "      <th>1</th>\n",
       "      <td>whiff</td>\n",
       "      <td>glide</td>\n",
       "      <td>1.0</td>\n",
       "      <td>4.0</td>\n",
       "      <td>2.0</td>\n",
       "      <td>3.0</td>\n",
       "      <td>63.75</td>\n",
       "      <td>9.47</td>\n",
       "      <td>True</td>\n",
       "      <td>2.40</td>\n",
       "      <td>2.60</td>\n",
       "      <td>8.0</td>\n",
       "      <td>2.0</td>\n",
       "      <td>27.0</td>\n",
       "      <td>51.25</td>\n",
       "      <td>81.89</td>\n",
       "      <td>0.65</td>\n",
       "      <td>entropy</td>\n",
       "      <td>True</td>\n",
       "      <td>5.0</td>\n",
       "    </tr>\n",
       "    <tr>\n",
       "      <th>2</th>\n",
       "      <td>soggy</td>\n",
       "      <td>glide</td>\n",
       "      <td>2.0</td>\n",
       "      <td>3.0</td>\n",
       "      <td>2.0</td>\n",
       "      <td>3.0</td>\n",
       "      <td>63.75</td>\n",
       "      <td>29.40</td>\n",
       "      <td>True</td>\n",
       "      <td>2.25</td>\n",
       "      <td>2.75</td>\n",
       "      <td>4.0</td>\n",
       "      <td>9.0</td>\n",
       "      <td>16.0</td>\n",
       "      <td>27.33</td>\n",
       "      <td>82.35</td>\n",
       "      <td>0.71</td>\n",
       "      <td>entropy</td>\n",
       "      <td>True</td>\n",
       "      <td>4.0</td>\n",
       "    </tr>\n",
       "    <tr>\n",
       "      <th>3</th>\n",
       "      <td>front</td>\n",
       "      <td>glide</td>\n",
       "      <td>1.0</td>\n",
       "      <td>4.0</td>\n",
       "      <td>2.0</td>\n",
       "      <td>3.0</td>\n",
       "      <td>63.75</td>\n",
       "      <td>59.66</td>\n",
       "      <td>True</td>\n",
       "      <td>2.00</td>\n",
       "      <td>3.00</td>\n",
       "      <td>1.0</td>\n",
       "      <td>2.0</td>\n",
       "      <td>12.0</td>\n",
       "      <td>227.50</td>\n",
       "      <td>86.55</td>\n",
       "      <td>0.78</td>\n",
       "      <td>entropy</td>\n",
       "      <td>True</td>\n",
       "      <td>3.0</td>\n",
       "    </tr>\n",
       "    <tr>\n",
       "      <th>4</th>\n",
       "      <td>stein</td>\n",
       "      <td>glide</td>\n",
       "      <td>2.0</td>\n",
       "      <td>3.0</td>\n",
       "      <td>2.0</td>\n",
       "      <td>3.0</td>\n",
       "      <td>63.75</td>\n",
       "      <td>80.00</td>\n",
       "      <td>True</td>\n",
       "      <td>2.33</td>\n",
       "      <td>2.67</td>\n",
       "      <td>0.0</td>\n",
       "      <td>7.0</td>\n",
       "      <td>8.0</td>\n",
       "      <td>41.00</td>\n",
       "      <td>93.33</td>\n",
       "      <td>0.76</td>\n",
       "      <td>entropy</td>\n",
       "      <td>True</td>\n",
       "      <td>3.0</td>\n",
       "    </tr>\n",
       "  </tbody>\n",
       "</table>\n",
       "</div>"
      ],
      "text/plain": [
       "  first_guess target_word  first_guess_vowels  first_guess_consonants  \\\n",
       "0       detox       glide                 2.0                     3.0   \n",
       "1       whiff       glide                 1.0                     4.0   \n",
       "2       soggy       glide                 2.0                     3.0   \n",
       "3       front       glide                 1.0                     4.0   \n",
       "4       stein       glide                 2.0                     3.0   \n",
       "\n",
       "   target_vowels  target_consonants  target_entropy  first_guess_entropy  \\\n",
       "0            2.0                3.0           63.75                58.53   \n",
       "1            2.0                3.0           63.75                 9.47   \n",
       "2            2.0                3.0           63.75                29.40   \n",
       "3            2.0                3.0           63.75                59.66   \n",
       "4            2.0                3.0           63.75                80.00   \n",
       "\n",
       "   target_guessed  mid_guesses_avg_vows  mid_guesses_avg_cons  \\\n",
       "0            True                  2.25                  2.75   \n",
       "1            True                  2.40                  2.60   \n",
       "2            True                  2.25                  2.75   \n",
       "3            True                  2.00                  3.00   \n",
       "4            True                  2.33                  2.67   \n",
       "\n",
       "   avg_perf_letters  avg_wrong_pos_letters  avg_wrong_letters  avg_remaining  \\\n",
       "0               4.0                   12.0               14.0          27.00   \n",
       "1               8.0                    2.0               27.0          51.25   \n",
       "2               4.0                    9.0               16.0          27.33   \n",
       "3               1.0                    2.0               12.0         227.50   \n",
       "4               0.0                    7.0                8.0          41.00   \n",
       "\n",
       "   avg_intermediate_guess_entropy  luck     bias  valid_success  num_guesses  \n",
       "0                           89.63  0.69  entropy           True          4.0  \n",
       "1                           81.89  0.65  entropy           True          5.0  \n",
       "2                           82.35  0.71  entropy           True          4.0  \n",
       "3                           86.55  0.78  entropy           True          3.0  \n",
       "4                           93.33  0.76  entropy           True          3.0  "
      ]
     },
     "execution_count": 7,
     "metadata": {},
     "output_type": "execute_result"
    }
   ],
   "source": [
    "sims_df = pd.read_csv(\"data/sims_df_complete.csv\").drop(columns = \"Unnamed: 0\")\n",
    "sims_df.head()"
   ]
  },
  {
   "cell_type": "code",
   "execution_count": 8,
   "metadata": {},
   "outputs": [
    {
     "name": "stdout",
     "output_type": "stream",
     "text": [
      "Average guesses: 3.7764298093587523\n",
      "\n",
      "target_guessed\n",
      "True    1.0\n",
      "dtype: float64\n",
      "\n",
      "\n",
      "valid_success\n",
      "True    1.0\n",
      "dtype: float64\n",
      "\n",
      "\n",
      "num_guesses\n",
      "4.0    0.569757\n",
      "3.0    0.300260\n",
      "5.0    0.101386\n",
      "2.0    0.019931\n",
      "6.0    0.008232\n",
      "1.0    0.000433\n",
      "dtype: float64\n"
     ]
    }
   ],
   "source": [
    "print(f\"Average guesses: {sims_df['num_guesses'].mean()}\\n\")\n",
    "print(sims_df.value_counts(\"target_guessed\", normalize = True))\n",
    "print(\"\\n\")\n",
    "print(sims_df.value_counts(\"valid_success\", normalize = True))\n",
    "print(\"\\n\")\n",
    "print(sims_df.value_counts(\"num_guesses\", normalize = True))\n",
    "# sims_df.sort_values(by = \"num_guesses\", ascending = False)"
   ]
  }
 ],
 "metadata": {
  "kernelspec": {
   "display_name": "base",
   "language": "python",
   "name": "python3"
  },
  "language_info": {
   "codemirror_mode": {
    "name": "ipython",
    "version": 3
   },
   "file_extension": ".py",
   "mimetype": "text/x-python",
   "name": "python",
   "nbconvert_exporter": "python",
   "pygments_lexer": "ipython3",
   "version": "3.10.4"
  },
  "orig_nbformat": 4,
  "vscode": {
   "interpreter": {
    "hash": "3d597f4c481aa0f25dceb95d2a0067e73c0966dcbd003d741d821a7208527ecf"
   }
  }
 },
 "nbformat": 4,
 "nbformat_minor": 2
}
