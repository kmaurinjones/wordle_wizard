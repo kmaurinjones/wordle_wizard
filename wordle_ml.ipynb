{
 "cells": [
  {
   "attachments": {},
   "cell_type": "markdown",
   "metadata": {},
   "source": [
    "## Notebook imports\n",
    "- ipynb import documentation: https://ipynb.readthedocs.io/en/latest/, https://github.com/ipython/ipynb"
   ]
  },
  {
   "cell_type": "code",
   "execution_count": 10,
   "metadata": {},
   "outputs": [],
   "source": [
    "from ipynb.fs.full.wordle_functions import wordle_wizard # importing all functions from wordle_functions nb\n",
    "import urllib.request # for downloading wordle words from source\n",
    "import numpy as np # for stats\n",
    "import random # for randomly generating target and start words\n",
    "import operator # for sorting letter frequency distribution\n",
    "import time # for #dramaticeffect\n",
    "import pandas as pd\n",
    "from nltk.corpus import movie_reviews, treebank, brown, gutenberg, switchboard"
   ]
  },
  {
   "attachments": {},
   "cell_type": "markdown",
   "metadata": {},
   "source": [
    "## Importing datasets"
   ]
  },
  {
   "attachments": {},
   "cell_type": "markdown",
   "metadata": {},
   "source": [
    "### official words"
   ]
  },
  {
   "cell_type": "code",
   "execution_count": 2,
   "metadata": {},
   "outputs": [
    {
     "name": "stdout",
     "output_type": "stream",
     "text": [
      "2310\n"
     ]
    },
    {
     "data": {
      "text/plain": [
       "['comfy', 'elbow', 'folio', 'audit', 'blast']"
      ]
     },
     "execution_count": 2,
     "metadata": {},
     "output_type": "execute_result"
    }
   ],
   "source": [
    "### Official list\n",
    "official_words = []\n",
    "\n",
    "with open(\"data/official_words_processed.txt\", \"r\", encoding = \"utf-8\") as f:\n",
    "    for word in f.read().split(\"\\n\"):\n",
    "        official_words.append(word)\n",
    "\n",
    "f.close() # closes connection to file\n",
    "\n",
    "print(len(official_words))\n",
    "official_words[:5]"
   ]
  },
  {
   "attachments": {},
   "cell_type": "markdown",
   "metadata": {},
   "source": [
    "### alternative list 1"
   ]
  },
  {
   "cell_type": "code",
   "execution_count": 3,
   "metadata": {},
   "outputs": [
    {
     "name": "stdout",
     "output_type": "stream",
     "text": [
      "14856\n"
     ]
    },
    {
     "data": {
      "text/plain": [
       "['rossa', 'jetty', 'wizzo', 'cuppa', 'cohoe']"
      ]
     },
     "execution_count": 3,
     "metadata": {},
     "output_type": "execute_result"
    }
   ],
   "source": [
    "### Official list\n",
    "alt_words_1 = []\n",
    "\n",
    "with open(\"data/alt_words_1.txt\", \"r\", encoding = \"utf-8\") as f:\n",
    "    for word in f.read().split(\"\\n\"):\n",
    "        alt_words_1.append(word)\n",
    "\n",
    "f.close() # closes connection to file\n",
    "\n",
    "print(len(alt_words_1))\n",
    "alt_words_1[:5]"
   ]
  },
  {
   "attachments": {},
   "cell_type": "markdown",
   "metadata": {},
   "source": [
    "### nltk grand corpus\n",
    "- Amalgamation of all words in various NLTK corpora to have as big a dataset as possible"
   ]
  },
  {
   "cell_type": "code",
   "execution_count": 4,
   "metadata": {},
   "outputs": [
    {
     "name": "stdout",
     "output_type": "stream",
     "text": [
      "535189\n"
     ]
    },
    {
     "data": {
      "text/plain": [
       "['years', 'board', 'dutch', 'group', 'agnew']"
      ]
     },
     "execution_count": 4,
     "metadata": {},
     "output_type": "execute_result"
    }
   ],
   "source": [
    "### grand corpus tokens\n",
    "nltk_tokens = []\n",
    "\n",
    "with open(\"data/nltk_grand_corpus_tokens.txt\", \"r\", encoding = \"utf-8\") as f:\n",
    "    for word in f.read().split(\"\\n\"):\n",
    "        nltk_tokens.append(word)\n",
    "\n",
    "f.close() # closes connection to file\n",
    "\n",
    "print(len(nltk_tokens))\n",
    "nltk_tokens[:5]"
   ]
  },
  {
   "attachments": {},
   "cell_type": "markdown",
   "metadata": {},
   "source": [
    "### nltk grand corpus types and counts"
   ]
  },
  {
   "cell_type": "code",
   "execution_count": 5,
   "metadata": {},
   "outputs": [
    {
     "name": "stdout",
     "output_type": "stream",
     "text": [
      "8043\n"
     ]
    },
    {
     "data": {
      "text/plain": [
       "'15760'"
      ]
     },
     "execution_count": 5,
     "metadata": {},
     "output_type": "execute_result"
    }
   ],
   "source": [
    "### grand corpus types and counts\n",
    "nltk_counts = {}\n",
    "\n",
    "with open(\"data/nltk_grand_corpus_types_and_counts.txt\", \"r\", encoding = \"utf-8\") as f:\n",
    "    for line in f.read().split(\"\\n\"):\n",
    "        if len(line.split(\"\\t\")) == 2:\n",
    "            word = line.split(\"\\t\")[0]\n",
    "            count = line.split(\"\\t\")[1]\n",
    "            nltk_counts[word] = count\n",
    "        else:\n",
    "            continue\n",
    "\n",
    "f.close() # closes connection to file\n",
    "\n",
    "print(len(nltk_counts))\n",
    "nltk_counts['which']"
   ]
  },
  {
   "attachments": {},
   "cell_type": "markdown",
   "metadata": {},
   "source": [
    "## Simluations"
   ]
  },
  {
   "cell_type": "code",
   "execution_count": 6,
   "metadata": {},
   "outputs": [],
   "source": [
    "# ## 13:45min for 1 guess word, all target words, 3 biases\n",
    "\n",
    "# excepts = []\n",
    "\n",
    "# for word in official_words:\n",
    "\n",
    "#     for bias_option in [\"entropy\", \"rare\", \"common\", \"no_bias\"]:\n",
    "\n",
    "#         try:\n",
    "#             complete = wordle_wizard(word_list = official_words, max_guesses = 15, \n",
    "#                 guess = \"later\", target = word, bias = bias_option,\n",
    "#                 random_guess = False, random_target = False, \n",
    "#                 verbose = False, drama = 0, return_stats = True)\n",
    "            \n",
    "#         except:\n",
    "#             IndexError\n",
    "#             excepts.append((complete[\"first_guess\"], complete[\"target_word\"]))\n",
    "\n",
    "#         for metric, result in complete.items():\n",
    "#             if metric in stats_dict.keys():\n",
    "#                 stats_master[metric].append(result)\n",
    "#             else:\n",
    "#                 stats_master[metric] = []\n",
    "                \n",
    "# sims_df = pd.DataFrame(stats_master)\n",
    "# # sims_df"
   ]
  },
  {
   "cell_type": "code",
   "execution_count": 7,
   "metadata": {},
   "outputs": [
    {
     "ename": "NameError",
     "evalue": "name 'excepts' is not defined",
     "output_type": "error",
     "traceback": [
      "\u001b[0;31m---------------------------------------------------------------------------\u001b[0m",
      "\u001b[0;31mNameError\u001b[0m                                 Traceback (most recent call last)",
      "\u001b[1;32m/Users/kmaurinjones/Desktop/data_science/data_science_projects/Solving_Wordle/wordle_ml.ipynb Cell 14\u001b[0m in \u001b[0;36m<cell line: 1>\u001b[0;34m()\u001b[0m\n\u001b[0;32m----> <a href='vscode-notebook-cell:/Users/kmaurinjones/Desktop/data_science/data_science_projects/Solving_Wordle/wordle_ml.ipynb#Y112sZmlsZQ%3D%3D?line=0'>1</a>\u001b[0m excepts\n",
      "\u001b[0;31mNameError\u001b[0m: name 'excepts' is not defined"
     ]
    }
   ],
   "source": [
    "excepts"
   ]
  },
  {
   "cell_type": "code",
   "execution_count": null,
   "metadata": {},
   "outputs": [],
   "source": [
    "sims_df_valid = sims_df.query(\"valid_success == True\")\n",
    "# sims_df_valid"
   ]
  },
  {
   "cell_type": "code",
   "execution_count": null,
   "metadata": {},
   "outputs": [],
   "source": [
    "# sims_df = pd.DataFrame(stats_master)\n",
    "print(sims_df.value_counts(\"target_guessed\", normalize = True))\n",
    "print(\"-----\")\n",
    "print(sims_df.value_counts(\"valid_success\", normalize = True))\n",
    "print(\"-----\")\n",
    "print(sims_df.value_counts(\"num_guesses\", normalize = True))\n",
    "sims_df.sort_values(by = \"num_guesses\", ascending = False)"
   ]
  },
  {
   "cell_type": "code",
   "execution_count": null,
   "metadata": {},
   "outputs": [],
   "source": [
    "print(sims_df.query(\"bias == 'entropy'\")['num_guesses'].mean())\n",
    "print(sims_df.query(\"bias == 'rare'\")['num_guesses'].mean())\n",
    "print(sims_df.query(\"bias == 'common'\")['num_guesses'].mean())\n",
    "print(sims_df.query(\"bias == 'no_bias'\")['num_guesses'].mean())"
   ]
  },
  {
   "cell_type": "code",
   "execution_count": null,
   "metadata": {},
   "outputs": [],
   "source": [
    "# arose_df = sims_df.query(\"first_guess == 'arose' & valid_success == True & bias == 'entropy'\")\n",
    "# print(round(arose_df['num_guesses'].mean(), 2))\n",
    "# arose_df"
   ]
  },
  {
   "cell_type": "code",
   "execution_count": null,
   "metadata": {},
   "outputs": [],
   "source": [
    "# arose_df = sims_df.query(\"first_guess == 'arose' & valid_success == True & bias == None\")\n",
    "# print(round(adore_df['num_guesses'].mean(), 2))\n",
    "# adore_df"
   ]
  },
  {
   "cell_type": "code",
   "execution_count": null,
   "metadata": {},
   "outputs": [],
   "source": [
    "# opera_df = sims_df.query(\"first_guess == 'arose' & valid_success == True & bias == 'entropy'\")\n",
    "# print(round(opera_df['num_guesses'].mean(), 2))\n",
    "# opera_df"
   ]
  },
  {
   "cell_type": "code",
   "execution_count": null,
   "metadata": {},
   "outputs": [],
   "source": [
    "# opera_df = sims_df.query(\"first_guess == 'opera' & valid_success == True & bias == None\")\n",
    "# print(round(opera_df['num_guesses'].mean(), 2))\n",
    "# opera_df"
   ]
  }
 ],
 "metadata": {
  "kernelspec": {
   "display_name": "base",
   "language": "python",
   "name": "python3"
  },
  "language_info": {
   "codemirror_mode": {
    "name": "ipython",
    "version": 3
   },
   "file_extension": ".py",
   "mimetype": "text/x-python",
   "name": "python",
   "nbconvert_exporter": "python",
   "pygments_lexer": "ipython3",
   "version": "3.10.4"
  },
  "orig_nbformat": 4,
  "vscode": {
   "interpreter": {
    "hash": "3d597f4c481aa0f25dceb95d2a0067e73c0966dcbd003d741d821a7208527ecf"
   }
  }
 },
 "nbformat": 4,
 "nbformat_minor": 2
}
