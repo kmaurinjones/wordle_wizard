{
 "cells": [
  {
   "attachments": {},
   "cell_type": "markdown",
   "metadata": {},
   "source": [
    "## Imports"
   ]
  },
  {
   "cell_type": "code",
   "execution_count": 1,
   "metadata": {},
   "outputs": [],
   "source": [
    "import numpy as np\n",
    "import random\n",
    "import operator\n",
    "import time\n",
    "import pandas as pd\n",
    "from wordle_functions import *"
   ]
  },
  {
   "cell_type": "markdown",
   "metadata": {},
   "source": [
    "## Importing datasets"
   ]
  },
  {
   "attachments": {},
   "cell_type": "markdown",
   "metadata": {},
   "source": [
    "### official words\n",
    "- official wordle word list"
   ]
  },
  {
   "cell_type": "code",
   "execution_count": 2,
   "metadata": {},
   "outputs": [
    {
     "name": "stdout",
     "output_type": "stream",
     "text": [
      "2310\n"
     ]
    },
    {
     "data": {
      "text/plain": [
       "['wince', 'thyme', 'mower', 'horde', 'heard']"
      ]
     },
     "execution_count": 2,
     "metadata": {},
     "output_type": "execute_result"
    }
   ],
   "source": [
    "### Official list\n",
    "official_words = []\n",
    "\n",
    "with open(\"data/official_words_processed.txt\", \"r\", encoding = \"utf-8\") as f:\n",
    "    for word in f.read().split(\"\\n\"):\n",
    "        official_words.append(word)\n",
    "\n",
    "f.close() # closes connection to file\n",
    "\n",
    "print(len(official_words))\n",
    "official_words[:5]"
   ]
  },
  {
   "attachments": {},
   "cell_type": "markdown",
   "metadata": {},
   "source": [
    "### alternative list 1\n",
    "- an alternate list of 5-letter words found on the web"
   ]
  },
  {
   "cell_type": "code",
   "execution_count": 3,
   "metadata": {},
   "outputs": [
    {
     "name": "stdout",
     "output_type": "stream",
     "text": [
      "14856\n"
     ]
    },
    {
     "data": {
      "text/plain": [
       "['rossa', 'jetty', 'wizzo', 'cuppa', 'cohoe']"
      ]
     },
     "execution_count": 3,
     "metadata": {},
     "output_type": "execute_result"
    }
   ],
   "source": [
    "### Official list\n",
    "alt_words_1 = []\n",
    "\n",
    "with open(\"data/alt_words_1.txt\", \"r\", encoding = \"utf-8\") as f:\n",
    "    for word in f.read().split(\"\\n\"):\n",
    "        alt_words_1.append(word)\n",
    "\n",
    "f.close() # closes connection to file\n",
    "\n",
    "print(len(alt_words_1))\n",
    "alt_words_1[:5]"
   ]
  },
  {
   "attachments": {},
   "cell_type": "markdown",
   "metadata": {},
   "source": [
    "### nltk grand corpus\n",
    "- Amalgamation of all words in various NLTK corpora to have as big a dataset as possible\n",
    "- Developed manually"
   ]
  },
  {
   "cell_type": "code",
   "execution_count": 4,
   "metadata": {},
   "outputs": [
    {
     "name": "stdout",
     "output_type": "stream",
     "text": [
      "535189\n"
     ]
    },
    {
     "data": {
      "text/plain": [
       "['years', 'board', 'dutch', 'group', 'agnew']"
      ]
     },
     "execution_count": 4,
     "metadata": {},
     "output_type": "execute_result"
    }
   ],
   "source": [
    "### grand corpus tokens\n",
    "nltk_tokens = []\n",
    "\n",
    "with open(\"data/nltk_grand_corpus_tokens_5.txt\", \"r\", encoding = \"utf-8\") as f:\n",
    "    for word in f.read().split(\"\\n\"):\n",
    "        nltk_tokens.append(word)\n",
    "\n",
    "f.close() # closes connection to file\n",
    "\n",
    "print(len(nltk_tokens))\n",
    "nltk_tokens[:5]"
   ]
  },
  {
   "cell_type": "markdown",
   "metadata": {},
   "source": [
    "### nltk grand corpus types and counts"
   ]
  },
  {
   "cell_type": "code",
   "execution_count": 5,
   "metadata": {},
   "outputs": [
    {
     "name": "stdout",
     "output_type": "stream",
     "text": [
      "8043\n"
     ]
    },
    {
     "data": {
      "text/plain": [
       "'15760'"
      ]
     },
     "execution_count": 5,
     "metadata": {},
     "output_type": "execute_result"
    }
   ],
   "source": [
    "### grand corpus types and counts\n",
    "nltk_counts = {}\n",
    "\n",
    "with open(\"data/nltk_grand_corpus_types_and_counts_5.txt\", \"r\", encoding = \"utf-8\") as f:\n",
    "    for line in f.read().split(\"\\n\"):\n",
    "        if len(line.split(\"\\t\")) == 2:\n",
    "            word = line.split(\"\\t\")[0]\n",
    "            count = line.split(\"\\t\")[1]\n",
    "            nltk_counts[word] = count\n",
    "        else:\n",
    "            continue\n",
    "\n",
    "f.close() # closes connection to file\n",
    "\n",
    "print(len(nltk_counts))\n",
    "nltk_counts['which']"
   ]
  },
  {
   "cell_type": "code",
   "execution_count": 6,
   "metadata": {},
   "outputs": [
    {
     "name": "stdout",
     "output_type": "stream",
     "text": [
      "2309\n"
     ]
    },
    {
     "data": {
      "text/plain": [
       "['wince',\n",
       " 'thyme',\n",
       " 'mower',\n",
       " 'horde',\n",
       " 'heard',\n",
       " 'tenor',\n",
       " 'zonal',\n",
       " 'parry',\n",
       " 'shied',\n",
       " 'fizzy']"
      ]
     },
     "execution_count": 6,
     "metadata": {},
     "output_type": "execute_result"
    }
   ],
   "source": [
    "### Official list\n",
    "official_words = []\n",
    "\n",
    "with open(\"data/official_words_processed.txt\", \"r\", encoding = \"utf-8\") as f:\n",
    "    for word in f.read().split(\"\\n\"):\n",
    "        if len(word) > 0: # there's one blank entry at the start\n",
    "            official_words.append(word)\n",
    "\n",
    "f.close() # closes connection to file\n",
    "\n",
    "print(len(official_words))\n",
    "official_words[:10]"
   ]
  },
  {
   "attachments": {},
   "cell_type": "markdown",
   "metadata": {},
   "source": [
    "## Wordle functions + Testing"
   ]
  },
  {
   "attachments": {},
   "cell_type": "markdown",
   "metadata": {},
   "source": [
    "### Testing `wordle_wizard()`"
   ]
  },
  {
   "cell_type": "code",
   "execution_count": 7,
   "metadata": {},
   "outputs": [
    {
     "name": "stdout",
     "output_type": "stream",
     "text": [
      "-----------------------------\n",
      "\n",
      "Guess 1: 'paint'\n",
      "Letters in correct positions:\n",
      "\t[]\n",
      "\n",
      "Letters in incorrect positions:\n",
      "\t[]\n",
      "\n",
      "Letters to guess again:\n",
      "\t[]\n",
      "\n",
      "Letters to not guess again:\n",
      "\t['a', 'i', 'n', 'p', 't']\n",
      "\n",
      "At this point:\n",
      "\t1919, 83.11% of total words have been eliminated, and\n",
      "\t390, 16.89% of total words remain possible.\n",
      "\n",
      "Next guess:\n",
      "\t'loser'\n",
      "\n",
      "-----------------------------\n",
      "\n",
      "Guess 2: 'loser'\n",
      "Letters in correct positions:\n",
      "\t[('o', 1)]\n",
      "\n",
      "Letters in incorrect positions:\n",
      "\t[('e', 3), ('r', 4)]\n",
      "\n",
      "Letters to guess again:\n",
      "\t['e', 'o', 'r']\n",
      "\n",
      "Letters to not guess again:\n",
      "\t['a', 'i', 'l', 'n', 'p', 's', 't']\n",
      "\n",
      "At this point:\n",
      "\t2303, 99.74% of total words have been eliminated, and\n",
      "\t6, 0.26% of total words remain possible.\n",
      "\n",
      "Next guess:\n",
      "\t'horde'\n",
      "\n",
      "-----------------------------\n",
      "\n",
      "Guess 3: 'horde'\n",
      "Letters in correct positions:\n",
      "\t[('o', 1), ('r', 2), ('e', 4)]\n",
      "\n",
      "Letters in incorrect positions:\n",
      "\t[('e', 3), ('r', 4)]\n",
      "\n",
      "Letters to guess again:\n",
      "\t['e', 'o', 'r']\n",
      "\n",
      "Letters to not guess again:\n",
      "\t['a', 'd', 'h', 'i', 'l', 'n', 'p', 's', 't']\n",
      "\n",
      "At this point:\n",
      "\t2306, 99.87% of total words have been eliminated, and\n",
      "\t3, 0.13% of total words remain possible.\n",
      "\n",
      "Next guess:\n",
      "\t'force'\n",
      "\n",
      "-----------------------------\n",
      "\n",
      "Guess 4: 'force'\n",
      "\n",
      "Congratulations! The Wordle has been solved in 4 guesses!\n",
      "There were still 2 guesses remaining.\n",
      "\n",
      "The target word was 'force'.\n",
      "\n",
      "-----------------------------\n"
     ]
    }
   ],
   "source": [
    "test_1 = wordle_wizard(word_list = official_words, max_guesses = 6, \n",
    "                guess = \"paint\", target = \"force\",\n",
    "                random_guess = False, random_target = False, \n",
    "                verbose = True, drama = 0, return_stats = False, record = True)\n",
    "# get_letter_counts(word_list = word_list, letters = english_alphabet, sort = \"descending\")"
   ]
  },
  {
   "cell_type": "code",
   "execution_count": 8,
   "metadata": {},
   "outputs": [
    {
     "name": "stdout",
     "output_type": "stream",
     "text": [
      "-----------------------------\n",
      "\n",
      "Guess 1: 'arose'\n",
      "Guess 2: 'shirt'\n",
      "Guess 3: 'surly'\n",
      "Guess 4: 'syrup'\n",
      "\n",
      "Congratulations! The Wordle has been solved in 4 guesses!\n",
      "There were still 2 guesses remaining.\n",
      "\n",
      "The target word was 'syrup'.\n",
      "\n",
      "-----------------------------\n",
      "-----------------------------\n",
      "\n",
      "Guess 1: 'arose'\n",
      "Letters in correct positions:\n",
      "\t[]\n",
      "\n",
      "Letters in incorrect positions:\n",
      "\t[('r', 1), ('s', 3)]\n",
      "\n",
      "Letters to guess again:\n",
      "\t['r', 's']\n",
      "\n",
      "Letters to not guess again:\n",
      "\t['a', 'e', 'o']\n",
      "\n",
      "At this point:\n",
      "\t2288, 99.09% of total words have been eliminated, and\n",
      "\t21, 0.91% of total words remain possible.\n",
      "\n",
      "Next guess:\n",
      "\t'shirt'\n",
      "\n",
      "-----------------------------\n",
      "\n",
      "Guess 2: 'shirt'\n",
      "Letters in correct positions:\n",
      "\t[('s', 0)]\n",
      "\n",
      "Letters in incorrect positions:\n",
      "\t[('r', 1), ('s', 3), ('r', 3)]\n",
      "\n",
      "Letters to guess again:\n",
      "\t['r', 's']\n",
      "\n",
      "Letters to not guess again:\n",
      "\t['a', 'e', 'h', 'i', 'o', 't']\n",
      "\n",
      "At this point:\n",
      "\t2305, 99.83% of total words have been eliminated, and\n",
      "\t4, 0.17% of total words remain possible.\n",
      "\n",
      "Next guess:\n",
      "\t'surly'\n",
      "\n",
      "-----------------------------\n",
      "\n",
      "Guess 3: 'surly'\n",
      "Letters in correct positions:\n",
      "\t[('s', 0), ('r', 2)]\n",
      "\n",
      "Letters in incorrect positions:\n",
      "\t[('r', 1), ('u', 1), ('s', 3), ('r', 3), ('y', 4)]\n",
      "\n",
      "Letters to guess again:\n",
      "\t['r', 's', 'u', 'y']\n",
      "\n",
      "Letters to not guess again:\n",
      "\t['a', 'e', 'h', 'i', 'l', 'o', 't']\n",
      "\n",
      "At this point:\n",
      "\t2308, 99.96% of total words have been eliminated, and\n",
      "\t1, 0.04% of total words remain possible.\n",
      "\n",
      "The only remaining possible word is:\n",
      "\t'syrup'\n",
      "\n",
      "Next guess:\n",
      "\t'syrup'\n",
      "\n",
      "-----------------------------\n",
      "\n",
      "Guess 4: 'syrup'\n",
      "\n",
      "Congratulations! The Wordle has been solved in 4 guesses!\n",
      "There were still 2 guesses remaining.\n",
      "\n",
      "The target word was 'syrup'.\n",
      "\n",
      "-----------------------------\n"
     ]
    }
   ],
   "source": [
    "for val in [False, True]:\n",
    "        wordle_wizard(word_list = official_words, max_guesses = 6, \n",
    "                guess = \"arose\", target = \"syrup\",\n",
    "                random_guess = False, random_target = False, \n",
    "                verbose = val, drama = 0, return_stats = False, record = True)"
   ]
  },
  {
   "attachments": {},
   "cell_type": "markdown",
   "metadata": {},
   "source": [
    "### Testing on 3-letter words"
   ]
  },
  {
   "cell_type": "code",
   "execution_count": 9,
   "metadata": {},
   "outputs": [
    {
     "name": "stdout",
     "output_type": "stream",
     "text": [
      "1531\n",
      "['the', 'and', 'for', 'his', 'was']\n"
     ]
    },
    {
     "data": {
      "text/plain": [
       "'286732'"
      ]
     },
     "execution_count": 9,
     "metadata": {},
     "output_type": "execute_result"
    }
   ],
   "source": [
    "### 3 letters\n",
    "words_3_letters = []\n",
    "words_3_types_counts = {}\n",
    "\n",
    "with open(\"data/nltk_grand_corpus_types_and_counts_3.txt\", \"r\", encoding = \"utf-8\") as f:\n",
    "    for line in f.read().split(\"\\n\"):\n",
    "        word_freq = line.split(\"\\t\")\n",
    "        if len(word_freq) == 2: # how many items are in each line, NOT the len of the word in the line\n",
    "            word = word_freq[0]\n",
    "            freq = word_freq[1]\n",
    "            if word.isascii() == True:\n",
    "                words_3_letters.append(word)\n",
    "                words_3_types_counts[word] = freq\n",
    "\n",
    "f.close() # closes connection to file\n",
    "\n",
    "print(len(words_3_letters))\n",
    "print(words_3_letters[:5])\n",
    "words_3_types_counts['the']"
   ]
  },
  {
   "cell_type": "code",
   "execution_count": 10,
   "metadata": {},
   "outputs": [
    {
     "name": "stdout",
     "output_type": "stream",
     "text": [
      "-----------------------------\n",
      "\n",
      "Guess 1: 'the'\n",
      "Guess 2: 'hoa'\n",
      "Guess 3: 'his'\n",
      "\n",
      "Congratulations! The Wordle has been solved in 3 guesses!\n",
      "There were still 3 guesses remaining.\n",
      "\n",
      "The target word was 'his'.\n",
      "\n",
      "-----------------------------\n"
     ]
    }
   ],
   "source": [
    "wordle_wizard(word_list = words_3_letters, max_guesses = 6, \n",
    "                guess = \"the\", target = \"his\",\n",
    "                random_guess = False, random_target = False, \n",
    "                verbose = False, drama = 0, return_stats = False, record = True)"
   ]
  },
  {
   "attachments": {},
   "cell_type": "markdown",
   "metadata": {},
   "source": [
    "### Testing on 4-letter words"
   ]
  },
  {
   "cell_type": "code",
   "execution_count": 11,
   "metadata": {},
   "outputs": [
    {
     "name": "stdout",
     "output_type": "stream",
     "text": [
      "4266\n",
      "['that', 'with', 'this', 'they', 'have']\n"
     ]
    },
    {
     "data": {
      "text/plain": [
       "'57994'"
      ]
     },
     "execution_count": 11,
     "metadata": {},
     "output_type": "execute_result"
    }
   ],
   "source": [
    "### 3 letters\n",
    "words_4_letters = []\n",
    "words_4_types_counts = {}\n",
    "\n",
    "with open(\"data/nltk_grand_corpus_types_and_counts_4.txt\", \"r\", encoding = \"utf-8\") as f:\n",
    "    for line in f.read().split(\"\\n\"):\n",
    "        word_freq = line.split(\"\\t\")\n",
    "        if len(word_freq) == 2: # how many items are in each line, NOT the len of the word in the line\n",
    "            word = word_freq[0]\n",
    "            freq = word_freq[1]\n",
    "            if word.isascii() == True:\n",
    "                words_4_letters.append(word)\n",
    "                words_4_types_counts[word] = freq\n",
    "\n",
    "f.close() # closes connection to file\n",
    "\n",
    "print(len(words_4_letters))\n",
    "print(words_4_letters[:5])\n",
    "words_4_types_counts['that']"
   ]
  },
  {
   "attachments": {},
   "cell_type": "markdown",
   "metadata": {},
   "source": [
    "### Testing on 6-letter words"
   ]
  },
  {
   "cell_type": "code",
   "execution_count": 12,
   "metadata": {},
   "outputs": [
    {
     "name": "stdout",
     "output_type": "stream",
     "text": [
      "11290\n",
      "['little', 'before', 'people', 'should', 'things']\n"
     ]
    },
    {
     "data": {
      "text/plain": [
       "'5543'"
      ]
     },
     "execution_count": 12,
     "metadata": {},
     "output_type": "execute_result"
    }
   ],
   "source": [
    "### 6 letters\n",
    "words_6_letters = []\n",
    "words_6_types_counts = {}\n",
    "\n",
    "with open(\"data/nltk_grand_corpus_types_and_counts_6.txt\", \"r\", encoding = \"utf-8\") as f:\n",
    "    for line in f.read().split(\"\\n\"):\n",
    "        word_freq = line.split(\"\\t\")\n",
    "        if len(word_freq) == 2: # how many items are in each line, NOT the len of the word in the line\n",
    "            word = word_freq[0]\n",
    "            freq = word_freq[1]\n",
    "            if word.isascii() == True:\n",
    "                words_6_letters.append(word)\n",
    "                words_6_types_counts[word] = freq\n",
    "\n",
    "f.close() # closes connection to file\n",
    "\n",
    "print(len(words_6_letters))\n",
    "print(words_6_letters[:5])\n",
    "words_6_types_counts[words_6_letters[0]]"
   ]
  },
  {
   "attachments": {},
   "cell_type": "markdown",
   "metadata": {},
   "source": [
    "### Testing on 7-letter words"
   ]
  },
  {
   "cell_type": "code",
   "execution_count": 13,
   "metadata": {},
   "outputs": [
    {
     "name": "stdout",
     "output_type": "stream",
     "text": [
      "12566\n",
      "['because', 'through', 'against', 'another', 'himself']\n"
     ]
    },
    {
     "data": {
      "text/plain": [
       "'4809'"
      ]
     },
     "execution_count": 13,
     "metadata": {},
     "output_type": "execute_result"
    }
   ],
   "source": [
    "### 7 letters\n",
    "words_7_letters = []\n",
    "words_7_types_counts = {}\n",
    "\n",
    "with open(\"data/nltk_grand_corpus_types_and_counts_7.txt\", \"r\", encoding = \"utf-8\") as f:\n",
    "    for line in f.read().split(\"\\n\"):\n",
    "        word_freq = line.split(\"\\t\")\n",
    "        if len(word_freq) == 2: # how many items are in each line, NOT the len of the word in the line\n",
    "            word = word_freq[0]\n",
    "            freq = word_freq[1]\n",
    "            if word.isascii() == True:\n",
    "                words_7_letters.append(word)\n",
    "                words_7_types_counts[word] = freq\n",
    "\n",
    "f.close() # closes connection to file\n",
    "\n",
    "print(len(words_7_letters))\n",
    "print(words_7_letters[:5])\n",
    "words_7_types_counts[words_7_letters[0]]"
   ]
  },
  {
   "attachments": {},
   "cell_type": "markdown",
   "metadata": {},
   "source": [
    "### Testing on 8-letter words"
   ]
  },
  {
   "cell_type": "code",
   "execution_count": 14,
   "metadata": {},
   "outputs": [
    {
     "name": "stdout",
     "output_type": "stream",
     "text": [
      "11650\n",
      "['children', 'together', 'director', 'anything', 'american']\n"
     ]
    },
    {
     "data": {
      "text/plain": [
       "'3012'"
      ]
     },
     "execution_count": 14,
     "metadata": {},
     "output_type": "execute_result"
    }
   ],
   "source": [
    "### 8 letters\n",
    "words_8_letters = []\n",
    "words_8_types_counts = {}\n",
    "\n",
    "with open(\"data/nltk_grand_corpus_types_and_counts_8.txt\", \"r\", encoding = \"utf-8\") as f:\n",
    "    for line in f.read().split(\"\\n\"):\n",
    "        word_freq = line.split(\"\\t\")\n",
    "        if len(word_freq) == 2: # how many items are in each line, NOT the len of the word in the line\n",
    "            word = word_freq[0]\n",
    "            freq = word_freq[1]\n",
    "            if word.isascii() == True:\n",
    "                words_8_letters.append(word)\n",
    "                words_8_types_counts[word] = freq\n",
    "\n",
    "f.close() # closes connection to file\n",
    "\n",
    "print(len(words_8_letters))\n",
    "print(words_8_letters[:5])\n",
    "words_8_types_counts[words_8_letters[0]]"
   ]
  },
  {
   "attachments": {},
   "cell_type": "markdown",
   "metadata": {},
   "source": [
    "### Testing on 9-letter words"
   ]
  },
  {
   "cell_type": "code",
   "execution_count": 15,
   "metadata": {},
   "outputs": [
    {
     "name": "stdout",
     "output_type": "stream",
     "text": [
      "9716\n",
      "['something', 'character', 'therefore', 'according', 'different']\n"
     ]
    },
    {
     "data": {
      "text/plain": [
       "'2621'"
      ]
     },
     "execution_count": 15,
     "metadata": {},
     "output_type": "execute_result"
    }
   ],
   "source": [
    "### 9 letters\n",
    "words_9_letters = []\n",
    "words_9_types_counts = {}\n",
    "\n",
    "with open(\"data/nltk_grand_corpus_types_and_counts_9.txt\", \"r\", encoding = \"utf-8\") as f:\n",
    "    for line in f.read().split(\"\\n\"):\n",
    "        word_freq = line.split(\"\\t\")\n",
    "        if len(word_freq) == 2: # how many items are in each line, NOT the len of the word in the line\n",
    "            word = word_freq[0]\n",
    "            freq = word_freq[1]\n",
    "            if word.isascii() == True:\n",
    "                words_9_letters.append(word)\n",
    "                words_9_types_counts[word] = freq\n",
    "\n",
    "f.close() # closes connection to file\n",
    "\n",
    "print(len(words_9_letters))\n",
    "print(words_9_letters[:5])\n",
    "words_9_types_counts[words_9_letters[0]]"
   ]
  },
  {
   "attachments": {},
   "cell_type": "markdown",
   "metadata": {},
   "source": [
    "### Testing on 10-letter words"
   ]
  },
  {
   "cell_type": "code",
   "execution_count": 16,
   "metadata": {},
   "outputs": [
    {
     "name": "stdout",
     "output_type": "stream",
     "text": [
      "7200\n",
      "['characters', 'themselves', 'everything', 'especially', 'understand']\n"
     ]
    },
    {
     "data": {
      "text/plain": [
       "'1929'"
      ]
     },
     "execution_count": 16,
     "metadata": {},
     "output_type": "execute_result"
    }
   ],
   "source": [
    "### 10 letters\n",
    "words_10_letters = []\n",
    "words_10_types_counts = {}\n",
    "\n",
    "with open(\"data/nltk_grand_corpus_types_and_counts_10.txt\", \"r\", encoding = \"utf-8\") as f:\n",
    "    for line in f.read().split(\"\\n\"):\n",
    "        word_freq = line.split(\"\\t\")\n",
    "        if len(word_freq) == 2: # how many items are in each line, NOT the len of the word in the line\n",
    "            word = word_freq[0]\n",
    "            freq = word_freq[1]\n",
    "            if word.isascii() == True:\n",
    "                words_10_letters.append(word)\n",
    "                words_10_types_counts[word] = freq\n",
    "\n",
    "f.close() # closes connection to file\n",
    "\n",
    "print(len(words_10_letters))\n",
    "print(words_10_letters[:5])\n",
    "words_10_types_counts[words_10_letters[0]]"
   ]
  },
  {
   "cell_type": "code",
   "execution_count": 17,
   "metadata": {},
   "outputs": [
    {
     "name": "stdout",
     "output_type": "stream",
     "text": [
      "-----------------------------\n",
      "\n",
      "Guess 1: 'quote'\n",
      "Letters in correct positions:\n",
      "\t[]\n",
      "\n",
      "Letters in incorrect positions:\n",
      "\t[]\n",
      "\n",
      "Letters to guess again:\n",
      "\t[]\n",
      "\n",
      "Letters to not guess again:\n",
      "\t['e', 'o', 'q', 't', 'u']\n",
      "\n",
      "At this point:\n",
      "\t1931, 83.63% of total words have been eliminated, and\n",
      "\t378, 16.37% of total words remain possible.\n",
      "\n",
      "Next guess:\n",
      "\t'snarl'\n",
      "\n",
      "-----------------------------\n",
      "\n",
      "Guess 2: 'snarl'\n",
      "Letters in correct positions:\n",
      "\t[('s', 0)]\n",
      "\n",
      "Letters in incorrect positions:\n",
      "\t[('l', 4)]\n",
      "\n",
      "Letters to guess again:\n",
      "\t['l', 's']\n",
      "\n",
      "Letters to not guess again:\n",
      "\t['a', 'e', 'n', 'o', 'q', 'r', 't', 'u']\n",
      "\n",
      "At this point:\n",
      "\t2303, 99.74% of total words have been eliminated, and\n",
      "\t6, 0.26% of total words remain possible.\n",
      "\n",
      "Next guess:\n",
      "\t'slimy'\n",
      "\n",
      "-----------------------------\n",
      "\n",
      "Guess 3: 'slimy'\n",
      "Letters in correct positions:\n",
      "\t[('s', 0), ('y', 4)]\n",
      "\n",
      "Letters in incorrect positions:\n",
      "\t[('l', 1), ('i', 2), ('l', 4)]\n",
      "\n",
      "Letters to guess again:\n",
      "\t['i', 'l', 's', 'y']\n",
      "\n",
      "Letters to not guess again:\n",
      "\t['a', 'e', 'm', 'n', 'o', 'q', 'r', 't', 'u']\n",
      "\n",
      "At this point:\n",
      "\t2307, 99.91% of total words have been eliminated, and\n",
      "\t2, 0.09% of total words remain possible.\n",
      "\n",
      "Next guess:\n",
      "\t'silky'\n",
      "\n",
      "-----------------------------\n",
      "\n",
      "Guess 4: 'silky'\n",
      "Letters in correct positions:\n",
      "\t[('s', 0), ('i', 1), ('l', 2), ('y', 4)]\n",
      "\n",
      "Letters in incorrect positions:\n",
      "\t[('l', 1), ('i', 2), ('l', 4)]\n",
      "\n",
      "Letters to guess again:\n",
      "\t['i', 'l', 's', 'y']\n",
      "\n",
      "Letters to not guess again:\n",
      "\t['a', 'e', 'k', 'm', 'n', 'o', 'q', 'r', 't', 'u']\n",
      "\n",
      "At this point:\n",
      "\t2308, 99.96% of total words have been eliminated, and\n",
      "\t1, 0.04% of total words remain possible.\n",
      "\n",
      "The only remaining possible word is:\n",
      "\t'silly'\n",
      "\n",
      "Next guess:\n",
      "\t'silly'\n",
      "\n",
      "-----------------------------\n",
      "\n",
      "Guess 5: 'silly'\n",
      "\n",
      "Congratulations! The Wordle has been solved in 5 guesses!\n",
      "Lucky! It was the last guess.\n",
      "\n",
      "The target word was 'silly'.\n",
      "\n",
      "-----------------------------\n"
     ]
    }
   ],
   "source": [
    "wordle_wizard(word_list = official_words, max_guesses = 5, \n",
    "                guess = \"quote\", target = \"silly\",\n",
    "                random_guess = False, random_target = False, \n",
    "                verbose = True, drama = 0, return_stats = False, record = False)"
   ]
  },
  {
   "attachments": {},
   "cell_type": "markdown",
   "metadata": {},
   "source": [
    "### `compare_wordle()` testing"
   ]
  },
  {
   "cell_type": "code",
   "execution_count": 18,
   "metadata": {},
   "outputs": [
    {
     "name": "stdout",
     "output_type": "stream",
     "text": [
      "(39, 8)\n"
     ]
    },
    {
     "data": {
      "text/html": [
       "<div>\n",
       "<style scoped>\n",
       "    .dataframe tbody tr th:only-of-type {\n",
       "        vertical-align: middle;\n",
       "    }\n",
       "\n",
       "    .dataframe tbody tr th {\n",
       "        vertical-align: top;\n",
       "    }\n",
       "\n",
       "    .dataframe thead th {\n",
       "        text-align: right;\n",
       "    }\n",
       "</style>\n",
       "<table border=\"1\" class=\"dataframe\">\n",
       "  <thead>\n",
       "    <tr style=\"text-align: right;\">\n",
       "      <th></th>\n",
       "      <th>player</th>\n",
       "      <th>target</th>\n",
       "      <th>first_guess</th>\n",
       "      <th>second_guess</th>\n",
       "      <th>third_guess</th>\n",
       "      <th>fourth_guess</th>\n",
       "      <th>fifth_guess</th>\n",
       "      <th>sixth_guess</th>\n",
       "    </tr>\n",
       "  </thead>\n",
       "  <tbody>\n",
       "    <tr>\n",
       "      <th>0</th>\n",
       "      <td>diane</td>\n",
       "      <td>vague</td>\n",
       "      <td>arose</td>\n",
       "      <td>plate</td>\n",
       "      <td>cache</td>\n",
       "      <td>mauve</td>\n",
       "      <td>vague</td>\n",
       "      <td>none</td>\n",
       "    </tr>\n",
       "    <tr>\n",
       "      <th>1</th>\n",
       "      <td>aidan</td>\n",
       "      <td>apple</td>\n",
       "      <td>douce</td>\n",
       "      <td>lairy</td>\n",
       "      <td>slave</td>\n",
       "      <td>algae</td>\n",
       "      <td>apple</td>\n",
       "      <td>none</td>\n",
       "    </tr>\n",
       "    <tr>\n",
       "      <th>2</th>\n",
       "      <td>aidan</td>\n",
       "      <td>ninth</td>\n",
       "      <td>douce</td>\n",
       "      <td>lairy</td>\n",
       "      <td>gimps</td>\n",
       "      <td>ninth</td>\n",
       "      <td>none</td>\n",
       "      <td>none</td>\n",
       "    </tr>\n",
       "    <tr>\n",
       "      <th>3</th>\n",
       "      <td>aidan</td>\n",
       "      <td>flail</td>\n",
       "      <td>douce</td>\n",
       "      <td>lairy</td>\n",
       "      <td>snail</td>\n",
       "      <td>flail</td>\n",
       "      <td>none</td>\n",
       "      <td>none</td>\n",
       "    </tr>\n",
       "    <tr>\n",
       "      <th>4</th>\n",
       "      <td>aidan</td>\n",
       "      <td>stage</td>\n",
       "      <td>douce</td>\n",
       "      <td>lairy</td>\n",
       "      <td>phase</td>\n",
       "      <td>stage</td>\n",
       "      <td>none</td>\n",
       "      <td>none</td>\n",
       "    </tr>\n",
       "    <tr>\n",
       "      <th>5</th>\n",
       "      <td>aidan</td>\n",
       "      <td>heady</td>\n",
       "      <td>douce</td>\n",
       "      <td>lairy</td>\n",
       "      <td>ready</td>\n",
       "      <td>beady</td>\n",
       "      <td>heady</td>\n",
       "      <td>none</td>\n",
       "    </tr>\n",
       "    <tr>\n",
       "      <th>6</th>\n",
       "      <td>aidan</td>\n",
       "      <td>none</td>\n",
       "      <td>douce</td>\n",
       "      <td>dairy</td>\n",
       "      <td>dunes</td>\n",
       "      <td>debug</td>\n",
       "      <td>none</td>\n",
       "      <td>none</td>\n",
       "    </tr>\n",
       "    <tr>\n",
       "      <th>7</th>\n",
       "      <td>aidan</td>\n",
       "      <td>usage</td>\n",
       "      <td>douce</td>\n",
       "      <td>lairy</td>\n",
       "      <td>aunts</td>\n",
       "      <td>swamp</td>\n",
       "      <td>usage</td>\n",
       "      <td>none</td>\n",
       "    </tr>\n",
       "    <tr>\n",
       "      <th>8</th>\n",
       "      <td>aidan</td>\n",
       "      <td>sound</td>\n",
       "      <td>douce</td>\n",
       "      <td>pound</td>\n",
       "      <td>found</td>\n",
       "      <td>bound</td>\n",
       "      <td>mound</td>\n",
       "      <td>sound</td>\n",
       "    </tr>\n",
       "    <tr>\n",
       "      <th>9</th>\n",
       "      <td>aidan</td>\n",
       "      <td>salsa</td>\n",
       "      <td>douce</td>\n",
       "      <td>lairy</td>\n",
       "      <td>palms</td>\n",
       "      <td>salts</td>\n",
       "      <td>ghost</td>\n",
       "      <td>salsa</td>\n",
       "    </tr>\n",
       "    <tr>\n",
       "      <th>10</th>\n",
       "      <td>aidan</td>\n",
       "      <td>magic</td>\n",
       "      <td>douce</td>\n",
       "      <td>lairy</td>\n",
       "      <td>cabin</td>\n",
       "      <td>manic</td>\n",
       "      <td>magic</td>\n",
       "      <td>none</td>\n",
       "    </tr>\n",
       "    <tr>\n",
       "      <th>11</th>\n",
       "      <td>aidan</td>\n",
       "      <td>none</td>\n",
       "      <td>douce</td>\n",
       "      <td>lairy</td>\n",
       "      <td>cache</td>\n",
       "      <td>none</td>\n",
       "      <td>none</td>\n",
       "      <td>none</td>\n",
       "    </tr>\n",
       "    <tr>\n",
       "      <th>12</th>\n",
       "      <td>aidan</td>\n",
       "      <td>avail</td>\n",
       "      <td>douce</td>\n",
       "      <td>lairy</td>\n",
       "      <td>snail</td>\n",
       "      <td>flail</td>\n",
       "      <td>avail</td>\n",
       "      <td>none</td>\n",
       "    </tr>\n",
       "    <tr>\n",
       "      <th>13</th>\n",
       "      <td>aidan</td>\n",
       "      <td>kiosk</td>\n",
       "      <td>douce</td>\n",
       "      <td>lairy</td>\n",
       "      <td>lions</td>\n",
       "      <td>moist</td>\n",
       "      <td>frosh</td>\n",
       "      <td>kiosk</td>\n",
       "    </tr>\n",
       "    <tr>\n",
       "      <th>14</th>\n",
       "      <td>aidan</td>\n",
       "      <td>sweat</td>\n",
       "      <td>douce</td>\n",
       "      <td>lairy</td>\n",
       "      <td>wheat</td>\n",
       "      <td>sweat</td>\n",
       "      <td>none</td>\n",
       "      <td>none</td>\n",
       "    </tr>\n",
       "    <tr>\n",
       "      <th>15</th>\n",
       "      <td>aidan</td>\n",
       "      <td>ruddy</td>\n",
       "      <td>douce</td>\n",
       "      <td>lairy</td>\n",
       "      <td>ruddy</td>\n",
       "      <td>none</td>\n",
       "      <td>none</td>\n",
       "      <td>none</td>\n",
       "    </tr>\n",
       "    <tr>\n",
       "      <th>16</th>\n",
       "      <td>aidan</td>\n",
       "      <td>riper</td>\n",
       "      <td>douce</td>\n",
       "      <td>lairy</td>\n",
       "      <td>tries</td>\n",
       "      <td>miner</td>\n",
       "      <td>viper</td>\n",
       "      <td>wiper</td>\n",
       "    </tr>\n",
       "    <tr>\n",
       "      <th>17</th>\n",
       "      <td>aidan</td>\n",
       "      <td>vague</td>\n",
       "      <td>douce</td>\n",
       "      <td>lairy</td>\n",
       "      <td>mauve</td>\n",
       "      <td>vague</td>\n",
       "      <td>none</td>\n",
       "      <td>none</td>\n",
       "    </tr>\n",
       "    <tr>\n",
       "      <th>18</th>\n",
       "      <td>aidan</td>\n",
       "      <td>syrup</td>\n",
       "      <td>arose</td>\n",
       "      <td>unity</td>\n",
       "      <td>rubby</td>\n",
       "      <td>syrup</td>\n",
       "      <td>none</td>\n",
       "      <td>none</td>\n",
       "    </tr>\n",
       "    <tr>\n",
       "      <th>19</th>\n",
       "      <td>aidan</td>\n",
       "      <td>above</td>\n",
       "      <td>adore</td>\n",
       "      <td>above</td>\n",
       "      <td>none</td>\n",
       "      <td>none</td>\n",
       "      <td>none</td>\n",
       "      <td>none</td>\n",
       "    </tr>\n",
       "    <tr>\n",
       "      <th>20</th>\n",
       "      <td>aidan</td>\n",
       "      <td>moose</td>\n",
       "      <td>arose</td>\n",
       "      <td>those</td>\n",
       "      <td>close</td>\n",
       "      <td>unity</td>\n",
       "      <td>moose</td>\n",
       "      <td>none</td>\n",
       "    </tr>\n",
       "    <tr>\n",
       "      <th>21</th>\n",
       "      <td>aidan</td>\n",
       "      <td>polka</td>\n",
       "      <td>arose</td>\n",
       "      <td>unity</td>\n",
       "      <td>polar</td>\n",
       "      <td>polka</td>\n",
       "      <td>none</td>\n",
       "      <td>none</td>\n",
       "    </tr>\n",
       "    <tr>\n",
       "      <th>22</th>\n",
       "      <td>dad</td>\n",
       "      <td>syrup</td>\n",
       "      <td>audio</td>\n",
       "      <td>plume</td>\n",
       "      <td>usurp</td>\n",
       "      <td>syrup</td>\n",
       "      <td>none</td>\n",
       "      <td>none</td>\n",
       "    </tr>\n",
       "    <tr>\n",
       "      <th>23</th>\n",
       "      <td>dad</td>\n",
       "      <td>worse</td>\n",
       "      <td>audio</td>\n",
       "      <td>store</td>\n",
       "      <td>horse</td>\n",
       "      <td>worse</td>\n",
       "      <td>none</td>\n",
       "      <td>none</td>\n",
       "    </tr>\n",
       "    <tr>\n",
       "      <th>24</th>\n",
       "      <td>diane</td>\n",
       "      <td>worse</td>\n",
       "      <td>audio</td>\n",
       "      <td>stone</td>\n",
       "      <td>posse</td>\n",
       "      <td>worse</td>\n",
       "      <td>none</td>\n",
       "      <td>none</td>\n",
       "    </tr>\n",
       "    <tr>\n",
       "      <th>25</th>\n",
       "      <td>diane</td>\n",
       "      <td>polka</td>\n",
       "      <td>audio</td>\n",
       "      <td>polar</td>\n",
       "      <td>polka</td>\n",
       "      <td>none</td>\n",
       "      <td>none</td>\n",
       "      <td>none</td>\n",
       "    </tr>\n",
       "    <tr>\n",
       "      <th>26</th>\n",
       "      <td>dad</td>\n",
       "      <td>polka</td>\n",
       "      <td>audio</td>\n",
       "      <td>groan</td>\n",
       "      <td>poach</td>\n",
       "      <td>polka</td>\n",
       "      <td>none</td>\n",
       "      <td>none</td>\n",
       "    </tr>\n",
       "    <tr>\n",
       "      <th>27</th>\n",
       "      <td>dad</td>\n",
       "      <td>moose</td>\n",
       "      <td>audio</td>\n",
       "      <td>store</td>\n",
       "      <td>chose</td>\n",
       "      <td>loose</td>\n",
       "      <td>goose</td>\n",
       "      <td>moose</td>\n",
       "    </tr>\n",
       "    <tr>\n",
       "      <th>28</th>\n",
       "      <td>diane</td>\n",
       "      <td>moose</td>\n",
       "      <td>audio</td>\n",
       "      <td>store</td>\n",
       "      <td>close</td>\n",
       "      <td>moose</td>\n",
       "      <td>none</td>\n",
       "      <td>none</td>\n",
       "    </tr>\n",
       "    <tr>\n",
       "      <th>29</th>\n",
       "      <td>kai</td>\n",
       "      <td>squat</td>\n",
       "      <td>homes</td>\n",
       "      <td>start</td>\n",
       "      <td>squat</td>\n",
       "      <td>none</td>\n",
       "      <td>none</td>\n",
       "      <td>none</td>\n",
       "    </tr>\n",
       "    <tr>\n",
       "      <th>30</th>\n",
       "      <td>diane</td>\n",
       "      <td>above</td>\n",
       "      <td>audio</td>\n",
       "      <td>alone</td>\n",
       "      <td>above</td>\n",
       "      <td>none</td>\n",
       "      <td>none</td>\n",
       "      <td>none</td>\n",
       "    </tr>\n",
       "    <tr>\n",
       "      <th>31</th>\n",
       "      <td>diane</td>\n",
       "      <td>squat</td>\n",
       "      <td>audio</td>\n",
       "      <td>usual</td>\n",
       "      <td>squat</td>\n",
       "      <td>none</td>\n",
       "      <td>none</td>\n",
       "      <td>none</td>\n",
       "    </tr>\n",
       "    <tr>\n",
       "      <th>32</th>\n",
       "      <td>dad</td>\n",
       "      <td>squat</td>\n",
       "      <td>audio</td>\n",
       "      <td>taupe</td>\n",
       "      <td>squat</td>\n",
       "      <td>none</td>\n",
       "      <td>none</td>\n",
       "      <td>none</td>\n",
       "    </tr>\n",
       "    <tr>\n",
       "      <th>33</th>\n",
       "      <td>Dad</td>\n",
       "      <td>Trend</td>\n",
       "      <td>Audio</td>\n",
       "      <td>Nerdy</td>\n",
       "      <td>Trend</td>\n",
       "      <td>NaN</td>\n",
       "      <td>NaN</td>\n",
       "      <td>NaN</td>\n",
       "    </tr>\n",
       "    <tr>\n",
       "      <th>34</th>\n",
       "      <td>Diane</td>\n",
       "      <td>Trend</td>\n",
       "      <td>Audio</td>\n",
       "      <td>Depth</td>\n",
       "      <td>Trend</td>\n",
       "      <td>NaN</td>\n",
       "      <td>NaN</td>\n",
       "      <td>NaN</td>\n",
       "    </tr>\n",
       "    <tr>\n",
       "      <th>35</th>\n",
       "      <td>Kai</td>\n",
       "      <td>Trend</td>\n",
       "      <td>Later</td>\n",
       "      <td>Rents</td>\n",
       "      <td>Trend</td>\n",
       "      <td>NaN</td>\n",
       "      <td>NaN</td>\n",
       "      <td>NaN</td>\n",
       "    </tr>\n",
       "    <tr>\n",
       "      <th>36</th>\n",
       "      <td>Kai</td>\n",
       "      <td>toxic</td>\n",
       "      <td>Later</td>\n",
       "      <td>throw</td>\n",
       "      <td>toxic</td>\n",
       "      <td>NaN</td>\n",
       "      <td>NaN</td>\n",
       "      <td>NaN</td>\n",
       "    </tr>\n",
       "    <tr>\n",
       "      <th>37</th>\n",
       "      <td>dad</td>\n",
       "      <td>toxic</td>\n",
       "      <td>AUDIO</td>\n",
       "      <td>CHOIR</td>\n",
       "      <td>toxic</td>\n",
       "      <td>NaN</td>\n",
       "      <td>NaN</td>\n",
       "      <td>NaN</td>\n",
       "    </tr>\n",
       "    <tr>\n",
       "      <th>38</th>\n",
       "      <td>diane</td>\n",
       "      <td>toxic</td>\n",
       "      <td>audio</td>\n",
       "      <td>movie</td>\n",
       "      <td>colic</td>\n",
       "      <td>robin</td>\n",
       "      <td>toxic</td>\n",
       "      <td>NaN</td>\n",
       "    </tr>\n",
       "  </tbody>\n",
       "</table>\n",
       "</div>"
      ],
      "text/plain": [
       "   player target first_guess second_guess third_guess fourth_guess  \\\n",
       "0   diane  vague       arose        plate       cache        mauve   \n",
       "1   aidan  apple       douce        lairy       slave        algae   \n",
       "2   aidan  ninth       douce        lairy       gimps        ninth   \n",
       "3   aidan  flail       douce        lairy       snail        flail   \n",
       "4   aidan  stage       douce        lairy       phase        stage   \n",
       "5   aidan  heady       douce        lairy       ready        beady   \n",
       "6   aidan   none       douce        dairy       dunes        debug   \n",
       "7   aidan  usage       douce        lairy       aunts        swamp   \n",
       "8   aidan  sound       douce        pound       found        bound   \n",
       "9   aidan  salsa       douce        lairy       palms        salts   \n",
       "10  aidan  magic       douce        lairy       cabin        manic   \n",
       "11  aidan   none       douce        lairy       cache         none   \n",
       "12  aidan  avail       douce        lairy       snail        flail   \n",
       "13  aidan  kiosk       douce        lairy       lions        moist   \n",
       "14  aidan  sweat       douce        lairy       wheat        sweat   \n",
       "15  aidan  ruddy       douce        lairy       ruddy         none   \n",
       "16  aidan  riper       douce        lairy       tries        miner   \n",
       "17  aidan  vague       douce        lairy       mauve        vague   \n",
       "18  aidan  syrup       arose        unity       rubby        syrup   \n",
       "19  aidan  above       adore        above        none         none   \n",
       "20  aidan  moose       arose        those       close        unity   \n",
       "21  aidan  polka       arose        unity       polar        polka   \n",
       "22    dad  syrup       audio        plume       usurp        syrup   \n",
       "23    dad  worse       audio        store       horse        worse   \n",
       "24  diane  worse       audio        stone       posse        worse   \n",
       "25  diane  polka       audio        polar       polka         none   \n",
       "26    dad  polka       audio        groan       poach        polka   \n",
       "27    dad  moose       audio        store       chose        loose   \n",
       "28  diane  moose       audio        store       close        moose   \n",
       "29    kai  squat       homes        start       squat         none   \n",
       "30  diane  above       audio        alone       above         none   \n",
       "31  diane  squat       audio        usual       squat         none   \n",
       "32    dad  squat       audio        taupe       squat         none   \n",
       "33    Dad  Trend       Audio        Nerdy       Trend          NaN   \n",
       "34  Diane  Trend       Audio        Depth       Trend          NaN   \n",
       "35    Kai  Trend       Later        Rents       Trend          NaN   \n",
       "36    Kai  toxic       Later        throw       toxic          NaN   \n",
       "37    dad  toxic       AUDIO        CHOIR       toxic          NaN   \n",
       "38  diane  toxic       audio        movie       colic        robin   \n",
       "\n",
       "   fifth_guess sixth_guess  \n",
       "0        vague        none  \n",
       "1        apple        none  \n",
       "2         none        none  \n",
       "3         none        none  \n",
       "4         none        none  \n",
       "5        heady        none  \n",
       "6         none        none  \n",
       "7        usage        none  \n",
       "8        mound       sound  \n",
       "9        ghost       salsa  \n",
       "10       magic        none  \n",
       "11        none        none  \n",
       "12       avail        none  \n",
       "13       frosh       kiosk  \n",
       "14        none        none  \n",
       "15        none        none  \n",
       "16       viper       wiper  \n",
       "17        none        none  \n",
       "18        none        none  \n",
       "19        none        none  \n",
       "20       moose        none  \n",
       "21        none        none  \n",
       "22        none        none  \n",
       "23        none        none  \n",
       "24        none        none  \n",
       "25        none        none  \n",
       "26        none        none  \n",
       "27       goose       moose  \n",
       "28        none        none  \n",
       "29        none        none  \n",
       "30        none        none  \n",
       "31        none        none  \n",
       "32        none        none  \n",
       "33         NaN         NaN  \n",
       "34         NaN         NaN  \n",
       "35         NaN         NaN  \n",
       "36         NaN         NaN  \n",
       "37         NaN         NaN  \n",
       "38       toxic         NaN  "
      ]
     },
     "execution_count": 18,
     "metadata": {},
     "output_type": "execute_result"
    }
   ],
   "source": [
    "df = pd.read_csv(\"compared_data/wordle_humans - Sheet1.csv\")\n",
    "print(df.shape)\n",
    "df"
   ]
  },
  {
   "cell_type": "code",
   "execution_count": 19,
   "metadata": {},
   "outputs": [
    {
     "data": {
      "text/plain": [
       "('dad', 'toxic', ['audio', 'choir', 'toxic'])"
      ]
     },
     "execution_count": 19,
     "metadata": {},
     "output_type": "execute_result"
    }
   ],
   "source": [
    "df = pd.read_csv(\"compared_data/wordle_humans - Sheet1.csv\")\n",
    "df\n",
    "convert_row(df, 37)"
   ]
  },
  {
   "cell_type": "code",
   "execution_count": 20,
   "metadata": {},
   "outputs": [
    {
     "name": "stdout",
     "output_type": "stream",
     "text": [
      "('dad', 'toxic', ['audio', 'choir', 'toxic'])\n"
     ]
    },
    {
     "data": {
      "text/plain": [
       "{'first_guess': ['audio', 'audio'],\n",
       " 'target_word': ['toxic', 'toxic'],\n",
       " 'first_guess_vowels': [4.0, 4.0],\n",
       " 'first_guess_consonants': [1.0, 1.0],\n",
       " 'target_vowels': [2.0, 2.0],\n",
       " 'target_consonants': [3.0, 3.0],\n",
       " 'first_guess_meaning': [61.91, 61.91],\n",
       " 'target_meaning': [44.4, 44.4],\n",
       " 'target_guessed': [True, True],\n",
       " 'mid_guesses_avg_vows': [2.67, 2.33],\n",
       " 'mid_guesses_avg_cons': [2.33, 2.67],\n",
       " 'avg_perf_letters': [2.0, 12.0],\n",
       " 'avg_wrong_pos_letters': [4.0, 19.0],\n",
       " 'avg_wrong_letters': [8.0, 29.0],\n",
       " 'avg_remaining': [14.5, 6.8],\n",
       " 'avg_intermediate_guess_meaning': [87.3, 93.65],\n",
       " 'valid_success': [True, True],\n",
       " 'player': ['dad', 'wizard'],\n",
       " 'num_guesses': [3.0, 6.0],\n",
       " 'expected_guesses': [6.0, 6.0],\n",
       " 'luck': [0.56, 0]}"
      ]
     },
     "execution_count": 20,
     "metadata": {},
     "output_type": "execute_result"
    }
   ],
   "source": [
    "### TESTING DF INTERPRETATION\n",
    "\n",
    "df = pd.read_csv(\"compared_data/wordle_humans - Sheet1.csv\")\n",
    "\n",
    "row = 37\n",
    "\n",
    "print(convert_row(df, row))\n",
    "player = convert_row(df, row)[0]\n",
    "target_word = convert_row(df, row)[1]\n",
    "guess_list = convert_row(df, row)[2]\n",
    "\n",
    "compare_wordle(word_list = official_words, max_guesses = 6, \n",
    "                    guess_list = guess_list, player = player, target = target_word,\n",
    "                    verbose = False, return_stats = True, record = False)"
   ]
  },
  {
   "attachments": {},
   "cell_type": "markdown",
   "metadata": {},
   "source": [
    "## Comparing player solutions against wizard solutions"
   ]
  },
  {
   "cell_type": "code",
   "execution_count": 21,
   "metadata": {},
   "outputs": [],
   "source": [
    "# def create_compared_df(player_df, to_csv: bool = False, show_shapes: bool = False):\n",
    "#     \"\"\"\n",
    "#     Creates master df of player wordle scores compared to how wordle_wizard would perform on the same puzzles\n",
    "\n",
    "#     Parameters:\n",
    "#     -----\n",
    "#     `player_df`: Pandas dataFrame object\n",
    "#         df of player scores of wordle puzzles\n",
    "#     `to_csv`: bool\n",
    "#         If True, writes returned df to csv\n",
    "#     `show_shapes`: bool\n",
    "#         If True, prints shape of new df before and after deleting duplicate rows (created by wordle_wizard running the same puzzles multiple times)\n",
    "    \n",
    "#     Returns:\n",
    "#     -----\n",
    "#     `df_master`: Pandas dataFrame object\n",
    "#         df of player scores and wordle_wizard scores of wordle puzzles\n",
    "#     \"\"\"\n",
    "\n",
    "#     stats_master = {}\n",
    "#     excepts = []\n",
    "#     for row in player_df.index:\n",
    "#         player = convert_row(player_df, row)[0]\n",
    "#         target_word = convert_row(player_df, row)[1]\n",
    "#         guess_list = convert_row(player_df, row)[2]\n",
    "#         try:\n",
    "#             complete = compare_wordle(word_list = official_words, max_guesses = 6, \n",
    "#                         guess_list = guess_list, player = player, target = target_word,\n",
    "#                         verbose = True, return_stats = True, record = False)\n",
    "#             for metric, results in complete.items():\n",
    "#                 if metric in stats_master:\n",
    "#                     for result in results:\n",
    "#                         stats_master[metric].append(result)\n",
    "#                 else:\n",
    "#                     stats_master[metric] = []\n",
    "#                     for result in results:\n",
    "#                         stats_master[metric].append(result)\n",
    "#         except:\n",
    "#             AttributeError\n",
    "#             excepts.append(guess_list)\n",
    "\n",
    "#     df_master = pd.DataFrame(stats_master)\n",
    "#     print(df_master.columns.tolist())\n",
    "\n",
    "#     # Re-organizing columns to a more logical order (for viewing)\n",
    "#     df_master = df_master[['first_guess', 'target_word', 'player', 'num_guesses', 'expected_guesses', 'luck', 'first_guess_vowels', 'first_guess_consonants',\n",
    "#                         'target_vowels', 'target_consonants', 'first_guess_entropy', 'target_entropy',\n",
    "#                         'target_guessed', 'mid_guesses_avg_vows', 'mid_guesses_avg_cons', 'avg_perf_letters',\n",
    "#                         'avg_wrong_pos_letters', 'avg_wrong_letters', 'avg_remaining', 'avg_intermediate_guess_entropy',\n",
    "#                         'valid_success']]\n",
    "\n",
    "#     # print(excepts)\n",
    "#     if show_shapes == True:\n",
    "#         print(df_master.shape) # check shape before deleting dups\n",
    "\n",
    "#     # Delete duplicate rows (some created by process)\n",
    "#     df_master.drop_duplicates(inplace = True)\n",
    "    \n",
    "#     if to_csv == True:\n",
    "#         df_master.to_csv('compared_data/players_compared.csv') # write new data to csv\n",
    "    \n",
    "#     if show_shapes == True:\n",
    "#         print(df_master.shape) # check shape after deleting dups\n",
    "    \n",
    "#     return df_master.reset_index(drop = True)"
   ]
  },
  {
   "cell_type": "code",
   "execution_count": 22,
   "metadata": {},
   "outputs": [],
   "source": [
    "# test_word = \"test 1 \"\n",
    "# test_word.strip().lower()"
   ]
  },
  {
   "cell_type": "code",
   "execution_count": 23,
   "metadata": {},
   "outputs": [],
   "source": [
    "# df = pd.read_csv(\"compared_data/wordle_humans - Sheet1.csv\")\n",
    "\n",
    "# df_master = create_compared_df(df, to_csv = True, show_shapes = True)\n",
    "# df_master"
   ]
  },
  {
   "cell_type": "code",
   "execution_count": 24,
   "metadata": {},
   "outputs": [],
   "source": [
    "# print(df_master.query(\"player == 'aidan'\")['num_guesses'].mean())\n",
    "# print(df_master.query(\"player == 'aidan'\").shape)\n",
    "# df_master.query(\"player == 'aidan'\").head()"
   ]
  },
  {
   "cell_type": "code",
   "execution_count": 25,
   "metadata": {},
   "outputs": [],
   "source": [
    "# print(df_master.query(\"player == 'dad'\")['num_guesses'].mean())\n",
    "# print(df_master.query(\"player == 'dad'\").shape)\n",
    "# df_master.query(\"player == 'dad'\").head()"
   ]
  },
  {
   "cell_type": "code",
   "execution_count": 26,
   "metadata": {},
   "outputs": [],
   "source": [
    "# print(df_master.query(\"player == 'diane'\")['num_guesses'].mean())\n",
    "# print(df_master.query(\"player == 'diane'\").shape)\n",
    "# df_master.query(\"player == 'diane'\").head()"
   ]
  },
  {
   "cell_type": "code",
   "execution_count": 27,
   "metadata": {},
   "outputs": [],
   "source": [
    "# print(df_master.query(\"player == 'wizard'\")['num_guesses'].mean())\n",
    "# print(df_master.query(\"player == 'wizard'\").shape)\n",
    "# df_master.query(\"player == 'wizard'\").head(40)"
   ]
  },
  {
   "attachments": {},
   "cell_type": "markdown",
   "metadata": {},
   "source": [
    "## Prefix/Suffix bias"
   ]
  },
  {
   "cell_type": "code",
   "execution_count": 28,
   "metadata": {},
   "outputs": [
    {
     "name": "stdout",
     "output_type": "stream",
     "text": [
      "-----------------------------\n",
      "\n",
      "Guess 1: 'later'\n",
      "Letters in correct positions:\n",
      "\t[]\n",
      "\n",
      "Letters in incorrect positions:\n",
      "\t[('l', 0)]\n",
      "\n",
      "Letters to guess again:\n",
      "\t['l']\n",
      "\n",
      "Letters to not guess again:\n",
      "\t['a', 'e', 'r', 't']\n",
      "\n",
      "At this point:\n",
      "\t2192, 94.93% of total words have been eliminated, and\n",
      "\t117, 5.07% of total words remain possible.\n",
      "\n",
      "Next guess:\n",
      "\t'solid'\n",
      "\n",
      "-----------------------------\n",
      "\n",
      "Guess 2: 'solid'\n",
      "Letters in correct positions:\n",
      "\t[('o', 1), ('l', 2)]\n",
      "\n",
      "Letters in incorrect positions:\n",
      "\t[('l', 0)]\n",
      "\n",
      "Letters to guess again:\n",
      "\t['l', 'o']\n",
      "\n",
      "Letters to not guess again:\n",
      "\t['a', 'd', 'e', 'i', 'r', 's', 't']\n",
      "\n",
      "At this point:\n",
      "\t2303, 99.74% of total words have been eliminated, and\n",
      "\t6, 0.26% of total words remain possible.\n",
      "\n",
      "Next guess:\n",
      "\t'colon'\n",
      "\n",
      "-----------------------------\n",
      "\n",
      "Guess 3: 'colon'\n",
      "Letters in correct positions:\n",
      "\t[('o', 1), ('l', 2)]\n",
      "\n",
      "Letters in incorrect positions:\n",
      "\t[('l', 0), ('o', 3)]\n",
      "\n",
      "Letters to guess again:\n",
      "\t['l', 'o']\n",
      "\n",
      "Letters to not guess again:\n",
      "\t['a', 'c', 'd', 'e', 'i', 'n', 'r', 's', 't']\n",
      "\n",
      "At this point:\n",
      "\t2304, 99.78% of total words have been eliminated, and\n",
      "\t5, 0.22% of total words remain possible.\n",
      "\n",
      "Next guess:\n",
      "\t'holly'\n",
      "\n",
      "-----------------------------\n",
      "\n",
      "Guess 4: 'holly'\n",
      "Letters in correct positions:\n",
      "\t[('o', 1), ('l', 2), ('l', 3), ('y', 4)]\n",
      "\n",
      "Letters in incorrect positions:\n",
      "\t[('l', 0), ('o', 3)]\n",
      "\n",
      "Letters to guess again:\n",
      "\t['l', 'o', 'y']\n",
      "\n",
      "Letters to not guess again:\n",
      "\t['a', 'c', 'd', 'e', 'h', 'i', 'n', 'r', 's', 't']\n",
      "\n",
      "At this point:\n",
      "\t2306, 99.87% of total words have been eliminated, and\n",
      "\t3, 0.13% of total words remain possible.\n",
      "\n",
      "Next guess:\n",
      "\t'golly'\n",
      "\n",
      "-----------------------------\n",
      "\n",
      "Guess 5: 'golly'\n",
      "Letters in correct positions:\n",
      "\t[('o', 1), ('l', 2), ('l', 3), ('y', 4)]\n",
      "\n",
      "Letters in incorrect positions:\n",
      "\t[('l', 0), ('o', 3)]\n",
      "\n",
      "Letters to guess again:\n",
      "\t['l', 'o', 'y']\n",
      "\n",
      "Letters to not guess again:\n",
      "\t['a', 'c', 'd', 'e', 'g', 'h', 'i', 'n', 'r', 's', 't']\n",
      "\n",
      "At this point:\n",
      "\t2307, 99.91% of total words have been eliminated, and\n",
      "\t2, 0.09% of total words remain possible.\n",
      "\n",
      "Next guess:\n",
      "\t'folly'\n",
      "\n",
      "-----------------------------\n",
      "\n",
      "Guess 6: 'folly'\n",
      "Letters in correct positions:\n",
      "\t[('o', 1), ('l', 2), ('l', 3), ('y', 4)]\n",
      "\n",
      "Letters in incorrect positions:\n",
      "\t[('l', 0), ('o', 3)]\n",
      "\n",
      "Letters to guess again:\n",
      "\t['l', 'o', 'y']\n",
      "\n",
      "Letters to not guess again:\n",
      "\t['a', 'c', 'd', 'e', 'f', 'g', 'h', 'i', 'n', 'r', 's', 't']\n",
      "\n",
      "At this point:\n",
      "\t2308, 99.96% of total words have been eliminated, and\n",
      "\t1, 0.04% of total words remain possible.\n",
      "\n",
      "The only remaining possible word is:\n",
      "\t'jolly'\n",
      "\n",
      "Unfortunately, the Wordle could not be solved in 6 guesses.\n",
      "\n",
      "The target word was 'jolly'. Better luck next time!\n",
      "\n",
      "-----------------------------\n",
      "\n"
     ]
    }
   ],
   "source": [
    "test_1 = wordle_wizard(word_list = official_words, max_guesses = 6, \n",
    "                guess = \"later\", target = \"jolly\",\n",
    "                random_guess = False, random_target = False, \n",
    "                verbose = True, drama = 0, return_stats = False, record = False)"
   ]
  },
  {
   "cell_type": "code",
   "execution_count": 29,
   "metadata": {},
   "outputs": [
    {
     "name": "stdout",
     "output_type": "stream",
     "text": [
      "Prefixes:\n",
      "214\n",
      "[('st', 65), ('sh', 52), ('cr', 45), ('sp', 45), ('ch', 40), ('gr', 38), ('fl', 36), ('re', 36), ('tr', 36), ('br', 35)]\n",
      "-----\n",
      "Suffixes:\n",
      "202\n",
      "[('er', 141), ('ly', 56), ('ch', 56), ('se', 52), ('al', 49), ('ck', 47), ('ty', 46), ('te', 39), ('el', 38), ('dy', 38)]\n"
     ]
    }
   ],
   "source": [
    "suffix_freq_dist = {}\n",
    "prefix_freq_dist = {}\n",
    "\n",
    "for word in official_words:\n",
    "    prefix = word[:2] # first 2 letters\n",
    "    suffix = word[-2:] # last 2 letters\n",
    "    if prefix not in prefix_freq_dist:\n",
    "        prefix_freq_dist[prefix] = 1\n",
    "    else:\n",
    "        prefix_freq_dist[prefix] += 1\n",
    "\n",
    "    if suffix not in suffix_freq_dist:\n",
    "        suffix_freq_dist[suffix] = 1\n",
    "    else:\n",
    "        suffix_freq_dist[suffix] += 1\n",
    "\n",
    "suffix_types = [key for key in suffix_freq_dist.keys()]\n",
    "prefix_types = [key for key in prefix_freq_dist.keys()]\n",
    "\n",
    "sorted_prefix_dist = sorted(prefix_freq_dist.items(), key = operator.itemgetter(1), reverse = True)\n",
    "sorted_suffix_dist = sorted(suffix_freq_dist.items(), key = operator.itemgetter(1), reverse = True)\n",
    "\n",
    "print(\"Prefixes:\")\n",
    "print(len(sorted_prefix_dist))\n",
    "print(sorted_prefix_dist[:10])\n",
    "print(\"-----\")\n",
    "print(\"Suffixes:\")\n",
    "print(len(sorted_suffix_dist))\n",
    "print(sorted_suffix_dist[:10])"
   ]
  },
  {
   "cell_type": "code",
   "execution_count": 30,
   "metadata": {},
   "outputs": [
    {
     "name": "stdout",
     "output_type": "stream",
     "text": [
      "2197\n"
     ]
    },
    {
     "data": {
      "text/plain": [
       "[('ing', 31),\n",
       " ('lly', 22),\n",
       " ('ove', 21),\n",
       " ('ver', 21),\n",
       " ('sta', 21),\n",
       " ('ast', 20),\n",
       " ('lea', 19),\n",
       " ('ter', 19),\n",
       " ('tch', 19),\n",
       " ('sha', 18),\n",
       " ('ine', 18),\n",
       " ('ate', 18),\n",
       " ('sto', 18),\n",
       " ('ide', 18),\n",
       " ('out', 18)]"
      ]
     },
     "execution_count": 30,
     "metadata": {},
     "output_type": "execute_result"
    }
   ],
   "source": [
    "grams_freq_dist = {}\n",
    "gram_len = 3\n",
    "\n",
    "for word in official_words:\n",
    "    for i in range(0, len(word) - (gram_len - 1)): # so it doesn't index out of range\n",
    "        gram = word[i:i + gram_len]\n",
    "\n",
    "        if gram not in grams_freq_dist:\n",
    "            grams_freq_dist[gram] = 1\n",
    "        else:\n",
    "            grams_freq_dist[gram] += 1\n",
    "\n",
    "print(len(grams_freq_dist))\n",
    "sorted_gram_dist = sorted(grams_freq_dist.items(), key = operator.itemgetter(1), reverse = True)\n",
    "sorted_gram_dist[:15]"
   ]
  },
  {
   "attachments": {},
   "cell_type": "markdown",
   "metadata": {},
   "source": [
    "## Evaluating Every Permutation of Guesses and Target Words"
   ]
  },
  {
   "cell_type": "code",
   "execution_count": 31,
   "metadata": {},
   "outputs": [],
   "source": [
    "# ### keeping track of completed start words\n",
    "# start_words_done = set()\n",
    "# with open(\"all_permutations/start_words_done.txt\", \"r\", encoding = \"utf-8\") as f:\n",
    "#     for word in f.read().split(\"\\n\"):\n",
    "#         if len (word) > 0:\n",
    "#             start_words_done.add(word)\n",
    "# f.close() # closes connection to file\n",
    "\n",
    "# ### keeping track of completed target words\n",
    "# targ_words_done = set()\n",
    "# with open(\"all_permutations/targ_words_done.txt\", \"r\", encoding = \"utf-8\") as f:\n",
    "#     for word in f.read().split(\"\\n\"):\n",
    "#         if len (word) > 0:\n",
    "#             targ_words_done.add(word)\n",
    "# f.close() # closes connection to file\n",
    "\n",
    "# print(\"-----\")\n",
    "# print(len(start_words_done))\n",
    "# print(list(targ_words_done)[:10])\n",
    "# print(\"-----\")\n",
    "# print(len(targ_words_done))\n",
    "# print(list(targ_words_done)[:10])\n",
    "# print(\"-----\")"
   ]
  },
  {
   "cell_type": "code",
   "execution_count": 32,
   "metadata": {},
   "outputs": [
    {
     "data": {
      "text/plain": [
       "['wince', 'thyme']"
      ]
     },
     "execution_count": 32,
     "metadata": {},
     "output_type": "execute_result"
    }
   ],
   "source": [
    "official_words[0:2]"
   ]
  },
  {
   "cell_type": "code",
   "execution_count": 33,
   "metadata": {},
   "outputs": [],
   "source": [
    "# import glob\n",
    "\n",
    "# last_complete_words = []\n",
    "\n",
    "# for filepath in (glob.glob(\"all_permutations/*\")):\n",
    "#     print (filepath)\n",
    "#     filename = (filepath.split(\"/\")[1])\n",
    "#     if \".csv\" in filename:\n",
    "#         last_word_done = filename.split(\"_\")[3][:-4]\n",
    "#         if last_word_done in official_words:\n",
    "#             last_complete_words.append(last_word_done)\n",
    "\n",
    "# last_complete_words\n",
    "\n",
    "# most_recent_word_indices = []\n",
    "\n",
    "# for word in last_complete_words:\n",
    "#     most_recent_word_indices.append(official_words.index(word))\n",
    "\n",
    "# new_first_start_word = max(most_recent_word_indices) + 1 # adding 1 as to not do the same word as the previous last word\n",
    "# new_first_start_word\n",
    "\n",
    "# prev_df = pd.read_csv(f\"all_permutations/sims_df_until_{official_words[new_first_start_word - 1]}.csv\", index_col = [0])\n",
    "\n",
    "# prev_df.head()"
   ]
  },
  {
   "cell_type": "code",
   "execution_count": 34,
   "metadata": {},
   "outputs": [
    {
     "data": {
      "text/plain": [
       "['wince',\n",
       " 'thyme',\n",
       " 'mower',\n",
       " 'horde',\n",
       " 'heard',\n",
       " 'tenor',\n",
       " 'zonal',\n",
       " 'parry',\n",
       " 'shied',\n",
       " 'fizzy']"
      ]
     },
     "execution_count": 34,
     "metadata": {},
     "output_type": "execute_result"
    }
   ],
   "source": [
    "official_words[:10]"
   ]
  },
  {
   "cell_type": "code",
   "execution_count": 35,
   "metadata": {},
   "outputs": [],
   "source": [
    "# excepts = [] # keeping track of word combinations that don't work for some reason\n",
    "\n",
    "# stats_master = {}\n",
    "\n",
    "# batch = 10\n",
    "\n",
    "# new_first_start_word = 0 # TEMPORARY\n",
    "\n",
    "# for start_word in official_words[new_first_start_word : new_first_start_word + batch]:\n",
    "#     # if start_word not in start_words_done:\n",
    "\n",
    "#     for target_word in official_words[:2]:\n",
    "\n",
    "#         ## only run the combination if it hasn't been done already\n",
    "#         try:\n",
    "#             complete = wordle_wizard(word_list = official_words, max_guesses = 15, \n",
    "#                 guess = start_word, target = target_word,\n",
    "#                 random_guess = False, random_target = False, \n",
    "#                     verbose = False, drama = 0, return_stats = True)\n",
    "        \n",
    "#             # start_words_done.add(start_word) # add start word to completed starts list\n",
    "#             # targ_words_done.add(target_word) # add target word to completed targets list\n",
    "            \n",
    "#         except:\n",
    "#             IndexError\n",
    "#             excepts.append((complete[\"first_guess\"], complete[\"target_word\"]))\n",
    "            \n",
    "#         for metric, result in complete.items():\n",
    "#             if metric in stats_master.keys():\n",
    "#                 stats_master[metric].append(result)\n",
    "#             else:\n",
    "#                 stats_master[metric] = []\n",
    "\n",
    "# ### df creation and csv writing \n",
    "# sims_df = pd.DataFrame(stats_master)\n",
    "# sims_df.to_csv(f'all_permutations/sims_df_until_{completed_words[-1]}.csv')\n",
    "\n",
    "# print(f\"{len(sims_df)} iterations run. {len(excepts)} combinations excepted.\")\n",
    "# print(excepts[:10])\n",
    "\n",
    "# print(sims_df.shape)\n",
    "# # sims_df.head()\n",
    "# sims_df.head(60)"
   ]
  },
  {
   "attachments": {},
   "cell_type": "markdown",
   "metadata": {},
   "source": [
    "## wordle_wizard() 2.0"
   ]
  },
  {
   "cell_type": "code",
   "execution_count": 1,
   "metadata": {},
   "outputs": [],
   "source": [
    "def get_possible_guesses(word_list: list, perf_letters: list, incorr_pos: list, wrong_letters: list):\n",
    "    \"\"\"\n",
    "    This function takes a single Wordle guess and feedback returned by the game about that guess, and returns a list of possible remaining guesses.\n",
    "\n",
    "    Parameters:\n",
    "    -----\n",
    "    `word_list`: list\n",
    "        list of all possible words immediately prior to this stage's guess\n",
    "    `perf_letters_letters`: list\n",
    "        list of tuples, where the structure of each tuple is: (\"correct_letter\", int of letter position). Example listed below\n",
    "    `incorr_pos`: list\n",
    "        list of tuples, same structure as `perf_letters_letters`, but with letters and their incorrect positions\n",
    "    `wrong_letters`: list\n",
    "        list of individual letters that are not in the target word whatsoever\n",
    "\n",
    "    Returns:\n",
    "    -----\n",
    "    `potentials_list`: list\n",
    "        list of words that remain after eliminating all words based on the information provided\n",
    "\n",
    "    Examples of inputs:\n",
    "    -----\n",
    "    word_list = official_words # something like ['wince', 'thyme', 'mower', 'horde', 'heard', 'tenor', 'zonal', 'parry', 'shied', 'fizzy']\n",
    "    \n",
    "    perf_letters = [(\"r\", 2)] # could be any number of tuples\n",
    "    \n",
    "    incorr_pos = [(\"t\", 2), (\"r\", 4)] # could be any number of tuples\n",
    "    \n",
    "    wrong_letters_letters = [\"l\", \"a\", \"e\"] # could be any number of items\n",
    "    \"\"\"\n",
    "    \n",
    "    incorr_words = set() # set of all words that the target could not possibly be the target\n",
    "    for word in word_list:\n",
    "        if len(incorr_pos) > 0: # sometimes there are none\n",
    "            for incorr_letter, pos in incorr_pos: # adding words that have words of incorr letter positions (but not words that have these letters altogether - they could just be in a different spot)\n",
    "                if word[pos] == incorr_letter:\n",
    "                    incorr_words.add(word)\n",
    "        if len(wrong_letters) > 0: # sometimes there are none\n",
    "            for bad_letter in wrong_letters: # adding words that have completely wrong letters in them\n",
    "                if bad_letter in word:\n",
    "                    incorr_words.add(word)\n",
    "\n",
    "    intermediate_list = set(word_list).difference(incorr_words) # difference between all impossible words and entire original passed word_list\n",
    "    # print(intermediate_list)\n",
    "    potentials_list = set()\n",
    "\n",
    "    for word in intermediate_list:\n",
    "        if len(perf_letters) > 0: # sometimes there are none\n",
    "            good_letters = []\n",
    "            for letter, pos in perf_letters:\n",
    "                if word[pos] == letter:\n",
    "                    good_letters.append(letter)\n",
    "                if len(good_letters) == len(perf_letters):\n",
    "                    potentials_list.add(word)\n",
    "                else:\n",
    "                    pass # skip to the next word\n",
    "    \n",
    "    if len(potentials_list) > 0:\n",
    "        potentials_list = list(potentials_list)\n",
    "    else:\n",
    "        potentials_list = list(intermediate_list)\n",
    "\n",
    "    return list(potentials_list)"
   ]
  },
  {
   "attachments": {},
   "cell_type": "markdown",
   "metadata": {},
   "source": [
    "Wordle"
   ]
  },
  {
   "cell_type": "code",
   "execution_count": 2,
   "metadata": {},
   "outputs": [
    {
     "ename": "NameError",
     "evalue": "name 'official_words' is not defined",
     "output_type": "error",
     "traceback": [
      "\u001b[0;31m---------------------------------------------------------------------------\u001b[0m",
      "\u001b[0;31mNameError\u001b[0m                                 Traceback (most recent call last)",
      "\u001b[1;32m/Users/kmaurinjones/Desktop/data_science/data_science_projects/wordle_wizard_gh/wordle_testing.ipynb Cell 58\u001b[0m in \u001b[0;36m<cell line: 1>\u001b[0;34m()\u001b[0m\n\u001b[0;32m----> <a href='vscode-notebook-cell:/Users/kmaurinjones/Desktop/data_science/data_science_projects/wordle_wizard_gh/wordle_testing.ipynb#Y111sZmlsZQ%3D%3D?line=0'>1</a>\u001b[0m word_list \u001b[39m=\u001b[39m official_words\n\u001b[1;32m      <a href='vscode-notebook-cell:/Users/kmaurinjones/Desktop/data_science/data_science_projects/wordle_wizard_gh/wordle_testing.ipynb#Y111sZmlsZQ%3D%3D?line=2'>3</a>\u001b[0m guess \u001b[39m=\u001b[39m \u001b[39m\"\u001b[39m\u001b[39mlater\u001b[39m\u001b[39m\"\u001b[39m\n\u001b[1;32m      <a href='vscode-notebook-cell:/Users/kmaurinjones/Desktop/data_science/data_science_projects/wordle_wizard_gh/wordle_testing.ipynb#Y111sZmlsZQ%3D%3D?line=3'>4</a>\u001b[0m \u001b[39mif\u001b[39;00m guess \u001b[39mnot\u001b[39;00m \u001b[39min\u001b[39;00m word_list \u001b[39mand\u001b[39;00m \u001b[39mlen\u001b[39m(guess) \u001b[39m==\u001b[39m \u001b[39m5\u001b[39m: word_list\u001b[39m.\u001b[39mappend(guess)\n",
      "\u001b[0;31mNameError\u001b[0m: name 'official_words' is not defined"
     ]
    }
   ],
   "source": [
    "word_list = official_words\n",
    "\n",
    "guess = \"later\"\n",
    "if guess not in word_list and len(guess) == 5: word_list.append(guess)\n",
    "target = \"tests\"\n",
    "if target not in word_list and len(target) == 5: word_list.append(target)\n",
    "wordlen = len(guess)\n",
    "letter_positions = set(i for i in range(0, wordlen))\n",
    "guess_num = 0\n",
    "guessed_words = []\n",
    "perf_letters = []\n",
    "incorr_pos = []\n",
    "wrong_letters = []\n",
    "\n",
    "while guess:\n",
    "    \n",
    "    # this is redefined for each guess - makes everything have to iterate through zero redundant data in each of these lists at each guess stage\n",
    "    guessed_words.append(guess)\n",
    "\n",
    "    print(guess, target)\n",
    "    if guess == target:\n",
    "        break\n",
    "\n",
    "    #### Step 2 -- ALL PERFECT\n",
    "    for i in letter_positions: # number of letters in each word (current word and target word)\n",
    "\n",
    "        if guess[i] == target[i]:\n",
    "            if (guess[i], i) not in perf_letters:\n",
    "                perf_letters.append((guess[i], i))\n",
    "        elif guess[i] != target[i] and guess[i] in target:\n",
    "            if (guess[i], i) not in incorr_pos:\n",
    "                incorr_pos.append((guess[i], i))\n",
    "        elif guess[i] not in target:\n",
    "            if (guess[i]) not in wrong_letters:\n",
    "                wrong_letters.append(guess[i])\n",
    "\n",
    "    perf_letters = sorted(perf_letters, key = operator.itemgetter(1), reverse = False)\n",
    "    incorr_pos = sorted(incorr_pos, key = operator.itemgetter(1), reverse = False)\n",
    "    wrong_letters = sorted(wrong_letters, key = operator.itemgetter(0), reverse = False)\n",
    "    print(\"------------------\")\n",
    "    potential_next_words = get_possible_guesses(word_list = word_list, perf_letters = perf_letters, incorr_pos = incorr_pos, wrong_letters = wrong_letters)\n",
    "    # print(\"------------------\")\n",
    "    # potential_next_words = [word for word in potential_next_words if word not in guessed_words] # excludes already guessed words, or else function runs infinitely\n",
    "    print(len(potential_next_words))\n",
    "    guess_ratings = get_word_meaning(words_to_rate = potential_next_words, word_list = word_list, normalized = False, ascending = False)\n",
    "    if len(guess_ratings) < 20:\n",
    "        print(guess_ratings)\n",
    "    guess = guess_ratings[0][0]\n",
    "\n",
    "    # set(potential_next_words).difference(set(official_words))\n",
    "    if guess == target:\n",
    "        print (guess, target)\n",
    "        break"
   ]
  },
  {
   "cell_type": "code",
   "execution_count": null,
   "metadata": {},
   "outputs": [],
   "source": [
    "asdf"
   ]
  },
  {
   "attachments": {},
   "cell_type": "markdown",
   "metadata": {},
   "source": [
    "## Presentation Prep"
   ]
  },
  {
   "attachments": {},
   "cell_type": "markdown",
   "metadata": {},
   "source": [
    "## Plots"
   ]
  },
  {
   "cell_type": "code",
   "execution_count": null,
   "metadata": {},
   "outputs": [],
   "source": [
    "import plotly.express as px\n",
    "import altair as alt"
   ]
  },
  {
   "attachments": {},
   "cell_type": "markdown",
   "metadata": {},
   "source": [
    "### Plotting Letter Count Distribution"
   ]
  },
  {
   "cell_type": "code",
   "execution_count": null,
   "metadata": {},
   "outputs": [
    {
     "data": {
      "application/vnd.plotly.v1+json": {
       "config": {
        "plotlyServerURL": "https://plot.ly"
       },
       "data": [
        {
         "alignmentgroup": "True",
         "hovertemplate": "Vowel=Yes<br>Letters=%{x}<br>Counts=%{y}<extra></extra>",
         "legendgroup": "Yes",
         "marker": {
          "color": "#6ca965",
          "pattern": {
           "shape": ""
          }
         },
         "name": "Yes",
         "offsetgroup": "Yes",
         "orientation": "v",
         "showlegend": true,
         "textposition": "auto",
         "type": "bar",
         "x": [
          "E",
          "A",
          "O",
          "I",
          "U",
          "Y"
         ],
         "xaxis": "x",
         "y": [
          1231,
          975,
          753,
          670,
          466,
          424
         ],
         "yaxis": "y"
        },
        {
         "alignmentgroup": "True",
         "hovertemplate": "Vowel=No<br>Letters=%{x}<br>Counts=%{y}<extra></extra>",
         "legendgroup": "No",
         "marker": {
          "color": "#c8b653",
          "pattern": {
           "shape": ""
          }
         },
         "name": "No",
         "offsetgroup": "No",
         "orientation": "v",
         "showlegend": true,
         "textposition": "auto",
         "type": "bar",
         "x": [
          "R",
          "T",
          "L",
          "S",
          "N",
          "C",
          "D",
          "H",
          "P",
          "M",
          "G",
          "B",
          "F",
          "K",
          "W",
          "V",
          "Z",
          "X",
          "Q",
          "J"
         ],
         "xaxis": "x",
         "y": [
          897,
          731,
          716,
          670,
          573,
          475,
          393,
          387,
          365,
          316,
          310,
          280,
          229,
          210,
          194,
          152,
          40,
          37,
          29,
          27
         ],
         "yaxis": "y"
        }
       ],
       "layout": {
        "barmode": "relative",
        "legend": {
         "title": {
          "text": "Vowel"
         },
         "tracegroupgap": 0
        },
        "template": {
         "data": {
          "bar": [
           {
            "error_x": {
             "color": "#2a3f5f"
            },
            "error_y": {
             "color": "#2a3f5f"
            },
            "marker": {
             "line": {
              "color": "#E5ECF6",
              "width": 0.5
             },
             "pattern": {
              "fillmode": "overlay",
              "size": 10,
              "solidity": 0.2
             }
            },
            "type": "bar"
           }
          ],
          "barpolar": [
           {
            "marker": {
             "line": {
              "color": "#E5ECF6",
              "width": 0.5
             },
             "pattern": {
              "fillmode": "overlay",
              "size": 10,
              "solidity": 0.2
             }
            },
            "type": "barpolar"
           }
          ],
          "carpet": [
           {
            "aaxis": {
             "endlinecolor": "#2a3f5f",
             "gridcolor": "white",
             "linecolor": "white",
             "minorgridcolor": "white",
             "startlinecolor": "#2a3f5f"
            },
            "baxis": {
             "endlinecolor": "#2a3f5f",
             "gridcolor": "white",
             "linecolor": "white",
             "minorgridcolor": "white",
             "startlinecolor": "#2a3f5f"
            },
            "type": "carpet"
           }
          ],
          "choropleth": [
           {
            "colorbar": {
             "outlinewidth": 0,
             "ticks": ""
            },
            "type": "choropleth"
           }
          ],
          "contour": [
           {
            "colorbar": {
             "outlinewidth": 0,
             "ticks": ""
            },
            "colorscale": [
             [
              0,
              "#0d0887"
             ],
             [
              0.1111111111111111,
              "#46039f"
             ],
             [
              0.2222222222222222,
              "#7201a8"
             ],
             [
              0.3333333333333333,
              "#9c179e"
             ],
             [
              0.4444444444444444,
              "#bd3786"
             ],
             [
              0.5555555555555556,
              "#d8576b"
             ],
             [
              0.6666666666666666,
              "#ed7953"
             ],
             [
              0.7777777777777778,
              "#fb9f3a"
             ],
             [
              0.8888888888888888,
              "#fdca26"
             ],
             [
              1,
              "#f0f921"
             ]
            ],
            "type": "contour"
           }
          ],
          "contourcarpet": [
           {
            "colorbar": {
             "outlinewidth": 0,
             "ticks": ""
            },
            "type": "contourcarpet"
           }
          ],
          "heatmap": [
           {
            "colorbar": {
             "outlinewidth": 0,
             "ticks": ""
            },
            "colorscale": [
             [
              0,
              "#0d0887"
             ],
             [
              0.1111111111111111,
              "#46039f"
             ],
             [
              0.2222222222222222,
              "#7201a8"
             ],
             [
              0.3333333333333333,
              "#9c179e"
             ],
             [
              0.4444444444444444,
              "#bd3786"
             ],
             [
              0.5555555555555556,
              "#d8576b"
             ],
             [
              0.6666666666666666,
              "#ed7953"
             ],
             [
              0.7777777777777778,
              "#fb9f3a"
             ],
             [
              0.8888888888888888,
              "#fdca26"
             ],
             [
              1,
              "#f0f921"
             ]
            ],
            "type": "heatmap"
           }
          ],
          "heatmapgl": [
           {
            "colorbar": {
             "outlinewidth": 0,
             "ticks": ""
            },
            "colorscale": [
             [
              0,
              "#0d0887"
             ],
             [
              0.1111111111111111,
              "#46039f"
             ],
             [
              0.2222222222222222,
              "#7201a8"
             ],
             [
              0.3333333333333333,
              "#9c179e"
             ],
             [
              0.4444444444444444,
              "#bd3786"
             ],
             [
              0.5555555555555556,
              "#d8576b"
             ],
             [
              0.6666666666666666,
              "#ed7953"
             ],
             [
              0.7777777777777778,
              "#fb9f3a"
             ],
             [
              0.8888888888888888,
              "#fdca26"
             ],
             [
              1,
              "#f0f921"
             ]
            ],
            "type": "heatmapgl"
           }
          ],
          "histogram": [
           {
            "marker": {
             "pattern": {
              "fillmode": "overlay",
              "size": 10,
              "solidity": 0.2
             }
            },
            "type": "histogram"
           }
          ],
          "histogram2d": [
           {
            "colorbar": {
             "outlinewidth": 0,
             "ticks": ""
            },
            "colorscale": [
             [
              0,
              "#0d0887"
             ],
             [
              0.1111111111111111,
              "#46039f"
             ],
             [
              0.2222222222222222,
              "#7201a8"
             ],
             [
              0.3333333333333333,
              "#9c179e"
             ],
             [
              0.4444444444444444,
              "#bd3786"
             ],
             [
              0.5555555555555556,
              "#d8576b"
             ],
             [
              0.6666666666666666,
              "#ed7953"
             ],
             [
              0.7777777777777778,
              "#fb9f3a"
             ],
             [
              0.8888888888888888,
              "#fdca26"
             ],
             [
              1,
              "#f0f921"
             ]
            ],
            "type": "histogram2d"
           }
          ],
          "histogram2dcontour": [
           {
            "colorbar": {
             "outlinewidth": 0,
             "ticks": ""
            },
            "colorscale": [
             [
              0,
              "#0d0887"
             ],
             [
              0.1111111111111111,
              "#46039f"
             ],
             [
              0.2222222222222222,
              "#7201a8"
             ],
             [
              0.3333333333333333,
              "#9c179e"
             ],
             [
              0.4444444444444444,
              "#bd3786"
             ],
             [
              0.5555555555555556,
              "#d8576b"
             ],
             [
              0.6666666666666666,
              "#ed7953"
             ],
             [
              0.7777777777777778,
              "#fb9f3a"
             ],
             [
              0.8888888888888888,
              "#fdca26"
             ],
             [
              1,
              "#f0f921"
             ]
            ],
            "type": "histogram2dcontour"
           }
          ],
          "mesh3d": [
           {
            "colorbar": {
             "outlinewidth": 0,
             "ticks": ""
            },
            "type": "mesh3d"
           }
          ],
          "parcoords": [
           {
            "line": {
             "colorbar": {
              "outlinewidth": 0,
              "ticks": ""
             }
            },
            "type": "parcoords"
           }
          ],
          "pie": [
           {
            "automargin": true,
            "type": "pie"
           }
          ],
          "scatter": [
           {
            "fillpattern": {
             "fillmode": "overlay",
             "size": 10,
             "solidity": 0.2
            },
            "type": "scatter"
           }
          ],
          "scatter3d": [
           {
            "line": {
             "colorbar": {
              "outlinewidth": 0,
              "ticks": ""
             }
            },
            "marker": {
             "colorbar": {
              "outlinewidth": 0,
              "ticks": ""
             }
            },
            "type": "scatter3d"
           }
          ],
          "scattercarpet": [
           {
            "marker": {
             "colorbar": {
              "outlinewidth": 0,
              "ticks": ""
             }
            },
            "type": "scattercarpet"
           }
          ],
          "scattergeo": [
           {
            "marker": {
             "colorbar": {
              "outlinewidth": 0,
              "ticks": ""
             }
            },
            "type": "scattergeo"
           }
          ],
          "scattergl": [
           {
            "marker": {
             "colorbar": {
              "outlinewidth": 0,
              "ticks": ""
             }
            },
            "type": "scattergl"
           }
          ],
          "scattermapbox": [
           {
            "marker": {
             "colorbar": {
              "outlinewidth": 0,
              "ticks": ""
             }
            },
            "type": "scattermapbox"
           }
          ],
          "scatterpolar": [
           {
            "marker": {
             "colorbar": {
              "outlinewidth": 0,
              "ticks": ""
             }
            },
            "type": "scatterpolar"
           }
          ],
          "scatterpolargl": [
           {
            "marker": {
             "colorbar": {
              "outlinewidth": 0,
              "ticks": ""
             }
            },
            "type": "scatterpolargl"
           }
          ],
          "scatterternary": [
           {
            "marker": {
             "colorbar": {
              "outlinewidth": 0,
              "ticks": ""
             }
            },
            "type": "scatterternary"
           }
          ],
          "surface": [
           {
            "colorbar": {
             "outlinewidth": 0,
             "ticks": ""
            },
            "colorscale": [
             [
              0,
              "#0d0887"
             ],
             [
              0.1111111111111111,
              "#46039f"
             ],
             [
              0.2222222222222222,
              "#7201a8"
             ],
             [
              0.3333333333333333,
              "#9c179e"
             ],
             [
              0.4444444444444444,
              "#bd3786"
             ],
             [
              0.5555555555555556,
              "#d8576b"
             ],
             [
              0.6666666666666666,
              "#ed7953"
             ],
             [
              0.7777777777777778,
              "#fb9f3a"
             ],
             [
              0.8888888888888888,
              "#fdca26"
             ],
             [
              1,
              "#f0f921"
             ]
            ],
            "type": "surface"
           }
          ],
          "table": [
           {
            "cells": {
             "fill": {
              "color": "#EBF0F8"
             },
             "line": {
              "color": "white"
             }
            },
            "header": {
             "fill": {
              "color": "#C8D4E3"
             },
             "line": {
              "color": "white"
             }
            },
            "type": "table"
           }
          ]
         },
         "layout": {
          "annotationdefaults": {
           "arrowcolor": "#2a3f5f",
           "arrowhead": 0,
           "arrowwidth": 1
          },
          "autotypenumbers": "strict",
          "coloraxis": {
           "colorbar": {
            "outlinewidth": 0,
            "ticks": ""
           }
          },
          "colorscale": {
           "diverging": [
            [
             0,
             "#8e0152"
            ],
            [
             0.1,
             "#c51b7d"
            ],
            [
             0.2,
             "#de77ae"
            ],
            [
             0.3,
             "#f1b6da"
            ],
            [
             0.4,
             "#fde0ef"
            ],
            [
             0.5,
             "#f7f7f7"
            ],
            [
             0.6,
             "#e6f5d0"
            ],
            [
             0.7,
             "#b8e186"
            ],
            [
             0.8,
             "#7fbc41"
            ],
            [
             0.9,
             "#4d9221"
            ],
            [
             1,
             "#276419"
            ]
           ],
           "sequential": [
            [
             0,
             "#0d0887"
            ],
            [
             0.1111111111111111,
             "#46039f"
            ],
            [
             0.2222222222222222,
             "#7201a8"
            ],
            [
             0.3333333333333333,
             "#9c179e"
            ],
            [
             0.4444444444444444,
             "#bd3786"
            ],
            [
             0.5555555555555556,
             "#d8576b"
            ],
            [
             0.6666666666666666,
             "#ed7953"
            ],
            [
             0.7777777777777778,
             "#fb9f3a"
            ],
            [
             0.8888888888888888,
             "#fdca26"
            ],
            [
             1,
             "#f0f921"
            ]
           ],
           "sequentialminus": [
            [
             0,
             "#0d0887"
            ],
            [
             0.1111111111111111,
             "#46039f"
            ],
            [
             0.2222222222222222,
             "#7201a8"
            ],
            [
             0.3333333333333333,
             "#9c179e"
            ],
            [
             0.4444444444444444,
             "#bd3786"
            ],
            [
             0.5555555555555556,
             "#d8576b"
            ],
            [
             0.6666666666666666,
             "#ed7953"
            ],
            [
             0.7777777777777778,
             "#fb9f3a"
            ],
            [
             0.8888888888888888,
             "#fdca26"
            ],
            [
             1,
             "#f0f921"
            ]
           ]
          },
          "colorway": [
           "#636efa",
           "#EF553B",
           "#00cc96",
           "#ab63fa",
           "#FFA15A",
           "#19d3f3",
           "#FF6692",
           "#B6E880",
           "#FF97FF",
           "#FECB52"
          ],
          "font": {
           "color": "#2a3f5f"
          },
          "geo": {
           "bgcolor": "white",
           "lakecolor": "white",
           "landcolor": "#E5ECF6",
           "showlakes": true,
           "showland": true,
           "subunitcolor": "white"
          },
          "hoverlabel": {
           "align": "left"
          },
          "hovermode": "closest",
          "mapbox": {
           "style": "light"
          },
          "paper_bgcolor": "white",
          "plot_bgcolor": "#E5ECF6",
          "polar": {
           "angularaxis": {
            "gridcolor": "white",
            "linecolor": "white",
            "ticks": ""
           },
           "bgcolor": "#E5ECF6",
           "radialaxis": {
            "gridcolor": "white",
            "linecolor": "white",
            "ticks": ""
           }
          },
          "scene": {
           "xaxis": {
            "backgroundcolor": "#E5ECF6",
            "gridcolor": "white",
            "gridwidth": 2,
            "linecolor": "white",
            "showbackground": true,
            "ticks": "",
            "zerolinecolor": "white"
           },
           "yaxis": {
            "backgroundcolor": "#E5ECF6",
            "gridcolor": "white",
            "gridwidth": 2,
            "linecolor": "white",
            "showbackground": true,
            "ticks": "",
            "zerolinecolor": "white"
           },
           "zaxis": {
            "backgroundcolor": "#E5ECF6",
            "gridcolor": "white",
            "gridwidth": 2,
            "linecolor": "white",
            "showbackground": true,
            "ticks": "",
            "zerolinecolor": "white"
           }
          },
          "shapedefaults": {
           "line": {
            "color": "#2a3f5f"
           }
          },
          "ternary": {
           "aaxis": {
            "gridcolor": "white",
            "linecolor": "white",
            "ticks": ""
           },
           "baxis": {
            "gridcolor": "white",
            "linecolor": "white",
            "ticks": ""
           },
           "bgcolor": "#E5ECF6",
           "caxis": {
            "gridcolor": "white",
            "linecolor": "white",
            "ticks": ""
           }
          },
          "title": {
           "x": 0.05
          },
          "xaxis": {
           "automargin": true,
           "gridcolor": "white",
           "linecolor": "white",
           "ticks": "",
           "title": {
            "standoff": 15
           },
           "zerolinecolor": "white",
           "zerolinewidth": 2
          },
          "yaxis": {
           "automargin": true,
           "gridcolor": "white",
           "linecolor": "white",
           "ticks": "",
           "title": {
            "standoff": 15
           },
           "zerolinecolor": "white",
           "zerolinewidth": 2
          }
         }
        },
        "title": {
         "font": {
          "size": 22
         },
         "text": "Distribution of Letters in Official Wordle List"
        },
        "xaxis": {
         "anchor": "y",
         "categoryorder": "total descending",
         "domain": [
          0,
          1
         ],
         "title": {
          "text": "Letters"
         }
        },
        "yaxis": {
         "anchor": "x",
         "domain": [
          0,
          1
         ],
         "title": {
          "text": "Counts"
         }
        }
       }
      }
     },
     "metadata": {},
     "output_type": "display_data"
    }
   ],
   "source": [
    "letter_counts = get_letter_counts(official_words)\n",
    "letter_counts_dict = {} # {letter : count}\n",
    "letter_counts_dict[\"Letters\"] = []\n",
    "letter_counts_dict[\"Counts\"] = []\n",
    "letter_counts_dict[\"Vowel\"] = []\n",
    "for tup in letter_counts:\n",
    "    letter_counts_dict[\"Letters\"].append(tup[0].upper())\n",
    "    letter_counts_dict[\"Counts\"].append(tup[1])\n",
    "    if tup[0] in \"aeiouy\":\n",
    "        letter_counts_dict[\"Vowel\"].append(\"Yes\")\n",
    "    else:\n",
    "        letter_counts_dict[\"Vowel\"].append(\"No\")\n",
    "\n",
    "letters_dist_df = pd.DataFrame(letter_counts_dict)\n",
    "letters_dist_df\n",
    "\n",
    "counts_plot = px.bar(letters_dist_df, x = \"Letters\", y = \"Counts\", title = \"Distribution of Letters in Official Wordle List\",\n",
    "                    color = \"Vowel\", color_discrete_map = {\"Yes\": \"#6ca965\", \"No\": \"#c8b653\"})\n",
    "counts_plot.update_layout(xaxis = {'categoryorder' : 'total descending'}, title_font_size = 22)\n",
    "\n",
    "counts_plot.show()"
   ]
  },
  {
   "attachments": {},
   "cell_type": "markdown",
   "metadata": {},
   "source": [
    "### Sum of Words Unique Letter Frequencies (best 15 and worst 15)"
   ]
  },
  {
   "cell_type": "code",
   "execution_count": null,
   "metadata": {},
   "outputs": [
    {
     "name": "stdout",
     "output_type": "stream",
     "text": [
      "11550\n"
     ]
    },
    {
     "data": {
      "application/vnd.plotly.v1+json": {
       "config": {
        "plotlyServerURL": "https://plot.ly"
       },
       "data": [
        {
         "alignmentgroup": "True",
         "hovertemplate": "Words=%{x}<br>Sum of Unique Letter Frequencies=%{y}<extra></extra>",
         "legendgroup": "",
         "marker": {
          "color": "#6ca965",
          "pattern": {
           "shape": ""
          }
         },
         "name": "",
         "offsetgroup": "",
         "orientation": "v",
         "showlegend": false,
         "textposition": "auto",
         "type": "bar",
         "x": [
          "later",
          "alert",
          "alter",
          "arose",
          "stare",
          "irate",
          "arise",
          "raise",
          "learn",
          "renal",
          "query",
          "slack",
          "vowel",
          "peace",
          "burst",
          "habit",
          "psalm",
          "guard",
          "helix",
          "vault",
          "fuzzy",
          "mummy",
          "vivid",
          "puppy",
          "mamma",
          "civic",
          "jiffy",
          "fizzy",
          "woozy",
          "fluff"
         ],
         "xaxis": "x",
         "y": [
          4550,
          4550,
          4550,
          4526,
          4504,
          4504,
          4443,
          4443,
          4392,
          4392,
          3047,
          3046,
          3046,
          3046,
          3044,
          3043,
          3042,
          3041,
          3041,
          3040,
          1159,
          1206,
          1215,
          1255,
          1291,
          1297,
          1350,
          1363,
          1411,
          1411
         ],
         "yaxis": "y"
        }
       ],
       "layout": {
        "barmode": "relative",
        "legend": {
         "tracegroupgap": 0
        },
        "template": {
         "data": {
          "bar": [
           {
            "error_x": {
             "color": "#2a3f5f"
            },
            "error_y": {
             "color": "#2a3f5f"
            },
            "marker": {
             "line": {
              "color": "#E5ECF6",
              "width": 0.5
             },
             "pattern": {
              "fillmode": "overlay",
              "size": 10,
              "solidity": 0.2
             }
            },
            "type": "bar"
           }
          ],
          "barpolar": [
           {
            "marker": {
             "line": {
              "color": "#E5ECF6",
              "width": 0.5
             },
             "pattern": {
              "fillmode": "overlay",
              "size": 10,
              "solidity": 0.2
             }
            },
            "type": "barpolar"
           }
          ],
          "carpet": [
           {
            "aaxis": {
             "endlinecolor": "#2a3f5f",
             "gridcolor": "white",
             "linecolor": "white",
             "minorgridcolor": "white",
             "startlinecolor": "#2a3f5f"
            },
            "baxis": {
             "endlinecolor": "#2a3f5f",
             "gridcolor": "white",
             "linecolor": "white",
             "minorgridcolor": "white",
             "startlinecolor": "#2a3f5f"
            },
            "type": "carpet"
           }
          ],
          "choropleth": [
           {
            "colorbar": {
             "outlinewidth": 0,
             "ticks": ""
            },
            "type": "choropleth"
           }
          ],
          "contour": [
           {
            "colorbar": {
             "outlinewidth": 0,
             "ticks": ""
            },
            "colorscale": [
             [
              0,
              "#0d0887"
             ],
             [
              0.1111111111111111,
              "#46039f"
             ],
             [
              0.2222222222222222,
              "#7201a8"
             ],
             [
              0.3333333333333333,
              "#9c179e"
             ],
             [
              0.4444444444444444,
              "#bd3786"
             ],
             [
              0.5555555555555556,
              "#d8576b"
             ],
             [
              0.6666666666666666,
              "#ed7953"
             ],
             [
              0.7777777777777778,
              "#fb9f3a"
             ],
             [
              0.8888888888888888,
              "#fdca26"
             ],
             [
              1,
              "#f0f921"
             ]
            ],
            "type": "contour"
           }
          ],
          "contourcarpet": [
           {
            "colorbar": {
             "outlinewidth": 0,
             "ticks": ""
            },
            "type": "contourcarpet"
           }
          ],
          "heatmap": [
           {
            "colorbar": {
             "outlinewidth": 0,
             "ticks": ""
            },
            "colorscale": [
             [
              0,
              "#0d0887"
             ],
             [
              0.1111111111111111,
              "#46039f"
             ],
             [
              0.2222222222222222,
              "#7201a8"
             ],
             [
              0.3333333333333333,
              "#9c179e"
             ],
             [
              0.4444444444444444,
              "#bd3786"
             ],
             [
              0.5555555555555556,
              "#d8576b"
             ],
             [
              0.6666666666666666,
              "#ed7953"
             ],
             [
              0.7777777777777778,
              "#fb9f3a"
             ],
             [
              0.8888888888888888,
              "#fdca26"
             ],
             [
              1,
              "#f0f921"
             ]
            ],
            "type": "heatmap"
           }
          ],
          "heatmapgl": [
           {
            "colorbar": {
             "outlinewidth": 0,
             "ticks": ""
            },
            "colorscale": [
             [
              0,
              "#0d0887"
             ],
             [
              0.1111111111111111,
              "#46039f"
             ],
             [
              0.2222222222222222,
              "#7201a8"
             ],
             [
              0.3333333333333333,
              "#9c179e"
             ],
             [
              0.4444444444444444,
              "#bd3786"
             ],
             [
              0.5555555555555556,
              "#d8576b"
             ],
             [
              0.6666666666666666,
              "#ed7953"
             ],
             [
              0.7777777777777778,
              "#fb9f3a"
             ],
             [
              0.8888888888888888,
              "#fdca26"
             ],
             [
              1,
              "#f0f921"
             ]
            ],
            "type": "heatmapgl"
           }
          ],
          "histogram": [
           {
            "marker": {
             "pattern": {
              "fillmode": "overlay",
              "size": 10,
              "solidity": 0.2
             }
            },
            "type": "histogram"
           }
          ],
          "histogram2d": [
           {
            "colorbar": {
             "outlinewidth": 0,
             "ticks": ""
            },
            "colorscale": [
             [
              0,
              "#0d0887"
             ],
             [
              0.1111111111111111,
              "#46039f"
             ],
             [
              0.2222222222222222,
              "#7201a8"
             ],
             [
              0.3333333333333333,
              "#9c179e"
             ],
             [
              0.4444444444444444,
              "#bd3786"
             ],
             [
              0.5555555555555556,
              "#d8576b"
             ],
             [
              0.6666666666666666,
              "#ed7953"
             ],
             [
              0.7777777777777778,
              "#fb9f3a"
             ],
             [
              0.8888888888888888,
              "#fdca26"
             ],
             [
              1,
              "#f0f921"
             ]
            ],
            "type": "histogram2d"
           }
          ],
          "histogram2dcontour": [
           {
            "colorbar": {
             "outlinewidth": 0,
             "ticks": ""
            },
            "colorscale": [
             [
              0,
              "#0d0887"
             ],
             [
              0.1111111111111111,
              "#46039f"
             ],
             [
              0.2222222222222222,
              "#7201a8"
             ],
             [
              0.3333333333333333,
              "#9c179e"
             ],
             [
              0.4444444444444444,
              "#bd3786"
             ],
             [
              0.5555555555555556,
              "#d8576b"
             ],
             [
              0.6666666666666666,
              "#ed7953"
             ],
             [
              0.7777777777777778,
              "#fb9f3a"
             ],
             [
              0.8888888888888888,
              "#fdca26"
             ],
             [
              1,
              "#f0f921"
             ]
            ],
            "type": "histogram2dcontour"
           }
          ],
          "mesh3d": [
           {
            "colorbar": {
             "outlinewidth": 0,
             "ticks": ""
            },
            "type": "mesh3d"
           }
          ],
          "parcoords": [
           {
            "line": {
             "colorbar": {
              "outlinewidth": 0,
              "ticks": ""
             }
            },
            "type": "parcoords"
           }
          ],
          "pie": [
           {
            "automargin": true,
            "type": "pie"
           }
          ],
          "scatter": [
           {
            "fillpattern": {
             "fillmode": "overlay",
             "size": 10,
             "solidity": 0.2
            },
            "type": "scatter"
           }
          ],
          "scatter3d": [
           {
            "line": {
             "colorbar": {
              "outlinewidth": 0,
              "ticks": ""
             }
            },
            "marker": {
             "colorbar": {
              "outlinewidth": 0,
              "ticks": ""
             }
            },
            "type": "scatter3d"
           }
          ],
          "scattercarpet": [
           {
            "marker": {
             "colorbar": {
              "outlinewidth": 0,
              "ticks": ""
             }
            },
            "type": "scattercarpet"
           }
          ],
          "scattergeo": [
           {
            "marker": {
             "colorbar": {
              "outlinewidth": 0,
              "ticks": ""
             }
            },
            "type": "scattergeo"
           }
          ],
          "scattergl": [
           {
            "marker": {
             "colorbar": {
              "outlinewidth": 0,
              "ticks": ""
             }
            },
            "type": "scattergl"
           }
          ],
          "scattermapbox": [
           {
            "marker": {
             "colorbar": {
              "outlinewidth": 0,
              "ticks": ""
             }
            },
            "type": "scattermapbox"
           }
          ],
          "scatterpolar": [
           {
            "marker": {
             "colorbar": {
              "outlinewidth": 0,
              "ticks": ""
             }
            },
            "type": "scatterpolar"
           }
          ],
          "scatterpolargl": [
           {
            "marker": {
             "colorbar": {
              "outlinewidth": 0,
              "ticks": ""
             }
            },
            "type": "scatterpolargl"
           }
          ],
          "scatterternary": [
           {
            "marker": {
             "colorbar": {
              "outlinewidth": 0,
              "ticks": ""
             }
            },
            "type": "scatterternary"
           }
          ],
          "surface": [
           {
            "colorbar": {
             "outlinewidth": 0,
             "ticks": ""
            },
            "colorscale": [
             [
              0,
              "#0d0887"
             ],
             [
              0.1111111111111111,
              "#46039f"
             ],
             [
              0.2222222222222222,
              "#7201a8"
             ],
             [
              0.3333333333333333,
              "#9c179e"
             ],
             [
              0.4444444444444444,
              "#bd3786"
             ],
             [
              0.5555555555555556,
              "#d8576b"
             ],
             [
              0.6666666666666666,
              "#ed7953"
             ],
             [
              0.7777777777777778,
              "#fb9f3a"
             ],
             [
              0.8888888888888888,
              "#fdca26"
             ],
             [
              1,
              "#f0f921"
             ]
            ],
            "type": "surface"
           }
          ],
          "table": [
           {
            "cells": {
             "fill": {
              "color": "#EBF0F8"
             },
             "line": {
              "color": "white"
             }
            },
            "header": {
             "fill": {
              "color": "#C8D4E3"
             },
             "line": {
              "color": "white"
             }
            },
            "type": "table"
           }
          ]
         },
         "layout": {
          "annotationdefaults": {
           "arrowcolor": "#2a3f5f",
           "arrowhead": 0,
           "arrowwidth": 1
          },
          "autotypenumbers": "strict",
          "coloraxis": {
           "colorbar": {
            "outlinewidth": 0,
            "ticks": ""
           }
          },
          "colorscale": {
           "diverging": [
            [
             0,
             "#8e0152"
            ],
            [
             0.1,
             "#c51b7d"
            ],
            [
             0.2,
             "#de77ae"
            ],
            [
             0.3,
             "#f1b6da"
            ],
            [
             0.4,
             "#fde0ef"
            ],
            [
             0.5,
             "#f7f7f7"
            ],
            [
             0.6,
             "#e6f5d0"
            ],
            [
             0.7,
             "#b8e186"
            ],
            [
             0.8,
             "#7fbc41"
            ],
            [
             0.9,
             "#4d9221"
            ],
            [
             1,
             "#276419"
            ]
           ],
           "sequential": [
            [
             0,
             "#0d0887"
            ],
            [
             0.1111111111111111,
             "#46039f"
            ],
            [
             0.2222222222222222,
             "#7201a8"
            ],
            [
             0.3333333333333333,
             "#9c179e"
            ],
            [
             0.4444444444444444,
             "#bd3786"
            ],
            [
             0.5555555555555556,
             "#d8576b"
            ],
            [
             0.6666666666666666,
             "#ed7953"
            ],
            [
             0.7777777777777778,
             "#fb9f3a"
            ],
            [
             0.8888888888888888,
             "#fdca26"
            ],
            [
             1,
             "#f0f921"
            ]
           ],
           "sequentialminus": [
            [
             0,
             "#0d0887"
            ],
            [
             0.1111111111111111,
             "#46039f"
            ],
            [
             0.2222222222222222,
             "#7201a8"
            ],
            [
             0.3333333333333333,
             "#9c179e"
            ],
            [
             0.4444444444444444,
             "#bd3786"
            ],
            [
             0.5555555555555556,
             "#d8576b"
            ],
            [
             0.6666666666666666,
             "#ed7953"
            ],
            [
             0.7777777777777778,
             "#fb9f3a"
            ],
            [
             0.8888888888888888,
             "#fdca26"
            ],
            [
             1,
             "#f0f921"
            ]
           ]
          },
          "colorway": [
           "#636efa",
           "#EF553B",
           "#00cc96",
           "#ab63fa",
           "#FFA15A",
           "#19d3f3",
           "#FF6692",
           "#B6E880",
           "#FF97FF",
           "#FECB52"
          ],
          "font": {
           "color": "#2a3f5f"
          },
          "geo": {
           "bgcolor": "white",
           "lakecolor": "white",
           "landcolor": "#E5ECF6",
           "showlakes": true,
           "showland": true,
           "subunitcolor": "white"
          },
          "hoverlabel": {
           "align": "left"
          },
          "hovermode": "closest",
          "mapbox": {
           "style": "light"
          },
          "paper_bgcolor": "white",
          "plot_bgcolor": "#E5ECF6",
          "polar": {
           "angularaxis": {
            "gridcolor": "white",
            "linecolor": "white",
            "ticks": ""
           },
           "bgcolor": "#E5ECF6",
           "radialaxis": {
            "gridcolor": "white",
            "linecolor": "white",
            "ticks": ""
           }
          },
          "scene": {
           "xaxis": {
            "backgroundcolor": "#E5ECF6",
            "gridcolor": "white",
            "gridwidth": 2,
            "linecolor": "white",
            "showbackground": true,
            "ticks": "",
            "zerolinecolor": "white"
           },
           "yaxis": {
            "backgroundcolor": "#E5ECF6",
            "gridcolor": "white",
            "gridwidth": 2,
            "linecolor": "white",
            "showbackground": true,
            "ticks": "",
            "zerolinecolor": "white"
           },
           "zaxis": {
            "backgroundcolor": "#E5ECF6",
            "gridcolor": "white",
            "gridwidth": 2,
            "linecolor": "white",
            "showbackground": true,
            "ticks": "",
            "zerolinecolor": "white"
           }
          },
          "shapedefaults": {
           "line": {
            "color": "#2a3f5f"
           }
          },
          "ternary": {
           "aaxis": {
            "gridcolor": "white",
            "linecolor": "white",
            "ticks": ""
           },
           "baxis": {
            "gridcolor": "white",
            "linecolor": "white",
            "ticks": ""
           },
           "bgcolor": "#E5ECF6",
           "caxis": {
            "gridcolor": "white",
            "linecolor": "white",
            "ticks": ""
           }
          },
          "title": {
           "x": 0.05
          },
          "xaxis": {
           "automargin": true,
           "gridcolor": "white",
           "linecolor": "white",
           "ticks": "",
           "title": {
            "standoff": 15
           },
           "zerolinecolor": "white",
           "zerolinewidth": 2
          },
          "yaxis": {
           "automargin": true,
           "gridcolor": "white",
           "linecolor": "white",
           "ticks": "",
           "title": {
            "standoff": 15
           },
           "zerolinecolor": "white",
           "zerolinewidth": 2
          }
         }
        },
        "title": {
         "font": {
          "size": 22
         },
         "text": "Sum of Words' Unique Letter Frequencies"
        },
        "xaxis": {
         "anchor": "y",
         "categoryorder": "total descending",
         "domain": [
          0,
          1
         ],
         "title": {
          "text": "Words"
         }
        },
        "yaxis": {
         "anchor": "x",
         "domain": [
          0,
          1
         ],
         "title": {
          "text": "Sum of Unique Letter Frequencies"
         }
        }
       }
      }
     },
     "metadata": {},
     "output_type": "display_data"
    }
   ],
   "source": [
    "total_letters_sum = sum(count for letter, count in letter_counts) \n",
    "assert total_letters_sum == len(official_words) * 5 # same as 2310 * 5 -- makes sense\n",
    "print(total_letters_sum)\n",
    "\n",
    "word_counts = []\n",
    "\n",
    "for word in official_words:\n",
    "    \n",
    "    # get set of all letters in the word (this intentionally doesn't count duplicate letters)\n",
    "    word_letters = set()\n",
    "    for letter in word:\n",
    "        word_letters.add(letter)\n",
    "    \n",
    "    # get the sum of all counts of each letter in the word\n",
    "    word_sum = 0\n",
    "    for letter in word_letters:\n",
    "        word_sum += dict(letter_counts)[letter]\n",
    "\n",
    "    # finally, add the word and its letter count sum to the list    \n",
    "    word_counts.append((word, word_sum))\n",
    "\n",
    "### Best and worst x words\n",
    "words_counts_top_10 = sorted(word_counts, key = operator.itemgetter(1), reverse = True)[:10] # top 10 words\n",
    "words_counts_middle_10 = sorted(word_counts, key = operator.itemgetter(1), reverse = True)[(len(word_counts) // 2) - 5 : (len(word_counts) // 2) + 5] # top 10 words\n",
    "words_counts_bottom_10 = sorted(word_counts, key = operator.itemgetter(1), reverse = False)[:10] # bottom 10 words\n",
    "words_counts_x_dict = {}\n",
    "words_counts_x_dict[\"Words\"] = []\n",
    "words_counts_x_dict[\"Sum of Unique Letter Frequencies\"] = []\n",
    "for word, rating in words_counts_top_10:\n",
    "    words_counts_x_dict[\"Words\"].append(word)\n",
    "    words_counts_x_dict[\"Sum of Unique Letter Frequencies\"].append(rating)\n",
    "for word, rating in words_counts_middle_10:\n",
    "    words_counts_x_dict[\"Words\"].append(word)\n",
    "    words_counts_x_dict[\"Sum of Unique Letter Frequencies\"].append(rating)\n",
    "for word, rating in words_counts_bottom_10:\n",
    "    words_counts_x_dict[\"Words\"].append(word)\n",
    "    words_counts_x_dict[\"Sum of Unique Letter Frequencies\"].append(rating)\n",
    "\n",
    "words_counts_x_df = pd.DataFrame(words_counts_x_dict)\n",
    "words_counts_x_plot = px.bar(words_counts_x_df, x = \"Words\", y = \"Sum of Unique Letter Frequencies\", title = \"Sum of Words' Unique Letter Frequencies\")                            #   color_discrete_map = {\"Yes\": \"#6ca965\", \"No\": \"#c8b653\"})\n",
    "                            \n",
    "words_counts_x_plot.update_layout(xaxis = {'categoryorder' : 'total descending'}, title_font_size = 22)\n",
    "words_counts_x_plot.update_traces(marker_color = \"#6ca965\")\n",
    "\n",
    "words_counts_x_plot.show()"
   ]
  },
  {
   "attachments": {},
   "cell_type": "markdown",
   "metadata": {},
   "source": [
    "## Testing Best and Worst Words Against all Wordle Words"
   ]
  },
  {
   "cell_type": "code",
   "execution_count": null,
   "metadata": {},
   "outputs": [
    {
     "name": "stderr",
     "output_type": "stream",
     "text": [
      "/opt/miniconda3/lib/python3.10/site-packages/numpy/core/fromnumeric.py:3464: RuntimeWarning:\n",
      "\n",
      "Mean of empty slice.\n",
      "\n",
      "/opt/miniconda3/lib/python3.10/site-packages/numpy/core/_methods.py:192: RuntimeWarning:\n",
      "\n",
      "invalid value encountered in scalar divide\n",
      "\n"
     ]
    },
    {
     "name": "stdout",
     "output_type": "stream",
     "text": [
      "4619 iterations run. 0 combinations excepted.\n",
      "[]\n",
      "(4619, 19)\n",
      "['later', 'fuzzy']\n"
     ]
    },
    {
     "data": {
      "text/html": [
       "<div>\n",
       "<style scoped>\n",
       "    .dataframe tbody tr th:only-of-type {\n",
       "        vertical-align: middle;\n",
       "    }\n",
       "\n",
       "    .dataframe tbody tr th {\n",
       "        vertical-align: top;\n",
       "    }\n",
       "\n",
       "    .dataframe thead th {\n",
       "        text-align: right;\n",
       "    }\n",
       "</style>\n",
       "<table border=\"1\" class=\"dataframe\">\n",
       "  <thead>\n",
       "    <tr style=\"text-align: right;\">\n",
       "      <th></th>\n",
       "      <th>first_guess</th>\n",
       "      <th>target_word</th>\n",
       "      <th>first_guess_vowels</th>\n",
       "      <th>first_guess_consonants</th>\n",
       "      <th>target_vowels</th>\n",
       "      <th>target_consonants</th>\n",
       "      <th>first_guess_meaning</th>\n",
       "      <th>target_meaning</th>\n",
       "      <th>target_guessed</th>\n",
       "      <th>mid_guesses_avg_vows</th>\n",
       "      <th>mid_guesses_avg_cons</th>\n",
       "      <th>avg_perf_letters</th>\n",
       "      <th>avg_wrong_pos_letters</th>\n",
       "      <th>avg_wrong_letters</th>\n",
       "      <th>avg_remaining</th>\n",
       "      <th>avg_intermediate_guess_meaning</th>\n",
       "      <th>luck</th>\n",
       "      <th>valid_success</th>\n",
       "      <th>num_guesses</th>\n",
       "    </tr>\n",
       "  </thead>\n",
       "  <tbody>\n",
       "    <tr>\n",
       "      <th>0</th>\n",
       "      <td>later</td>\n",
       "      <td>thyme</td>\n",
       "      <td>2.0</td>\n",
       "      <td>3.0</td>\n",
       "      <td>2.0</td>\n",
       "      <td>3.0</td>\n",
       "      <td>100.0</td>\n",
       "      <td>56.91</td>\n",
       "      <td>True</td>\n",
       "      <td>2.0</td>\n",
       "      <td>3.0</td>\n",
       "      <td>3.0</td>\n",
       "      <td>8.0</td>\n",
       "      <td>18.0</td>\n",
       "      <td>21.33</td>\n",
       "      <td>100.0</td>\n",
       "      <td>0.65</td>\n",
       "      <td>True</td>\n",
       "      <td>4.0</td>\n",
       "    </tr>\n",
       "    <tr>\n",
       "      <th>1</th>\n",
       "      <td>later</td>\n",
       "      <td>mower</td>\n",
       "      <td>2.0</td>\n",
       "      <td>3.0</td>\n",
       "      <td>2.0</td>\n",
       "      <td>3.0</td>\n",
       "      <td>100.0</td>\n",
       "      <td>65.84</td>\n",
       "      <td>True</td>\n",
       "      <td>2.0</td>\n",
       "      <td>3.0</td>\n",
       "      <td>11.0</td>\n",
       "      <td>1.0</td>\n",
       "      <td>23.0</td>\n",
       "      <td>25.75</td>\n",
       "      <td>100.0</td>\n",
       "      <td>0.57</td>\n",
       "      <td>True</td>\n",
       "      <td>5.0</td>\n",
       "    </tr>\n",
       "    <tr>\n",
       "      <th>2</th>\n",
       "      <td>later</td>\n",
       "      <td>horde</td>\n",
       "      <td>2.0</td>\n",
       "      <td>3.0</td>\n",
       "      <td>2.0</td>\n",
       "      <td>3.0</td>\n",
       "      <td>100.0</td>\n",
       "      <td>73.81</td>\n",
       "      <td>True</td>\n",
       "      <td>2.0</td>\n",
       "      <td>3.0</td>\n",
       "      <td>1.0</td>\n",
       "      <td>6.0</td>\n",
       "      <td>8.0</td>\n",
       "      <td>52.50</td>\n",
       "      <td>100.0</td>\n",
       "      <td>0.74</td>\n",
       "      <td>True</td>\n",
       "      <td>3.0</td>\n",
       "    </tr>\n",
       "    <tr>\n",
       "      <th>3</th>\n",
       "      <td>later</td>\n",
       "      <td>heard</td>\n",
       "      <td>2.0</td>\n",
       "      <td>3.0</td>\n",
       "      <td>2.0</td>\n",
       "      <td>3.0</td>\n",
       "      <td>100.0</td>\n",
       "      <td>80.35</td>\n",
       "      <td>True</td>\n",
       "      <td>2.5</td>\n",
       "      <td>2.5</td>\n",
       "      <td>3.0</td>\n",
       "      <td>15.0</td>\n",
       "      <td>12.0</td>\n",
       "      <td>20.33</td>\n",
       "      <td>100.0</td>\n",
       "      <td>0.65</td>\n",
       "      <td>True</td>\n",
       "      <td>4.0</td>\n",
       "    </tr>\n",
       "    <tr>\n",
       "      <th>4</th>\n",
       "      <td>later</td>\n",
       "      <td>tenor</td>\n",
       "      <td>2.0</td>\n",
       "      <td>3.0</td>\n",
       "      <td>2.0</td>\n",
       "      <td>3.0</td>\n",
       "      <td>100.0</td>\n",
       "      <td>89.24</td>\n",
       "      <td>True</td>\n",
       "      <td>2.0</td>\n",
       "      <td>3.0</td>\n",
       "      <td>1.0</td>\n",
       "      <td>2.0</td>\n",
       "      <td>2.0</td>\n",
       "      <td>2.00</td>\n",
       "      <td>100.0</td>\n",
       "      <td>0.83</td>\n",
       "      <td>True</td>\n",
       "      <td>2.0</td>\n",
       "    </tr>\n",
       "  </tbody>\n",
       "</table>\n",
       "</div>"
      ],
      "text/plain": [
       "  first_guess target_word  first_guess_vowels  first_guess_consonants  \\\n",
       "0       later       thyme                 2.0                     3.0   \n",
       "1       later       mower                 2.0                     3.0   \n",
       "2       later       horde                 2.0                     3.0   \n",
       "3       later       heard                 2.0                     3.0   \n",
       "4       later       tenor                 2.0                     3.0   \n",
       "\n",
       "   target_vowels  target_consonants  first_guess_meaning  target_meaning  \\\n",
       "0            2.0                3.0                100.0           56.91   \n",
       "1            2.0                3.0                100.0           65.84   \n",
       "2            2.0                3.0                100.0           73.81   \n",
       "3            2.0                3.0                100.0           80.35   \n",
       "4            2.0                3.0                100.0           89.24   \n",
       "\n",
       "   target_guessed  mid_guesses_avg_vows  mid_guesses_avg_cons  \\\n",
       "0            True                   2.0                   3.0   \n",
       "1            True                   2.0                   3.0   \n",
       "2            True                   2.0                   3.0   \n",
       "3            True                   2.5                   2.5   \n",
       "4            True                   2.0                   3.0   \n",
       "\n",
       "   avg_perf_letters  avg_wrong_pos_letters  avg_wrong_letters  avg_remaining  \\\n",
       "0               3.0                    8.0               18.0          21.33   \n",
       "1              11.0                    1.0               23.0          25.75   \n",
       "2               1.0                    6.0                8.0          52.50   \n",
       "3               3.0                   15.0               12.0          20.33   \n",
       "4               1.0                    2.0                2.0           2.00   \n",
       "\n",
       "   avg_intermediate_guess_meaning  luck  valid_success  num_guesses  \n",
       "0                           100.0  0.65           True          4.0  \n",
       "1                           100.0  0.57           True          5.0  \n",
       "2                           100.0  0.74           True          3.0  \n",
       "3                           100.0  0.65           True          4.0  \n",
       "4                           100.0  0.83           True          2.0  "
      ]
     },
     "execution_count": 170,
     "metadata": {},
     "output_type": "execute_result"
    }
   ],
   "source": [
    "excepts = [] # keeping track of word combinations that don't work for some reason\n",
    "\n",
    "stats_master = {}\n",
    "\n",
    "for start_word in [\"later\", \"fuzzy\"]:\n",
    "\n",
    "    for target_word in official_words:\n",
    "\n",
    "        ## only run the combination if it hasn't been done already\n",
    "        try:\n",
    "            complete = wordle_wizard(word_list = official_words, max_guesses = 15, \n",
    "                guess = start_word, target = target_word,\n",
    "                random_guess = False, random_target = False, \n",
    "                    verbose = False, drama = 0, return_stats = True)\n",
    "\n",
    "        except:\n",
    "            IndexError\n",
    "            excepts.append((complete[\"first_guess\"], complete[\"target_word\"]))\n",
    "            \n",
    "        for metric, result in complete.items():\n",
    "            if metric in stats_master.keys():\n",
    "                stats_master[metric].append(result)\n",
    "            else:\n",
    "                stats_master[metric] = []\n",
    "\n",
    "### df creation and csv writing \n",
    "sims_df = pd.DataFrame(stats_master)\n",
    "\n",
    "print(f\"{len(sims_df)} iterations run. {len(excepts)} combinations excepted.\")\n",
    "print(excepts[:10])\n",
    "\n",
    "print(sims_df.shape)\n",
    "print(sims_df['first_guess'].unique().tolist())\n",
    "sims_df.head()"
   ]
  },
  {
   "cell_type": "code",
   "execution_count": null,
   "metadata": {},
   "outputs": [
    {
     "data": {
      "application/vnd.plotly.v1+json": {
       "config": {
        "plotlyServerURL": "https://plot.ly"
       },
       "data": [
        {
         "alignmentgroup": "True",
         "bingroup": "x",
         "hovertemplate": "Number of Guesses=%{x}<br>count=%{y}<extra></extra>",
         "legendgroup": "",
         "marker": {
          "color": "#6ca965",
          "pattern": {
           "shape": ""
          }
         },
         "name": "",
         "offsetgroup": "",
         "orientation": "v",
         "showlegend": false,
         "type": "histogram",
         "x": [
          4,
          5,
          3,
          4,
          2,
          3,
          5,
          3,
          5,
          5,
          4,
          6,
          3,
          4,
          4,
          3,
          4,
          4,
          3,
          3,
          3,
          5,
          3,
          5,
          3,
          4,
          3,
          3,
          3,
          4,
          6,
          4,
          4,
          4,
          5,
          4,
          4,
          3,
          4,
          3,
          4,
          3,
          4,
          4,
          3,
          2,
          3,
          3,
          4,
          6,
          4,
          4,
          2,
          5,
          5,
          4,
          3,
          3,
          5,
          3,
          4,
          4,
          3,
          4,
          3,
          4,
          4,
          3,
          4,
          5,
          4,
          4,
          5,
          3,
          3,
          4,
          4,
          4,
          5,
          5,
          3,
          4,
          4,
          3,
          5,
          4,
          5,
          6,
          3,
          3,
          4,
          2,
          3,
          4,
          3,
          4,
          4,
          6,
          5,
          4,
          4,
          4,
          4,
          3,
          3,
          4,
          3,
          2,
          4,
          4,
          4,
          5,
          3,
          4,
          3,
          4,
          3,
          3,
          3,
          4,
          3,
          3,
          3,
          5,
          4,
          4,
          3,
          4,
          3,
          4,
          4,
          5,
          3,
          4,
          3,
          2,
          5,
          4,
          4,
          4,
          4,
          4,
          4,
          4,
          4,
          4,
          5,
          5,
          4,
          3,
          4,
          3,
          2,
          4,
          2,
          4,
          3,
          6,
          3,
          4,
          3,
          3,
          5,
          3,
          4,
          4,
          3,
          4,
          3,
          4,
          3,
          5,
          4,
          4,
          4,
          7,
          3,
          4,
          4,
          4,
          4,
          6,
          2,
          2,
          4,
          4,
          4,
          4,
          4,
          3,
          4,
          3,
          4,
          2,
          3,
          3,
          4,
          5,
          3,
          3,
          3,
          3,
          4,
          4,
          4,
          4,
          2,
          4,
          4,
          5,
          4,
          3,
          4,
          3,
          3,
          5,
          4,
          3,
          4,
          3,
          4,
          4,
          4,
          3,
          3,
          4,
          4,
          3,
          4,
          4,
          3,
          4,
          2,
          5,
          4,
          3,
          4,
          6,
          4,
          2,
          4,
          3,
          5,
          5,
          4,
          3,
          3,
          4,
          3,
          3,
          4,
          3,
          2,
          4,
          6,
          4,
          3,
          4,
          3,
          5,
          5,
          2,
          4,
          5,
          3,
          3,
          3,
          3,
          2,
          3,
          3,
          4,
          4,
          3,
          4,
          4,
          3,
          3,
          5,
          3,
          4,
          4,
          5,
          5,
          4,
          3,
          3,
          3,
          2,
          3,
          4,
          6,
          4,
          4,
          3,
          3,
          4,
          5,
          2,
          6,
          4,
          3,
          3,
          3,
          3,
          3,
          6,
          4,
          4,
          5,
          4,
          4,
          3,
          3,
          5,
          4,
          2,
          3,
          4,
          2,
          4,
          6,
          3,
          4,
          3,
          5,
          5,
          4,
          3,
          5,
          4,
          3,
          5,
          3,
          3,
          2,
          4,
          4,
          4,
          4,
          3,
          2,
          4,
          4,
          3,
          4,
          3,
          5,
          5,
          3,
          4,
          5,
          4,
          3,
          5,
          3,
          2,
          4,
          4,
          4,
          3,
          6,
          3,
          4,
          4,
          4,
          4,
          5,
          5,
          4,
          3,
          3,
          2,
          4,
          4,
          4,
          3,
          4,
          6,
          3,
          4,
          5,
          5,
          3,
          4,
          2,
          3,
          3,
          5,
          4,
          5,
          3,
          4,
          4,
          4,
          3,
          7,
          5,
          6,
          4,
          4,
          3,
          4,
          4,
          5,
          5,
          5,
          4,
          4,
          5,
          3,
          4,
          3,
          3,
          4,
          5,
          4,
          4,
          3,
          3,
          3,
          3,
          1,
          4,
          4,
          5,
          3,
          4,
          7,
          4,
          4,
          4,
          3,
          4,
          4,
          4,
          3,
          4,
          4,
          3,
          4,
          4,
          4,
          4,
          3,
          3,
          3,
          4,
          4,
          3,
          4,
          4,
          3,
          4,
          4,
          3,
          2,
          3,
          5,
          4,
          4,
          2,
          3,
          3,
          5,
          5,
          4,
          5,
          3,
          2,
          3,
          3,
          3,
          4,
          4,
          2,
          3,
          3,
          3,
          4,
          4,
          4,
          5,
          7,
          5,
          3,
          3,
          3,
          4,
          3,
          4,
          3,
          3,
          3,
          5,
          4,
          3,
          3,
          5,
          3,
          5,
          4,
          4,
          5,
          3,
          4,
          2,
          4,
          3,
          3,
          3,
          4,
          4,
          6,
          3,
          2,
          3,
          4,
          4,
          6,
          4,
          3,
          4,
          3,
          5,
          4,
          6,
          5,
          6,
          3,
          3,
          4,
          4,
          3,
          3,
          7,
          2,
          4,
          4,
          4,
          5,
          4,
          7,
          5,
          3,
          3,
          4,
          4,
          3,
          4,
          5,
          3,
          4,
          4,
          4,
          5,
          3,
          3,
          2,
          3,
          4,
          4,
          6,
          3,
          3,
          4,
          3,
          5,
          4,
          5,
          2,
          3,
          3,
          5,
          4,
          6,
          3,
          4,
          2,
          5,
          2,
          2,
          4,
          4,
          5,
          2,
          3,
          4,
          3,
          3,
          4,
          4,
          4,
          4,
          3,
          3,
          5,
          5,
          4,
          4,
          3,
          3,
          4,
          3,
          3,
          4,
          4,
          4,
          5,
          4,
          3,
          4,
          5,
          4,
          3,
          3,
          3,
          4,
          4,
          4,
          5,
          4,
          3,
          5,
          4,
          3,
          3,
          5,
          4,
          3,
          4,
          5,
          3,
          5,
          3,
          4,
          4,
          7,
          4,
          5,
          5,
          3,
          3,
          5,
          4,
          3,
          3,
          4,
          5,
          5,
          3,
          4,
          4,
          3,
          4,
          3,
          8,
          3,
          4,
          4,
          3,
          4,
          6,
          4,
          4,
          3,
          5,
          3,
          5,
          6,
          3,
          5,
          3,
          3,
          3,
          3,
          4,
          4,
          4,
          3,
          3,
          3,
          5,
          3,
          3,
          3,
          4,
          3,
          3,
          3,
          3,
          4,
          4,
          4,
          5,
          4,
          4,
          4,
          3,
          4,
          4,
          4,
          4,
          3,
          5,
          4,
          4,
          5,
          3,
          3,
          5,
          5,
          3,
          3,
          4,
          4,
          3,
          4,
          4,
          4,
          4,
          3,
          3,
          5,
          4,
          4,
          3,
          3,
          3,
          4,
          3,
          3,
          4,
          6,
          3,
          6,
          4,
          5,
          4,
          3,
          4,
          4,
          3,
          3,
          4,
          5,
          3,
          3,
          5,
          4,
          4,
          2,
          3,
          4,
          4,
          2,
          4,
          2,
          3,
          3,
          2,
          3,
          4,
          4,
          4,
          3,
          6,
          3,
          5,
          3,
          4,
          4,
          3,
          5,
          4,
          3,
          4,
          2,
          6,
          4,
          5,
          2,
          4,
          3,
          4,
          4,
          4,
          3,
          5,
          3,
          2,
          5,
          3,
          4,
          3,
          4,
          4,
          4,
          4,
          4,
          4,
          4,
          5,
          5,
          4,
          4,
          3,
          2,
          4,
          3,
          3,
          2,
          5,
          5,
          5,
          6,
          3,
          5,
          3,
          2,
          3,
          7,
          3,
          3,
          4,
          4,
          4,
          6,
          4,
          3,
          3,
          3,
          3,
          7,
          3,
          3,
          5,
          4,
          3,
          3,
          4,
          4,
          3,
          2,
          5,
          4,
          4,
          4,
          5,
          4,
          4,
          4,
          3,
          4,
          5,
          3,
          4,
          6,
          4,
          4,
          3,
          3,
          4,
          4,
          4,
          4,
          3,
          3,
          4,
          4,
          5,
          5,
          3,
          5,
          3,
          5,
          3,
          4,
          5,
          3,
          3,
          4,
          5,
          4,
          3,
          6,
          4,
          3,
          5,
          5,
          4,
          5,
          4,
          4,
          9,
          3,
          5,
          4,
          4,
          4,
          3,
          2,
          5,
          5,
          4,
          4,
          3,
          4,
          4,
          5,
          3,
          2,
          4,
          3,
          3,
          3,
          3,
          4,
          4,
          4,
          5,
          5,
          4,
          3,
          3,
          4,
          3,
          5,
          2,
          6,
          3,
          3,
          4,
          6,
          2,
          4,
          4,
          3,
          3,
          5,
          4,
          5,
          4,
          2,
          5,
          3,
          5,
          4,
          4,
          3,
          5,
          3,
          4,
          4,
          3,
          3,
          2,
          4,
          4,
          4,
          4,
          3,
          4,
          4,
          6,
          3,
          5,
          3,
          5,
          3,
          3,
          3,
          4,
          4,
          3,
          4,
          4,
          5,
          3,
          4,
          5,
          4,
          3,
          4,
          3,
          4,
          5,
          4,
          4,
          4,
          3,
          3,
          2,
          2,
          3,
          4,
          3,
          3,
          4,
          7,
          7,
          3,
          4,
          4,
          4,
          2,
          3,
          3,
          4,
          3,
          4,
          3,
          3,
          4,
          3,
          3,
          2,
          3,
          3,
          4,
          3,
          3,
          4,
          3,
          4,
          7,
          3,
          3,
          4,
          3,
          3,
          4,
          5,
          4,
          5,
          4,
          4,
          5,
          4,
          4,
          4,
          2,
          3,
          3,
          3,
          2,
          4,
          4,
          3,
          4,
          3,
          4,
          4,
          5,
          4,
          2,
          3,
          4,
          3,
          4,
          5,
          4,
          2,
          7,
          4,
          4,
          4,
          6,
          5,
          5,
          4,
          4,
          3,
          4,
          3,
          3,
          3,
          2,
          3,
          4,
          4,
          3,
          3,
          4,
          4,
          4,
          3,
          4,
          4,
          3,
          4,
          5,
          5,
          3,
          3,
          3,
          4,
          4,
          4,
          3,
          6,
          4,
          4,
          4,
          3,
          3,
          4,
          4,
          4,
          4,
          3,
          4,
          4,
          4,
          5,
          5,
          5,
          4,
          3,
          4,
          4,
          3,
          4,
          4,
          4,
          3,
          5,
          5,
          3,
          3,
          4,
          5,
          5,
          4,
          3,
          4,
          3,
          3,
          5,
          4,
          4,
          5,
          3,
          3,
          5,
          3,
          6,
          6,
          6,
          4,
          3,
          4,
          5,
          3,
          3,
          3,
          3,
          3,
          2,
          5,
          3,
          3,
          3,
          4,
          2,
          5,
          3,
          4,
          6,
          5,
          3,
          3,
          2,
          4,
          3,
          3,
          3,
          2,
          4,
          3,
          3,
          4,
          6,
          5,
          6,
          4,
          4,
          5,
          4,
          2,
          5,
          4,
          3,
          4,
          4,
          4,
          3,
          5,
          3,
          5,
          5,
          4,
          3,
          5,
          4,
          4,
          3,
          3,
          3,
          4,
          4,
          3,
          3,
          4,
          3,
          4,
          3,
          3,
          4,
          3,
          4,
          5,
          3,
          3,
          3,
          4,
          5,
          3,
          4,
          4,
          4,
          4,
          5,
          4,
          3,
          4,
          4,
          3,
          3,
          4,
          2,
          4,
          4,
          5,
          4,
          5,
          3,
          3,
          5,
          3,
          4,
          4,
          5,
          4,
          4,
          4,
          3,
          4,
          3,
          5,
          2,
          3,
          3,
          5,
          4,
          2,
          3,
          5,
          4,
          4,
          6,
          4,
          5,
          4,
          3,
          5,
          3,
          4,
          5,
          6,
          5,
          4,
          4,
          7,
          4,
          4,
          3,
          4,
          5,
          5,
          4,
          3,
          5,
          4,
          2,
          6,
          4,
          4,
          4,
          2,
          4,
          4,
          4,
          5,
          5,
          4,
          5,
          4,
          4,
          3,
          3,
          2,
          6,
          5,
          4,
          4,
          4,
          4,
          3,
          2,
          4,
          5,
          5,
          4,
          4,
          3,
          5,
          2,
          5,
          3,
          6,
          4,
          5,
          6,
          3,
          3,
          4,
          4,
          4,
          4,
          5,
          3,
          3,
          6,
          5,
          5,
          4,
          4,
          3,
          3,
          4,
          4,
          5,
          2,
          2,
          4,
          3,
          4,
          3,
          4,
          4,
          6,
          3,
          4,
          5,
          5,
          4,
          3,
          5,
          4,
          4,
          3,
          5,
          6,
          2,
          4,
          4,
          4,
          2,
          3,
          3,
          5,
          4,
          3,
          2,
          4,
          3,
          5,
          3,
          5,
          4,
          3,
          4,
          3,
          4,
          5,
          6,
          3,
          5,
          3,
          2,
          3,
          2,
          4,
          3,
          3,
          3,
          5,
          4,
          3,
          3,
          4,
          5,
          5,
          5,
          3,
          5,
          3,
          4,
          2,
          3,
          5,
          6,
          3,
          2,
          3,
          3,
          3,
          3,
          6,
          3,
          2,
          4,
          5,
          5,
          4,
          4,
          4,
          5,
          3,
          4,
          4,
          3,
          4,
          3,
          4,
          4,
          4,
          3,
          4,
          5,
          4,
          2,
          3,
          4,
          3,
          5,
          4,
          3,
          4,
          4,
          3,
          5,
          4,
          2,
          4,
          4,
          4,
          4,
          6,
          4,
          4,
          5,
          4,
          4,
          4,
          4,
          5,
          5,
          8,
          4,
          3,
          4,
          4,
          5,
          4,
          4,
          4,
          3,
          4,
          4,
          4,
          3,
          3,
          4,
          4,
          4,
          3,
          7,
          3,
          2,
          4,
          4,
          4,
          4,
          2,
          3,
          3,
          5,
          5,
          4,
          5,
          4,
          3,
          4,
          4,
          5,
          3,
          4,
          5,
          3,
          3,
          4,
          5,
          4,
          4,
          4,
          4,
          8,
          4,
          2,
          3,
          3,
          4,
          3,
          3,
          4,
          4,
          5,
          3,
          3,
          3,
          3,
          4,
          2,
          3,
          5,
          4,
          4,
          3,
          2,
          4,
          3,
          4,
          4,
          3,
          3,
          4,
          3,
          4,
          5,
          6,
          4,
          4,
          3,
          4,
          5,
          3,
          4,
          5,
          2,
          2,
          3,
          4,
          5,
          4,
          4,
          4,
          3,
          5,
          5,
          3,
          4,
          4,
          3,
          3,
          3,
          3,
          4,
          3,
          3,
          2,
          3,
          5,
          4,
          3,
          5,
          5,
          5,
          8,
          4,
          4,
          3,
          4,
          3,
          3,
          3,
          3,
          4,
          5,
          4,
          5,
          3,
          5,
          3,
          3,
          3,
          3,
          4,
          3,
          5,
          5,
          4,
          3,
          3,
          4,
          2,
          3,
          3,
          3,
          3,
          5,
          4,
          3,
          4,
          4,
          3,
          3,
          4,
          3,
          3,
          4,
          3,
          3,
          4,
          3,
          4,
          4,
          4,
          3,
          4,
          3,
          4,
          2,
          3,
          2,
          2,
          4,
          4,
          4,
          4,
          3,
          3,
          3,
          5,
          3,
          3,
          4,
          5,
          3,
          4,
          3,
          3,
          6,
          5,
          4,
          3,
          3,
          4,
          4,
          6,
          3,
          2,
          3,
          3,
          3,
          4,
          4,
          3,
          4,
          3,
          3,
          4,
          2,
          4,
          4,
          4,
          3,
          4,
          5,
          4,
          3,
          4,
          5,
          4,
          4,
          3,
          3,
          5,
          3,
          3,
          4,
          5,
          3,
          3,
          3,
          4,
          2,
          4,
          4,
          5,
          4,
          3,
          4,
          5,
          4,
          3,
          3,
          3,
          3,
          4,
          4,
          2,
          4,
          3,
          4,
          4,
          3,
          4,
          4,
          4,
          4,
          2,
          4,
          4,
          4,
          6,
          4,
          3,
          6,
          8,
          3,
          4,
          4,
          3,
          5,
          4,
          4,
          6,
          3,
          6,
          4,
          4,
          3,
          5,
          3,
          4,
          2,
          4,
          5,
          3,
          3,
          3,
          4,
          3,
          4,
          4,
          3,
          4,
          3,
          3,
          4,
          3,
          3,
          4,
          4,
          5,
          3,
          4,
          5,
          3,
          7,
          4,
          4,
          5,
          7,
          3,
          5,
          4,
          6,
          3,
          3,
          4,
          4,
          3,
          4,
          2,
          4,
          3,
          3,
          3,
          4,
          5,
          3,
          3,
          5,
          2,
          4,
          4,
          3,
          4,
          3,
          5,
          3,
          6,
          3,
          4,
          5,
          4,
          3,
          4,
          4,
          4,
          6,
          3,
          4,
          3,
          3,
          2,
          3,
          6,
          3,
          3,
          4,
          4,
          3,
          3,
          3,
          4,
          5,
          3,
          4,
          3,
          4,
          3,
          4,
          3,
          5,
          2,
          5,
          4,
          4,
          3,
          3,
          4,
          4,
          4,
          5,
          3,
          2,
          5,
          3,
          3,
          5,
          3,
          3,
          6,
          6,
          4,
          3,
          5,
          4,
          4,
          4,
          4,
          3,
          6,
          3,
          3,
          5,
          4,
          3,
          4,
          3,
          4,
          3,
          4,
          2,
          5,
          4,
          3,
          3,
          4,
          2,
          3,
          4,
          3,
          5,
          4,
          2,
          4,
          3,
          2,
          6,
          3,
          3,
          5,
          4,
          3,
          3,
          4,
          5,
          4,
          3,
          5,
          5,
          3,
          5,
          3,
          4,
          4,
          4,
          4,
          6,
          4,
          3,
          4,
          4,
          3,
          3,
          3,
          3,
          5,
          6,
          4,
          4,
          2,
          4,
          3,
          3,
          4,
          2,
          5,
          4,
          6,
          5,
          3,
          6,
          5,
          4,
          4,
          3,
          3,
          4,
          4,
          4,
          4,
          4,
          2,
          2,
          5,
          6,
          4,
          4,
          3,
          3,
          3,
          4,
          4,
          4,
          3,
          3,
          4,
          3,
          4,
          5,
          4,
          4,
          4,
          4,
          3,
          3,
          5,
          3,
          4,
          5,
          3,
          6,
          4,
          5,
          3,
          4,
          4,
          3,
          5,
          3,
          4,
          3,
          4,
          3,
          4,
          4,
          4,
          4,
          3,
          6,
          3,
          3,
          3,
          6,
          5,
          3,
          4,
          3,
          3,
          3,
          4,
          4,
          4,
          4,
          4,
          4,
          4,
          2,
          3,
          3,
          4,
          3,
          5,
          4,
          4,
          4,
          4,
          3,
          4,
          6,
          4,
          3,
          3,
          4,
          5,
          5,
          6,
          5,
          3,
          3,
          5,
          4,
          4,
          3,
          4,
          3,
          3,
          5,
          4,
          3,
          5,
          4,
          4,
          3,
          4,
          5,
          3,
          4,
          4,
          3,
          4,
          3,
          4,
          4,
          4,
          4,
          3,
          3,
          3,
          3,
          3,
          4,
          4,
          4,
          4,
          4,
          3,
          2,
          5,
          2,
          5,
          4,
          5,
          4,
          5,
          3,
          5,
          3,
          6,
          3,
          4,
          4,
          5,
          2,
          3,
          4,
          4,
          3,
          5,
          4,
          4,
          2,
          4,
          4,
          4,
          4,
          3,
          7,
          5,
          4,
          4,
          4,
          3,
          4,
          4,
          3,
          3,
          4,
          3,
          3,
          4,
          5,
          6,
          3,
          4,
          3,
          4,
          4,
          5,
          3,
          3,
          4,
          3,
          6,
          3,
          5,
          3,
          3,
          6,
          3,
          3,
          4,
          6,
          4,
          4,
          5,
          5,
          5,
          4,
          3,
          3,
          4,
          4,
          3,
          3,
          4,
          4,
          3,
          4,
          5,
          4,
          6,
          4,
          4,
          4,
          4,
          3,
          4,
          4,
          5,
          4,
          2,
          4,
          5,
          6,
          4,
          4,
          3,
          4,
          3,
          4,
          5,
          3,
          4,
          3,
          4,
          4,
          3,
          5,
          3,
          3,
          4,
          3,
          4,
          4,
          2,
          4,
          3,
          3,
          6,
          4,
          3,
          4,
          4,
          3,
          2,
          4,
          3,
          3,
          3,
          3,
          4,
          3,
          3,
          4,
          3,
          6,
          2,
          5,
          4,
          4,
          3,
          5,
          3,
          3,
          3,
          5,
          4,
          4,
          3,
          2,
          7,
          3,
          4,
          4,
          3,
          3,
          3,
          5,
          5,
          3,
          3,
          4,
          6,
          5,
          4,
          3,
          3,
          5,
          3,
          4,
          4,
          4,
          3,
          4,
          4,
          3,
          3,
          4,
          5,
          4,
          3,
          4,
          4,
          5,
          4,
          4,
          3,
          3,
          4,
          4,
          2,
          3,
          3,
          3,
          5,
          4,
          4,
          4,
          4,
          4,
          6,
          3,
          4,
          4,
          3,
          4,
          5,
          3,
          3,
          3,
          2,
          5
         ],
         "xaxis": "x",
         "yaxis": "y"
        }
       ],
       "layout": {
        "annotations": [
         {
          "font": {
           "color": "black",
           "size": 20
          },
          "showarrow": false,
          "text": "Mean = 3.81",
          "x": 3.81,
          "xanchor": "left",
          "xref": "x",
          "y": 0.5,
          "yanchor": "middle",
          "yref": "y domain"
         }
        ],
        "barmode": "relative",
        "legend": {
         "tracegroupgap": 0
        },
        "shapes": [
         {
          "line": {
           "color": "black",
           "dash": "dot",
           "width": 4
          },
          "type": "line",
          "x0": 3.81,
          "x1": 3.81,
          "xref": "x",
          "y0": 0,
          "y1": 1,
          "yref": "y domain"
         }
        ],
        "template": {
         "data": {
          "bar": [
           {
            "error_x": {
             "color": "#2a3f5f"
            },
            "error_y": {
             "color": "#2a3f5f"
            },
            "marker": {
             "line": {
              "color": "#E5ECF6",
              "width": 0.5
             },
             "pattern": {
              "fillmode": "overlay",
              "size": 10,
              "solidity": 0.2
             }
            },
            "type": "bar"
           }
          ],
          "barpolar": [
           {
            "marker": {
             "line": {
              "color": "#E5ECF6",
              "width": 0.5
             },
             "pattern": {
              "fillmode": "overlay",
              "size": 10,
              "solidity": 0.2
             }
            },
            "type": "barpolar"
           }
          ],
          "carpet": [
           {
            "aaxis": {
             "endlinecolor": "#2a3f5f",
             "gridcolor": "white",
             "linecolor": "white",
             "minorgridcolor": "white",
             "startlinecolor": "#2a3f5f"
            },
            "baxis": {
             "endlinecolor": "#2a3f5f",
             "gridcolor": "white",
             "linecolor": "white",
             "minorgridcolor": "white",
             "startlinecolor": "#2a3f5f"
            },
            "type": "carpet"
           }
          ],
          "choropleth": [
           {
            "colorbar": {
             "outlinewidth": 0,
             "ticks": ""
            },
            "type": "choropleth"
           }
          ],
          "contour": [
           {
            "colorbar": {
             "outlinewidth": 0,
             "ticks": ""
            },
            "colorscale": [
             [
              0,
              "#0d0887"
             ],
             [
              0.1111111111111111,
              "#46039f"
             ],
             [
              0.2222222222222222,
              "#7201a8"
             ],
             [
              0.3333333333333333,
              "#9c179e"
             ],
             [
              0.4444444444444444,
              "#bd3786"
             ],
             [
              0.5555555555555556,
              "#d8576b"
             ],
             [
              0.6666666666666666,
              "#ed7953"
             ],
             [
              0.7777777777777778,
              "#fb9f3a"
             ],
             [
              0.8888888888888888,
              "#fdca26"
             ],
             [
              1,
              "#f0f921"
             ]
            ],
            "type": "contour"
           }
          ],
          "contourcarpet": [
           {
            "colorbar": {
             "outlinewidth": 0,
             "ticks": ""
            },
            "type": "contourcarpet"
           }
          ],
          "heatmap": [
           {
            "colorbar": {
             "outlinewidth": 0,
             "ticks": ""
            },
            "colorscale": [
             [
              0,
              "#0d0887"
             ],
             [
              0.1111111111111111,
              "#46039f"
             ],
             [
              0.2222222222222222,
              "#7201a8"
             ],
             [
              0.3333333333333333,
              "#9c179e"
             ],
             [
              0.4444444444444444,
              "#bd3786"
             ],
             [
              0.5555555555555556,
              "#d8576b"
             ],
             [
              0.6666666666666666,
              "#ed7953"
             ],
             [
              0.7777777777777778,
              "#fb9f3a"
             ],
             [
              0.8888888888888888,
              "#fdca26"
             ],
             [
              1,
              "#f0f921"
             ]
            ],
            "type": "heatmap"
           }
          ],
          "heatmapgl": [
           {
            "colorbar": {
             "outlinewidth": 0,
             "ticks": ""
            },
            "colorscale": [
             [
              0,
              "#0d0887"
             ],
             [
              0.1111111111111111,
              "#46039f"
             ],
             [
              0.2222222222222222,
              "#7201a8"
             ],
             [
              0.3333333333333333,
              "#9c179e"
             ],
             [
              0.4444444444444444,
              "#bd3786"
             ],
             [
              0.5555555555555556,
              "#d8576b"
             ],
             [
              0.6666666666666666,
              "#ed7953"
             ],
             [
              0.7777777777777778,
              "#fb9f3a"
             ],
             [
              0.8888888888888888,
              "#fdca26"
             ],
             [
              1,
              "#f0f921"
             ]
            ],
            "type": "heatmapgl"
           }
          ],
          "histogram": [
           {
            "marker": {
             "pattern": {
              "fillmode": "overlay",
              "size": 10,
              "solidity": 0.2
             }
            },
            "type": "histogram"
           }
          ],
          "histogram2d": [
           {
            "colorbar": {
             "outlinewidth": 0,
             "ticks": ""
            },
            "colorscale": [
             [
              0,
              "#0d0887"
             ],
             [
              0.1111111111111111,
              "#46039f"
             ],
             [
              0.2222222222222222,
              "#7201a8"
             ],
             [
              0.3333333333333333,
              "#9c179e"
             ],
             [
              0.4444444444444444,
              "#bd3786"
             ],
             [
              0.5555555555555556,
              "#d8576b"
             ],
             [
              0.6666666666666666,
              "#ed7953"
             ],
             [
              0.7777777777777778,
              "#fb9f3a"
             ],
             [
              0.8888888888888888,
              "#fdca26"
             ],
             [
              1,
              "#f0f921"
             ]
            ],
            "type": "histogram2d"
           }
          ],
          "histogram2dcontour": [
           {
            "colorbar": {
             "outlinewidth": 0,
             "ticks": ""
            },
            "colorscale": [
             [
              0,
              "#0d0887"
             ],
             [
              0.1111111111111111,
              "#46039f"
             ],
             [
              0.2222222222222222,
              "#7201a8"
             ],
             [
              0.3333333333333333,
              "#9c179e"
             ],
             [
              0.4444444444444444,
              "#bd3786"
             ],
             [
              0.5555555555555556,
              "#d8576b"
             ],
             [
              0.6666666666666666,
              "#ed7953"
             ],
             [
              0.7777777777777778,
              "#fb9f3a"
             ],
             [
              0.8888888888888888,
              "#fdca26"
             ],
             [
              1,
              "#f0f921"
             ]
            ],
            "type": "histogram2dcontour"
           }
          ],
          "mesh3d": [
           {
            "colorbar": {
             "outlinewidth": 0,
             "ticks": ""
            },
            "type": "mesh3d"
           }
          ],
          "parcoords": [
           {
            "line": {
             "colorbar": {
              "outlinewidth": 0,
              "ticks": ""
             }
            },
            "type": "parcoords"
           }
          ],
          "pie": [
           {
            "automargin": true,
            "type": "pie"
           }
          ],
          "scatter": [
           {
            "fillpattern": {
             "fillmode": "overlay",
             "size": 10,
             "solidity": 0.2
            },
            "type": "scatter"
           }
          ],
          "scatter3d": [
           {
            "line": {
             "colorbar": {
              "outlinewidth": 0,
              "ticks": ""
             }
            },
            "marker": {
             "colorbar": {
              "outlinewidth": 0,
              "ticks": ""
             }
            },
            "type": "scatter3d"
           }
          ],
          "scattercarpet": [
           {
            "marker": {
             "colorbar": {
              "outlinewidth": 0,
              "ticks": ""
             }
            },
            "type": "scattercarpet"
           }
          ],
          "scattergeo": [
           {
            "marker": {
             "colorbar": {
              "outlinewidth": 0,
              "ticks": ""
             }
            },
            "type": "scattergeo"
           }
          ],
          "scattergl": [
           {
            "marker": {
             "colorbar": {
              "outlinewidth": 0,
              "ticks": ""
             }
            },
            "type": "scattergl"
           }
          ],
          "scattermapbox": [
           {
            "marker": {
             "colorbar": {
              "outlinewidth": 0,
              "ticks": ""
             }
            },
            "type": "scattermapbox"
           }
          ],
          "scatterpolar": [
           {
            "marker": {
             "colorbar": {
              "outlinewidth": 0,
              "ticks": ""
             }
            },
            "type": "scatterpolar"
           }
          ],
          "scatterpolargl": [
           {
            "marker": {
             "colorbar": {
              "outlinewidth": 0,
              "ticks": ""
             }
            },
            "type": "scatterpolargl"
           }
          ],
          "scatterternary": [
           {
            "marker": {
             "colorbar": {
              "outlinewidth": 0,
              "ticks": ""
             }
            },
            "type": "scatterternary"
           }
          ],
          "surface": [
           {
            "colorbar": {
             "outlinewidth": 0,
             "ticks": ""
            },
            "colorscale": [
             [
              0,
              "#0d0887"
             ],
             [
              0.1111111111111111,
              "#46039f"
             ],
             [
              0.2222222222222222,
              "#7201a8"
             ],
             [
              0.3333333333333333,
              "#9c179e"
             ],
             [
              0.4444444444444444,
              "#bd3786"
             ],
             [
              0.5555555555555556,
              "#d8576b"
             ],
             [
              0.6666666666666666,
              "#ed7953"
             ],
             [
              0.7777777777777778,
              "#fb9f3a"
             ],
             [
              0.8888888888888888,
              "#fdca26"
             ],
             [
              1,
              "#f0f921"
             ]
            ],
            "type": "surface"
           }
          ],
          "table": [
           {
            "cells": {
             "fill": {
              "color": "#EBF0F8"
             },
             "line": {
              "color": "white"
             }
            },
            "header": {
             "fill": {
              "color": "#C8D4E3"
             },
             "line": {
              "color": "white"
             }
            },
            "type": "table"
           }
          ]
         },
         "layout": {
          "annotationdefaults": {
           "arrowcolor": "#2a3f5f",
           "arrowhead": 0,
           "arrowwidth": 1
          },
          "autotypenumbers": "strict",
          "coloraxis": {
           "colorbar": {
            "outlinewidth": 0,
            "ticks": ""
           }
          },
          "colorscale": {
           "diverging": [
            [
             0,
             "#8e0152"
            ],
            [
             0.1,
             "#c51b7d"
            ],
            [
             0.2,
             "#de77ae"
            ],
            [
             0.3,
             "#f1b6da"
            ],
            [
             0.4,
             "#fde0ef"
            ],
            [
             0.5,
             "#f7f7f7"
            ],
            [
             0.6,
             "#e6f5d0"
            ],
            [
             0.7,
             "#b8e186"
            ],
            [
             0.8,
             "#7fbc41"
            ],
            [
             0.9,
             "#4d9221"
            ],
            [
             1,
             "#276419"
            ]
           ],
           "sequential": [
            [
             0,
             "#0d0887"
            ],
            [
             0.1111111111111111,
             "#46039f"
            ],
            [
             0.2222222222222222,
             "#7201a8"
            ],
            [
             0.3333333333333333,
             "#9c179e"
            ],
            [
             0.4444444444444444,
             "#bd3786"
            ],
            [
             0.5555555555555556,
             "#d8576b"
            ],
            [
             0.6666666666666666,
             "#ed7953"
            ],
            [
             0.7777777777777778,
             "#fb9f3a"
            ],
            [
             0.8888888888888888,
             "#fdca26"
            ],
            [
             1,
             "#f0f921"
            ]
           ],
           "sequentialminus": [
            [
             0,
             "#0d0887"
            ],
            [
             0.1111111111111111,
             "#46039f"
            ],
            [
             0.2222222222222222,
             "#7201a8"
            ],
            [
             0.3333333333333333,
             "#9c179e"
            ],
            [
             0.4444444444444444,
             "#bd3786"
            ],
            [
             0.5555555555555556,
             "#d8576b"
            ],
            [
             0.6666666666666666,
             "#ed7953"
            ],
            [
             0.7777777777777778,
             "#fb9f3a"
            ],
            [
             0.8888888888888888,
             "#fdca26"
            ],
            [
             1,
             "#f0f921"
            ]
           ]
          },
          "colorway": [
           "#636efa",
           "#EF553B",
           "#00cc96",
           "#ab63fa",
           "#FFA15A",
           "#19d3f3",
           "#FF6692",
           "#B6E880",
           "#FF97FF",
           "#FECB52"
          ],
          "font": {
           "color": "#2a3f5f"
          },
          "geo": {
           "bgcolor": "white",
           "lakecolor": "white",
           "landcolor": "#E5ECF6",
           "showlakes": true,
           "showland": true,
           "subunitcolor": "white"
          },
          "hoverlabel": {
           "align": "left"
          },
          "hovermode": "closest",
          "mapbox": {
           "style": "light"
          },
          "paper_bgcolor": "white",
          "plot_bgcolor": "#E5ECF6",
          "polar": {
           "angularaxis": {
            "gridcolor": "white",
            "linecolor": "white",
            "ticks": ""
           },
           "bgcolor": "#E5ECF6",
           "radialaxis": {
            "gridcolor": "white",
            "linecolor": "white",
            "ticks": ""
           }
          },
          "scene": {
           "xaxis": {
            "backgroundcolor": "#E5ECF6",
            "gridcolor": "white",
            "gridwidth": 2,
            "linecolor": "white",
            "showbackground": true,
            "ticks": "",
            "zerolinecolor": "white"
           },
           "yaxis": {
            "backgroundcolor": "#E5ECF6",
            "gridcolor": "white",
            "gridwidth": 2,
            "linecolor": "white",
            "showbackground": true,
            "ticks": "",
            "zerolinecolor": "white"
           },
           "zaxis": {
            "backgroundcolor": "#E5ECF6",
            "gridcolor": "white",
            "gridwidth": 2,
            "linecolor": "white",
            "showbackground": true,
            "ticks": "",
            "zerolinecolor": "white"
           }
          },
          "shapedefaults": {
           "line": {
            "color": "#2a3f5f"
           }
          },
          "ternary": {
           "aaxis": {
            "gridcolor": "white",
            "linecolor": "white",
            "ticks": ""
           },
           "baxis": {
            "gridcolor": "white",
            "linecolor": "white",
            "ticks": ""
           },
           "bgcolor": "#E5ECF6",
           "caxis": {
            "gridcolor": "white",
            "linecolor": "white",
            "ticks": ""
           }
          },
          "title": {
           "x": 0.05
          },
          "xaxis": {
           "automargin": true,
           "gridcolor": "white",
           "linecolor": "white",
           "ticks": "",
           "title": {
            "standoff": 15
           },
           "zerolinecolor": "white",
           "zerolinewidth": 2
          },
          "yaxis": {
           "automargin": true,
           "gridcolor": "white",
           "linecolor": "white",
           "ticks": "",
           "title": {
            "standoff": 15
           },
           "zerolinecolor": "white",
           "zerolinewidth": 2
          }
         }
        },
        "title": {
         "font": {
          "size": 22
         },
         "text": "Distribution of Guesses with 'later' as Starting Word"
        },
        "xaxis": {
         "anchor": "y",
         "domain": [
          0,
          1
         ],
         "title": {
          "text": "Number of Guesses"
         }
        },
        "yaxis": {
         "anchor": "x",
         "domain": [
          0,
          1
         ],
         "title": {
          "text": "count"
         }
        }
       }
      }
     },
     "metadata": {},
     "output_type": "display_data"
    },
    {
     "data": {
      "application/vnd.plotly.v1+json": {
       "config": {
        "plotlyServerURL": "https://plot.ly"
       },
       "data": [
        {
         "alignmentgroup": "True",
         "bingroup": "x",
         "hovertemplate": "Number of Guesses=%{x}<br>count=%{y}<extra></extra>",
         "legendgroup": "",
         "marker": {
          "color": "#6ca965",
          "pattern": {
           "shape": ""
          }
         },
         "name": "",
         "offsetgroup": "",
         "orientation": "v",
         "showlegend": false,
         "type": "histogram",
         "x": [
          5,
          3,
          6,
          4,
          5,
          3,
          3,
          6,
          3,
          2,
          4,
          6,
          6,
          4,
          5,
          4,
          4,
          6,
          3,
          4,
          4,
          4,
          6,
          4,
          4,
          4,
          5,
          4,
          4,
          4,
          4,
          7,
          5,
          5,
          4,
          6,
          5,
          4,
          3,
          5,
          4,
          4,
          4,
          3,
          4,
          4,
          3,
          4,
          4,
          4,
          6,
          4,
          4,
          3,
          5,
          4,
          5,
          3,
          4,
          7,
          4,
          5,
          5,
          4,
          4,
          5,
          4,
          3,
          6,
          4,
          3,
          5,
          4,
          6,
          4,
          4,
          5,
          5,
          5,
          6,
          6,
          4,
          5,
          3,
          4,
          6,
          3,
          6,
          3,
          3,
          3,
          6,
          3,
          4,
          4,
          4,
          5,
          5,
          6,
          6,
          5,
          4,
          5,
          5,
          4,
          4,
          4,
          4,
          3,
          5,
          5,
          5,
          5,
          3,
          5,
          4,
          4,
          3,
          4,
          3,
          2,
          3,
          4,
          4,
          5,
          4,
          5,
          4,
          5,
          4,
          4,
          5,
          2,
          3,
          3,
          4,
          3,
          6,
          6,
          4,
          5,
          5,
          5,
          5,
          5,
          5,
          4,
          6,
          5,
          5,
          4,
          5,
          4,
          3,
          2,
          3,
          3,
          4,
          7,
          4,
          5,
          3,
          2,
          4,
          4,
          5,
          3,
          5,
          4,
          3,
          5,
          4,
          6,
          5,
          4,
          4,
          4,
          4,
          4,
          5,
          4,
          5,
          6,
          3,
          3,
          4,
          5,
          4,
          5,
          5,
          4,
          3,
          4,
          3,
          3,
          4,
          4,
          5,
          5,
          4,
          4,
          4,
          4,
          4,
          5,
          5,
          5,
          3,
          5,
          5,
          5,
          3,
          5,
          5,
          4,
          4,
          7,
          5,
          4,
          5,
          4,
          5,
          4,
          4,
          3,
          4,
          5,
          4,
          4,
          5,
          4,
          4,
          5,
          3,
          6,
          3,
          6,
          5,
          5,
          5,
          3,
          5,
          4,
          5,
          6,
          4,
          3,
          4,
          5,
          4,
          4,
          5,
          4,
          3,
          4,
          4,
          5,
          4,
          3,
          4,
          5,
          6,
          3,
          3,
          4,
          4,
          4,
          3,
          4,
          3,
          4,
          4,
          5,
          4,
          3,
          5,
          5,
          5,
          3,
          6,
          4,
          5,
          5,
          4,
          5,
          5,
          3,
          4,
          4,
          3,
          5,
          5,
          6,
          5,
          5,
          4,
          4,
          5,
          5,
          2,
          2,
          5,
          4,
          3,
          4,
          4,
          4,
          5,
          5,
          5,
          6,
          5,
          5,
          5,
          3,
          5,
          5,
          4,
          3,
          4,
          3,
          4,
          7,
          4,
          4,
          4,
          6,
          6,
          4,
          4,
          5,
          4,
          4,
          6,
          4,
          4,
          3,
          5,
          3,
          4,
          5,
          4,
          3,
          5,
          4,
          4,
          5,
          4,
          6,
          6,
          4,
          4,
          6,
          4,
          4,
          4,
          4,
          3,
          4,
          5,
          4,
          4,
          7,
          4,
          5,
          5,
          4,
          3,
          5,
          6,
          5,
          4,
          4,
          3,
          4,
          4,
          4,
          3,
          5,
          7,
          4,
          4,
          6,
          6,
          4,
          4,
          3,
          4,
          4,
          5,
          4,
          4,
          4,
          3,
          5,
          5,
          4,
          5,
          5,
          6,
          3,
          3,
          4,
          3,
          3,
          5,
          6,
          4,
          5,
          5,
          2,
          4,
          4,
          3,
          4,
          5,
          4,
          4,
          4,
          4,
          4,
          4,
          4,
          2,
          7,
          8,
          6,
          4,
          5,
          8,
          5,
          4,
          2,
          3,
          5,
          4,
          4,
          3,
          5,
          5,
          4,
          3,
          4,
          5,
          4,
          3,
          4,
          4,
          5,
          5,
          4,
          5,
          5,
          3,
          5,
          5,
          4,
          3,
          4,
          5,
          4,
          4,
          3,
          3,
          3,
          6,
          5,
          4,
          6,
          4,
          3,
          4,
          3,
          4,
          5,
          4,
          3,
          4,
          4,
          4,
          5,
          4,
          5,
          5,
          8,
          3,
          4,
          4,
          4,
          4,
          4,
          5,
          5,
          4,
          4,
          5,
          4,
          4,
          4,
          4,
          4,
          3,
          3,
          5,
          3,
          3,
          5,
          3,
          5,
          4,
          3,
          4,
          5,
          4,
          5,
          3,
          3,
          4,
          4,
          5,
          6,
          5,
          4,
          5,
          3,
          4,
          5,
          6,
          6,
          3,
          3,
          4,
          3,
          4,
          3,
          4,
          7,
          3,
          3,
          5,
          3,
          4,
          5,
          3,
          3,
          4,
          4,
          5,
          5,
          4,
          3,
          4,
          4,
          5,
          5,
          4,
          5,
          4,
          4,
          3,
          4,
          7,
          4,
          5,
          4,
          3,
          5,
          4,
          3,
          6,
          5,
          3,
          3,
          4,
          4,
          5,
          4,
          4,
          5,
          3,
          6,
          3,
          3,
          5,
          5,
          3,
          3,
          4,
          5,
          4,
          4,
          5,
          5,
          4,
          3,
          2,
          4,
          4,
          5,
          5,
          5,
          4,
          4,
          4,
          4,
          4,
          5,
          5,
          5,
          6,
          4,
          4,
          3,
          8,
          5,
          4,
          4,
          4,
          5,
          4,
          5,
          5,
          5,
          5,
          3,
          4,
          3,
          3,
          5,
          5,
          4,
          4,
          6,
          4,
          6,
          4,
          5,
          5,
          4,
          5,
          3,
          6,
          4,
          4,
          5,
          4,
          4,
          4,
          5,
          6,
          4,
          4,
          5,
          5,
          4,
          4,
          4,
          9,
          4,
          5,
          4,
          4,
          5,
          3,
          5,
          5,
          3,
          6,
          3,
          5,
          4,
          4,
          5,
          4,
          4,
          4,
          4,
          5,
          4,
          4,
          4,
          4,
          3,
          3,
          4,
          4,
          5,
          5,
          3,
          4,
          4,
          4,
          5,
          5,
          5,
          6,
          4,
          5,
          5,
          4,
          3,
          5,
          4,
          4,
          4,
          6,
          4,
          5,
          5,
          4,
          5,
          5,
          6,
          4,
          4,
          5,
          4,
          4,
          5,
          5,
          3,
          4,
          4,
          4,
          4,
          4,
          5,
          4,
          4,
          4,
          4,
          4,
          4,
          5,
          4,
          4,
          7,
          5,
          6,
          5,
          4,
          5,
          5,
          4,
          4,
          5,
          5,
          4,
          3,
          6,
          5,
          4,
          3,
          4,
          3,
          4,
          3,
          5,
          3,
          4,
          4,
          4,
          4,
          6,
          5,
          4,
          4,
          5,
          5,
          5,
          4,
          5,
          4,
          4,
          6,
          5,
          4,
          5,
          3,
          7,
          5,
          5,
          3,
          4,
          4,
          4,
          4,
          3,
          3,
          4,
          3,
          3,
          6,
          3,
          5,
          4,
          5,
          5,
          3,
          5,
          4,
          5,
          3,
          5,
          6,
          4,
          4,
          3,
          3,
          5,
          5,
          3,
          3,
          5,
          6,
          6,
          2,
          4,
          5,
          4,
          3,
          3,
          7,
          3,
          4,
          4,
          5,
          5,
          6,
          4,
          4,
          4,
          4,
          4,
          7,
          2,
          5,
          2,
          5,
          4,
          4,
          5,
          5,
          3,
          3,
          5,
          5,
          4,
          5,
          3,
          5,
          5,
          5,
          4,
          5,
          3,
          4,
          5,
          4,
          3,
          4,
          4,
          4,
          5,
          5,
          3,
          5,
          5,
          4,
          5,
          5,
          6,
          6,
          4,
          6,
          4,
          6,
          4,
          5,
          6,
          4,
          3,
          5,
          5,
          5,
          4,
          4,
          5,
          4,
          5,
          6,
          5,
          6,
          5,
          5,
          9,
          4,
          5,
          4,
          5,
          3,
          4,
          3,
          5,
          6,
          4,
          4,
          4,
          5,
          5,
          5,
          4,
          3,
          4,
          4,
          4,
          3,
          4,
          5,
          5,
          5,
          5,
          7,
          3,
          4,
          6,
          5,
          4,
          6,
          3,
          4,
          4,
          4,
          5,
          6,
          3,
          5,
          4,
          4,
          2,
          3,
          4,
          6,
          4,
          3,
          6,
          4,
          5,
          5,
          5,
          4,
          6,
          4,
          5,
          4,
          5,
          2,
          3,
          4,
          5,
          4,
          5,
          4,
          4,
          4,
          6,
          4,
          6,
          4,
          4,
          2,
          4,
          4,
          5,
          5,
          4,
          4,
          5,
          7,
          4,
          5,
          5,
          5,
          4,
          5,
          3,
          4,
          6,
          5,
          3,
          5,
          4,
          4,
          3,
          3,
          4,
          5,
          4,
          4,
          5,
          8,
          7,
          3,
          5,
          5,
          3,
          3,
          4,
          4,
          5,
          4,
          5,
          4,
          4,
          5,
          4,
          3,
          3,
          4,
          4,
          5,
          4,
          4,
          5,
          4,
          5,
          7,
          4,
          4,
          3,
          5,
          5,
          3,
          6,
          5,
          6,
          5,
          4,
          5,
          5,
          5,
          5,
          3,
          3,
          4,
          3,
          3,
          5,
          4,
          4,
          5,
          5,
          3,
          5,
          4,
          5,
          3,
          4,
          3,
          4,
          4,
          5,
          4,
          3,
          8,
          4,
          5,
          5,
          4,
          4,
          5,
          5,
          5,
          4,
          5,
          4,
          5,
          4,
          3,
          4,
          5,
          5,
          4,
          5,
          4,
          5,
          3,
          4,
          5,
          5,
          4,
          5,
          3,
          6,
          4,
          4,
          4,
          5,
          5,
          5,
          4,
          4,
          4,
          5,
          5,
          4,
          3,
          5,
          4,
          5,
          4,
          4,
          5,
          4,
          5,
          1,
          3,
          5,
          5,
          4,
          5,
          5,
          3,
          4,
          5,
          7,
          4,
          5,
          6,
          4,
          4,
          5,
          3,
          5,
          4,
          4,
          4,
          4,
          4,
          4,
          5,
          5,
          6,
          4,
          4,
          5,
          4,
          7,
          4,
          4,
          3,
          4,
          5,
          5,
          4,
          4,
          4,
          4,
          4,
          2,
          3,
          4,
          4,
          3,
          5,
          3,
          4,
          4,
          5,
          6,
          5,
          4,
          4,
          3,
          4,
          2,
          4,
          4,
          3,
          4,
          5,
          4,
          5,
          7,
          6,
          5,
          4,
          5,
          6,
          4,
          3,
          6,
          3,
          4,
          4,
          5,
          5,
          4,
          4,
          4,
          6,
          6,
          5,
          4,
          6,
          4,
          4,
          5,
          4,
          4,
          5,
          5,
          4,
          4,
          4,
          4,
          5,
          4,
          4,
          5,
          4,
          3,
          6,
          4,
          5,
          4,
          5,
          5,
          4,
          5,
          5,
          4,
          4,
          5,
          5,
          5,
          2,
          6,
          4,
          4,
          3,
          3,
          3,
          5,
          6,
          5,
          7,
          5,
          4,
          6,
          3,
          3,
          3,
          6,
          3,
          5,
          5,
          4,
          2,
          5,
          5,
          3,
          3,
          4,
          6,
          4,
          3,
          4,
          5,
          5,
          5,
          7,
          5,
          3,
          4,
          4,
          6,
          3,
          5,
          6,
          7,
          6,
          4,
          4,
          7,
          3,
          5,
          4,
          5,
          5,
          6,
          3,
          4,
          6,
          5,
          3,
          2,
          5,
          4,
          5,
          4,
          4,
          5,
          5,
          6,
          6,
          4,
          6,
          5,
          5,
          4,
          5,
          3,
          4,
          6,
          3,
          5,
          3,
          5,
          4,
          3,
          3,
          6,
          3,
          4,
          5,
          4,
          4,
          3,
          3,
          4,
          4,
          4,
          6,
          7,
          4,
          4,
          5,
          5,
          5,
          5,
          4,
          4,
          4,
          6,
          4,
          7,
          3,
          5,
          5,
          4,
          5,
          5,
          3,
          3,
          3,
          5,
          3,
          5,
          4,
          5,
          5,
          4,
          4,
          5,
          6,
          5,
          4,
          4,
          5,
          5,
          4,
          4,
          5,
          5,
          3,
          5,
          3,
          5,
          3,
          4,
          4,
          4,
          4,
          4,
          3,
          4,
          4,
          6,
          4,
          4,
          5,
          4,
          5,
          4,
          5,
          5,
          7,
          4,
          4,
          4,
          3,
          3,
          3,
          5,
          4,
          4,
          4,
          5,
          4,
          4,
          3,
          5,
          6,
          6,
          5,
          4,
          3,
          4,
          4,
          3,
          4,
          3,
          6,
          4,
          3,
          4,
          4,
          3,
          4,
          6,
          4,
          3,
          4,
          5,
          6,
          5,
          5,
          4,
          6,
          4,
          5,
          3,
          3,
          3,
          4,
          5,
          5,
          5,
          4,
          5,
          6,
          5,
          3,
          4,
          5,
          4,
          6,
          4,
          4,
          5,
          4,
          4,
          7,
          5,
          3,
          5,
          5,
          5,
          5,
          5,
          4,
          4,
          6,
          4,
          3,
          4,
          4,
          5,
          6,
          8,
          5,
          4,
          5,
          5,
          3,
          5,
          4,
          6,
          4,
          6,
          5,
          5,
          4,
          4,
          3,
          5,
          4,
          4,
          4,
          4,
          3,
          6,
          4,
          5,
          3,
          3,
          4,
          4,
          8,
          5,
          4,
          2,
          5,
          5,
          3,
          5,
          4,
          4,
          4,
          3,
          4,
          3,
          5,
          6,
          5,
          5,
          4,
          5,
          3,
          4,
          3,
          4,
          4,
          5,
          4,
          3,
          4,
          5,
          3,
          4,
          4,
          4,
          4,
          5,
          3,
          4,
          6,
          5,
          4,
          4,
          3,
          6,
          5,
          5,
          5,
          4,
          4,
          5,
          4,
          2,
          5,
          7,
          5,
          5,
          4,
          5,
          5,
          4,
          4,
          5,
          3,
          3,
          4,
          4,
          6,
          4,
          5,
          3,
          3,
          4,
          4,
          4,
          4,
          5,
          5,
          4,
          4,
          4,
          3,
          4,
          4,
          3,
          4,
          6,
          4,
          4,
          6,
          6,
          6,
          8,
          5,
          3,
          4,
          5,
          4,
          4,
          4,
          4,
          4,
          3,
          5,
          6,
          4,
          6,
          4,
          4,
          4,
          4,
          5,
          4,
          6,
          6,
          5,
          4,
          3,
          5,
          3,
          3,
          4,
          2,
          5,
          5,
          3,
          4,
          5,
          5,
          4,
          4,
          5,
          3,
          4,
          6,
          4,
          4,
          5,
          4,
          5,
          4,
          4,
          5,
          4,
          4,
          6,
          3,
          4,
          4,
          3,
          5,
          4,
          4,
          4,
          4,
          3,
          4,
          4,
          4,
          4,
          4,
          6,
          4,
          4,
          5,
          4,
          6,
          5,
          5,
          4,
          4,
          5,
          5,
          7,
          4,
          3,
          4,
          4,
          3,
          3,
          4,
          4,
          5,
          4,
          4,
          6,
          3,
          4,
          5,
          5,
          4,
          5,
          4,
          4,
          4,
          5,
          5,
          5,
          5,
          3,
          3,
          5,
          4,
          4,
          5,
          5,
          4,
          4,
          4,
          4,
          3,
          5,
          4,
          6,
          2,
          3,
          5,
          4,
          5,
          4,
          4,
          4,
          4,
          5,
          4,
          3,
          5,
          4,
          4,
          3,
          4,
          4,
          5,
          5,
          4,
          3,
          5,
          5,
          4,
          7,
          3,
          2,
          4,
          8,
          3,
          5,
          5,
          3,
          5,
          5,
          5,
          6,
          4,
          6,
          6,
          8,
          4,
          5,
          5,
          3,
          3,
          5,
          6,
          4,
          4,
          3,
          4,
          3,
          3,
          5,
          4,
          3,
          4,
          4,
          5,
          3,
          4,
          5,
          4,
          3,
          4,
          3,
          5,
          4,
          8,
          5,
          4,
          6,
          8,
          3,
          4,
          5,
          8,
          4,
          4,
          5,
          3,
          3,
          5,
          3,
          4,
          5,
          4,
          4,
          5,
          5,
          6,
          3,
          6,
          3,
          5,
          5,
          4,
          3,
          4,
          5,
          4,
          6,
          4,
          5,
          5,
          4,
          5,
          3,
          3,
          3,
          6,
          4,
          5,
          4,
          3,
          3,
          4,
          6,
          4,
          3,
          4,
          3,
          4,
          4,
          4,
          5,
          6,
          4,
          6,
          4,
          5,
          4,
          5,
          5,
          4,
          3,
          6,
          5,
          6,
          4,
          4,
          5,
          5,
          4,
          3,
          4,
          3,
          6,
          4,
          4,
          5,
          4,
          5,
          7,
          6,
          5,
          4,
          6,
          5,
          5,
          6,
          5,
          4,
          4,
          4,
          4,
          6,
          5,
          4,
          6,
          4,
          5,
          4,
          5,
          3,
          5,
          5,
          3,
          5,
          4,
          3,
          4,
          5,
          3,
          5,
          6,
          3,
          3,
          4,
          3,
          7,
          4,
          4,
          6,
          5,
          4,
          4,
          5,
          6,
          5,
          4,
          4,
          6,
          4,
          6,
          3,
          5,
          4,
          5,
          5,
          6,
          6,
          4,
          4,
          4,
          4,
          4,
          4,
          4,
          4,
          7,
          4,
          3,
          3,
          4,
          4,
          4,
          5,
          3,
          5,
          5,
          3,
          3,
          4,
          7,
          5,
          5,
          5,
          4,
          4,
          5,
          5,
          4,
          5,
          4,
          3,
          3,
          5,
          5,
          5,
          5,
          4,
          4,
          3,
          5,
          4,
          5,
          4,
          4,
          4,
          4,
          5,
          3,
          5,
          5,
          4,
          5,
          4,
          4,
          5,
          4,
          2,
          6,
          4,
          5,
          4,
          5,
          4,
          6,
          4,
          4,
          5,
          4,
          5,
          4,
          3,
          3,
          4,
          4,
          5,
          5,
          4,
          6,
          4,
          3,
          4,
          5,
          4,
          4,
          5,
          4,
          4,
          4,
          5,
          5,
          5,
          5,
          5,
          4,
          5,
          3,
          3,
          4,
          5,
          4,
          4,
          4,
          5,
          4,
          4,
          4,
          5,
          6,
          3,
          5,
          4,
          5,
          3,
          4,
          7,
          5,
          4,
          4,
          5,
          5,
          4,
          3,
          2,
          4,
          4,
          5,
          5,
          4,
          6,
          3,
          4,
          4,
          5,
          5,
          4,
          4,
          3,
          4,
          5,
          4,
          4,
          5,
          5,
          4,
          3,
          4,
          4,
          4,
          3,
          4,
          5,
          4,
          4,
          5,
          4,
          4,
          6,
          3,
          6,
          3,
          6,
          5,
          3,
          3,
          6,
          4,
          7,
          4,
          5,
          5,
          5,
          3,
          4,
          3,
          3,
          4,
          6,
          4,
          4,
          3,
          4,
          4,
          4,
          5,
          4,
          7,
          5,
          4,
          3,
          5,
          4,
          5,
          5,
          4,
          3,
          5,
          4,
          4,
          6,
          4,
          7,
          4,
          4,
          4,
          4,
          5,
          5,
          4,
          4,
          3,
          3,
          3,
          4,
          6,
          4,
          4,
          6,
          4,
          4,
          4,
          7,
          2,
          3,
          6,
          5,
          2,
          5,
          4,
          4,
          3,
          5,
          5,
          3,
          5,
          6,
          4,
          4,
          5,
          5,
          6,
          4,
          5,
          5,
          5,
          4,
          5,
          5,
          6,
          5,
          3,
          5,
          6,
          5,
          4,
          5,
          4,
          4,
          4,
          4,
          6,
          4,
          5,
          4,
          5,
          5,
          4,
          3,
          4,
          4,
          5,
          3,
          5,
          5,
          3,
          5,
          4,
          4,
          7,
          6,
          4,
          5,
          4,
          4,
          3,
          4,
          4,
          4,
          4,
          4,
          5,
          4,
          4,
          5,
          4,
          6,
          3,
          6,
          4,
          5,
          4,
          4,
          4,
          4,
          4,
          6,
          4,
          4,
          4,
          3,
          7,
          4,
          5,
          5,
          4,
          2,
          4,
          5,
          5,
          4,
          4,
          5,
          7,
          5,
          3,
          5,
          4,
          6,
          4,
          5,
          2,
          5,
          4,
          4,
          5,
          3,
          4,
          5,
          4,
          4,
          4,
          5,
          5,
          5,
          5,
          5,
          4,
          3,
          3,
          5,
          3,
          4,
          4,
          4,
          6,
          4,
          5,
          4,
          5,
          5,
          6,
          4,
          3,
          5,
          4,
          5,
          5,
          4,
          4,
          4,
          3,
          5
         ],
         "xaxis": "x",
         "yaxis": "y"
        }
       ],
       "layout": {
        "annotations": [
         {
          "font": {
           "color": "black",
           "size": 20
          },
          "showarrow": false,
          "text": "Mean = 4.36",
          "x": 4.36,
          "xanchor": "left",
          "xref": "x",
          "y": 0.5,
          "yanchor": "middle",
          "yref": "y domain"
         }
        ],
        "barmode": "relative",
        "legend": {
         "tracegroupgap": 0
        },
        "shapes": [
         {
          "line": {
           "color": "black",
           "dash": "dot",
           "width": 4
          },
          "type": "line",
          "x0": 4.36,
          "x1": 4.36,
          "xref": "x",
          "y0": 0,
          "y1": 1,
          "yref": "y domain"
         }
        ],
        "template": {
         "data": {
          "bar": [
           {
            "error_x": {
             "color": "#2a3f5f"
            },
            "error_y": {
             "color": "#2a3f5f"
            },
            "marker": {
             "line": {
              "color": "#E5ECF6",
              "width": 0.5
             },
             "pattern": {
              "fillmode": "overlay",
              "size": 10,
              "solidity": 0.2
             }
            },
            "type": "bar"
           }
          ],
          "barpolar": [
           {
            "marker": {
             "line": {
              "color": "#E5ECF6",
              "width": 0.5
             },
             "pattern": {
              "fillmode": "overlay",
              "size": 10,
              "solidity": 0.2
             }
            },
            "type": "barpolar"
           }
          ],
          "carpet": [
           {
            "aaxis": {
             "endlinecolor": "#2a3f5f",
             "gridcolor": "white",
             "linecolor": "white",
             "minorgridcolor": "white",
             "startlinecolor": "#2a3f5f"
            },
            "baxis": {
             "endlinecolor": "#2a3f5f",
             "gridcolor": "white",
             "linecolor": "white",
             "minorgridcolor": "white",
             "startlinecolor": "#2a3f5f"
            },
            "type": "carpet"
           }
          ],
          "choropleth": [
           {
            "colorbar": {
             "outlinewidth": 0,
             "ticks": ""
            },
            "type": "choropleth"
           }
          ],
          "contour": [
           {
            "colorbar": {
             "outlinewidth": 0,
             "ticks": ""
            },
            "colorscale": [
             [
              0,
              "#0d0887"
             ],
             [
              0.1111111111111111,
              "#46039f"
             ],
             [
              0.2222222222222222,
              "#7201a8"
             ],
             [
              0.3333333333333333,
              "#9c179e"
             ],
             [
              0.4444444444444444,
              "#bd3786"
             ],
             [
              0.5555555555555556,
              "#d8576b"
             ],
             [
              0.6666666666666666,
              "#ed7953"
             ],
             [
              0.7777777777777778,
              "#fb9f3a"
             ],
             [
              0.8888888888888888,
              "#fdca26"
             ],
             [
              1,
              "#f0f921"
             ]
            ],
            "type": "contour"
           }
          ],
          "contourcarpet": [
           {
            "colorbar": {
             "outlinewidth": 0,
             "ticks": ""
            },
            "type": "contourcarpet"
           }
          ],
          "heatmap": [
           {
            "colorbar": {
             "outlinewidth": 0,
             "ticks": ""
            },
            "colorscale": [
             [
              0,
              "#0d0887"
             ],
             [
              0.1111111111111111,
              "#46039f"
             ],
             [
              0.2222222222222222,
              "#7201a8"
             ],
             [
              0.3333333333333333,
              "#9c179e"
             ],
             [
              0.4444444444444444,
              "#bd3786"
             ],
             [
              0.5555555555555556,
              "#d8576b"
             ],
             [
              0.6666666666666666,
              "#ed7953"
             ],
             [
              0.7777777777777778,
              "#fb9f3a"
             ],
             [
              0.8888888888888888,
              "#fdca26"
             ],
             [
              1,
              "#f0f921"
             ]
            ],
            "type": "heatmap"
           }
          ],
          "heatmapgl": [
           {
            "colorbar": {
             "outlinewidth": 0,
             "ticks": ""
            },
            "colorscale": [
             [
              0,
              "#0d0887"
             ],
             [
              0.1111111111111111,
              "#46039f"
             ],
             [
              0.2222222222222222,
              "#7201a8"
             ],
             [
              0.3333333333333333,
              "#9c179e"
             ],
             [
              0.4444444444444444,
              "#bd3786"
             ],
             [
              0.5555555555555556,
              "#d8576b"
             ],
             [
              0.6666666666666666,
              "#ed7953"
             ],
             [
              0.7777777777777778,
              "#fb9f3a"
             ],
             [
              0.8888888888888888,
              "#fdca26"
             ],
             [
              1,
              "#f0f921"
             ]
            ],
            "type": "heatmapgl"
           }
          ],
          "histogram": [
           {
            "marker": {
             "pattern": {
              "fillmode": "overlay",
              "size": 10,
              "solidity": 0.2
             }
            },
            "type": "histogram"
           }
          ],
          "histogram2d": [
           {
            "colorbar": {
             "outlinewidth": 0,
             "ticks": ""
            },
            "colorscale": [
             [
              0,
              "#0d0887"
             ],
             [
              0.1111111111111111,
              "#46039f"
             ],
             [
              0.2222222222222222,
              "#7201a8"
             ],
             [
              0.3333333333333333,
              "#9c179e"
             ],
             [
              0.4444444444444444,
              "#bd3786"
             ],
             [
              0.5555555555555556,
              "#d8576b"
             ],
             [
              0.6666666666666666,
              "#ed7953"
             ],
             [
              0.7777777777777778,
              "#fb9f3a"
             ],
             [
              0.8888888888888888,
              "#fdca26"
             ],
             [
              1,
              "#f0f921"
             ]
            ],
            "type": "histogram2d"
           }
          ],
          "histogram2dcontour": [
           {
            "colorbar": {
             "outlinewidth": 0,
             "ticks": ""
            },
            "colorscale": [
             [
              0,
              "#0d0887"
             ],
             [
              0.1111111111111111,
              "#46039f"
             ],
             [
              0.2222222222222222,
              "#7201a8"
             ],
             [
              0.3333333333333333,
              "#9c179e"
             ],
             [
              0.4444444444444444,
              "#bd3786"
             ],
             [
              0.5555555555555556,
              "#d8576b"
             ],
             [
              0.6666666666666666,
              "#ed7953"
             ],
             [
              0.7777777777777778,
              "#fb9f3a"
             ],
             [
              0.8888888888888888,
              "#fdca26"
             ],
             [
              1,
              "#f0f921"
             ]
            ],
            "type": "histogram2dcontour"
           }
          ],
          "mesh3d": [
           {
            "colorbar": {
             "outlinewidth": 0,
             "ticks": ""
            },
            "type": "mesh3d"
           }
          ],
          "parcoords": [
           {
            "line": {
             "colorbar": {
              "outlinewidth": 0,
              "ticks": ""
             }
            },
            "type": "parcoords"
           }
          ],
          "pie": [
           {
            "automargin": true,
            "type": "pie"
           }
          ],
          "scatter": [
           {
            "fillpattern": {
             "fillmode": "overlay",
             "size": 10,
             "solidity": 0.2
            },
            "type": "scatter"
           }
          ],
          "scatter3d": [
           {
            "line": {
             "colorbar": {
              "outlinewidth": 0,
              "ticks": ""
             }
            },
            "marker": {
             "colorbar": {
              "outlinewidth": 0,
              "ticks": ""
             }
            },
            "type": "scatter3d"
           }
          ],
          "scattercarpet": [
           {
            "marker": {
             "colorbar": {
              "outlinewidth": 0,
              "ticks": ""
             }
            },
            "type": "scattercarpet"
           }
          ],
          "scattergeo": [
           {
            "marker": {
             "colorbar": {
              "outlinewidth": 0,
              "ticks": ""
             }
            },
            "type": "scattergeo"
           }
          ],
          "scattergl": [
           {
            "marker": {
             "colorbar": {
              "outlinewidth": 0,
              "ticks": ""
             }
            },
            "type": "scattergl"
           }
          ],
          "scattermapbox": [
           {
            "marker": {
             "colorbar": {
              "outlinewidth": 0,
              "ticks": ""
             }
            },
            "type": "scattermapbox"
           }
          ],
          "scatterpolar": [
           {
            "marker": {
             "colorbar": {
              "outlinewidth": 0,
              "ticks": ""
             }
            },
            "type": "scatterpolar"
           }
          ],
          "scatterpolargl": [
           {
            "marker": {
             "colorbar": {
              "outlinewidth": 0,
              "ticks": ""
             }
            },
            "type": "scatterpolargl"
           }
          ],
          "scatterternary": [
           {
            "marker": {
             "colorbar": {
              "outlinewidth": 0,
              "ticks": ""
             }
            },
            "type": "scatterternary"
           }
          ],
          "surface": [
           {
            "colorbar": {
             "outlinewidth": 0,
             "ticks": ""
            },
            "colorscale": [
             [
              0,
              "#0d0887"
             ],
             [
              0.1111111111111111,
              "#46039f"
             ],
             [
              0.2222222222222222,
              "#7201a8"
             ],
             [
              0.3333333333333333,
              "#9c179e"
             ],
             [
              0.4444444444444444,
              "#bd3786"
             ],
             [
              0.5555555555555556,
              "#d8576b"
             ],
             [
              0.6666666666666666,
              "#ed7953"
             ],
             [
              0.7777777777777778,
              "#fb9f3a"
             ],
             [
              0.8888888888888888,
              "#fdca26"
             ],
             [
              1,
              "#f0f921"
             ]
            ],
            "type": "surface"
           }
          ],
          "table": [
           {
            "cells": {
             "fill": {
              "color": "#EBF0F8"
             },
             "line": {
              "color": "white"
             }
            },
            "header": {
             "fill": {
              "color": "#C8D4E3"
             },
             "line": {
              "color": "white"
             }
            },
            "type": "table"
           }
          ]
         },
         "layout": {
          "annotationdefaults": {
           "arrowcolor": "#2a3f5f",
           "arrowhead": 0,
           "arrowwidth": 1
          },
          "autotypenumbers": "strict",
          "coloraxis": {
           "colorbar": {
            "outlinewidth": 0,
            "ticks": ""
           }
          },
          "colorscale": {
           "diverging": [
            [
             0,
             "#8e0152"
            ],
            [
             0.1,
             "#c51b7d"
            ],
            [
             0.2,
             "#de77ae"
            ],
            [
             0.3,
             "#f1b6da"
            ],
            [
             0.4,
             "#fde0ef"
            ],
            [
             0.5,
             "#f7f7f7"
            ],
            [
             0.6,
             "#e6f5d0"
            ],
            [
             0.7,
             "#b8e186"
            ],
            [
             0.8,
             "#7fbc41"
            ],
            [
             0.9,
             "#4d9221"
            ],
            [
             1,
             "#276419"
            ]
           ],
           "sequential": [
            [
             0,
             "#0d0887"
            ],
            [
             0.1111111111111111,
             "#46039f"
            ],
            [
             0.2222222222222222,
             "#7201a8"
            ],
            [
             0.3333333333333333,
             "#9c179e"
            ],
            [
             0.4444444444444444,
             "#bd3786"
            ],
            [
             0.5555555555555556,
             "#d8576b"
            ],
            [
             0.6666666666666666,
             "#ed7953"
            ],
            [
             0.7777777777777778,
             "#fb9f3a"
            ],
            [
             0.8888888888888888,
             "#fdca26"
            ],
            [
             1,
             "#f0f921"
            ]
           ],
           "sequentialminus": [
            [
             0,
             "#0d0887"
            ],
            [
             0.1111111111111111,
             "#46039f"
            ],
            [
             0.2222222222222222,
             "#7201a8"
            ],
            [
             0.3333333333333333,
             "#9c179e"
            ],
            [
             0.4444444444444444,
             "#bd3786"
            ],
            [
             0.5555555555555556,
             "#d8576b"
            ],
            [
             0.6666666666666666,
             "#ed7953"
            ],
            [
             0.7777777777777778,
             "#fb9f3a"
            ],
            [
             0.8888888888888888,
             "#fdca26"
            ],
            [
             1,
             "#f0f921"
            ]
           ]
          },
          "colorway": [
           "#636efa",
           "#EF553B",
           "#00cc96",
           "#ab63fa",
           "#FFA15A",
           "#19d3f3",
           "#FF6692",
           "#B6E880",
           "#FF97FF",
           "#FECB52"
          ],
          "font": {
           "color": "#2a3f5f"
          },
          "geo": {
           "bgcolor": "white",
           "lakecolor": "white",
           "landcolor": "#E5ECF6",
           "showlakes": true,
           "showland": true,
           "subunitcolor": "white"
          },
          "hoverlabel": {
           "align": "left"
          },
          "hovermode": "closest",
          "mapbox": {
           "style": "light"
          },
          "paper_bgcolor": "white",
          "plot_bgcolor": "#E5ECF6",
          "polar": {
           "angularaxis": {
            "gridcolor": "white",
            "linecolor": "white",
            "ticks": ""
           },
           "bgcolor": "#E5ECF6",
           "radialaxis": {
            "gridcolor": "white",
            "linecolor": "white",
            "ticks": ""
           }
          },
          "scene": {
           "xaxis": {
            "backgroundcolor": "#E5ECF6",
            "gridcolor": "white",
            "gridwidth": 2,
            "linecolor": "white",
            "showbackground": true,
            "ticks": "",
            "zerolinecolor": "white"
           },
           "yaxis": {
            "backgroundcolor": "#E5ECF6",
            "gridcolor": "white",
            "gridwidth": 2,
            "linecolor": "white",
            "showbackground": true,
            "ticks": "",
            "zerolinecolor": "white"
           },
           "zaxis": {
            "backgroundcolor": "#E5ECF6",
            "gridcolor": "white",
            "gridwidth": 2,
            "linecolor": "white",
            "showbackground": true,
            "ticks": "",
            "zerolinecolor": "white"
           }
          },
          "shapedefaults": {
           "line": {
            "color": "#2a3f5f"
           }
          },
          "ternary": {
           "aaxis": {
            "gridcolor": "white",
            "linecolor": "white",
            "ticks": ""
           },
           "baxis": {
            "gridcolor": "white",
            "linecolor": "white",
            "ticks": ""
           },
           "bgcolor": "#E5ECF6",
           "caxis": {
            "gridcolor": "white",
            "linecolor": "white",
            "ticks": ""
           }
          },
          "title": {
           "x": 0.05
          },
          "xaxis": {
           "automargin": true,
           "gridcolor": "white",
           "linecolor": "white",
           "ticks": "",
           "title": {
            "standoff": 15
           },
           "zerolinecolor": "white",
           "zerolinewidth": 2
          },
          "yaxis": {
           "automargin": true,
           "gridcolor": "white",
           "linecolor": "white",
           "ticks": "",
           "title": {
            "standoff": 15
           },
           "zerolinecolor": "white",
           "zerolinewidth": 2
          }
         }
        },
        "title": {
         "font": {
          "size": 22
         },
         "text": "Distribution of Guesses with 'fuzzy' as Starting Word"
        },
        "xaxis": {
         "anchor": "y",
         "domain": [
          0,
          1
         ],
         "title": {
          "text": "Number of Guesses"
         }
        },
        "yaxis": {
         "anchor": "x",
         "domain": [
          0,
          1
         ],
         "title": {
          "text": "count"
         }
        }
       }
      }
     },
     "metadata": {},
     "output_type": "display_data"
    }
   ],
   "source": [
    "later_guesses = sims_df.query(\"first_guess == 'later'\")[['first_guess', 'num_guesses']]\n",
    "sims_df.query(\"first_guess == 'later'\")['num_guesses'].mean() # later : ~3.81 avg guesses\n",
    "\n",
    "for word in sims_df[\"first_guess\"].unique().tolist():\n",
    "    mean_guesses = round(sims_df.query(f\"first_guess == '{word}'\")['num_guesses'].mean(), 2) # later : ~3.81 avg guesses, fuzzy : ~4.36 avg guesses\n",
    "    word_df = sims_df.query(f\"first_guess == '{word}'\")['num_guesses']\n",
    "    \n",
    "    word_df_dist_plot = px.histogram(word_df, x = \"num_guesses\", title = f\"Distribution of Guesses with '{word}' as Starting Word\",\n",
    "                                        labels = {\"num_guesses\": \"Number of Guesses\"})\n",
    "    word_df_dist_plot.add_vline(x = mean_guesses, line_width = 4, line_dash = \"dot\", line_color = \"black\",\n",
    "                                    annotation_text = f\"Mean = {mean_guesses}\", annotation_font_size = 20,\n",
    "                                    annotation_font_color = \"black\", annotation_position = \"right\")\n",
    "    word_df_dist_plot.update_layout(title_font_size = 22)\n",
    "    word_df_dist_plot.update_traces(marker_color = \"#6ca965\")\n",
    "\n",
    "    word_df_dist_plot.show()"
   ]
  }
 ],
 "metadata": {
  "kernelspec": {
   "display_name": "base",
   "language": "python",
   "name": "python3"
  },
  "language_info": {
   "codemirror_mode": {
    "name": "ipython",
    "version": 3
   },
   "file_extension": ".py",
   "mimetype": "text/x-python",
   "name": "python",
   "nbconvert_exporter": "python",
   "pygments_lexer": "ipython3",
   "version": "3.10.4"
  },
  "orig_nbformat": 4,
  "vscode": {
   "interpreter": {
    "hash": "3d597f4c481aa0f25dceb95d2a0067e73c0966dcbd003d741d821a7208527ecf"
   }
  }
 },
 "nbformat": 4,
 "nbformat_minor": 2
}
